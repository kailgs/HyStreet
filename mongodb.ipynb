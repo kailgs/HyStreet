{
 "cells": [
  {
   "cell_type": "code",
   "execution_count": null,
   "id": "92933d14",
   "metadata": {},
   "outputs": [],
   "source": [
    "import pymongo\n",
    "import pandas as pd\n",
    "import json\n",
    "import os"
   ]
  },
  {
   "cell_type": "markdown",
   "id": "cdff4415",
   "metadata": {},
   "source": [
    "# Daten einlesen"
   ]
  },
  {
   "cell_type": "markdown",
   "id": "caa8074c",
   "metadata": {},
   "source": [
    "Da alle csv-Dateien im Ordner 'data' enthalten sind, können wir mit dem Befehl ```os.listdir(PATH)``` alle Dateinamen auflisten und in der Variable *files* speichern."
   ]
  },
  {
   "cell_type": "code",
   "execution_count": null,
   "id": "d0b7a547",
   "metadata": {},
   "outputs": [],
   "source": [
    "files = [ 'data/' + x for x in os.listdir('data') ]\n",
    "files"
   ]
  },
  {
   "cell_type": "markdown",
   "id": "74418739",
   "metadata": {},
   "source": [
    "# Daten aufbereiten"
   ]
  },
  {
   "cell_type": "markdown",
   "id": "83339e2e",
   "metadata": {},
   "source": [
    "Zwar jliegen uns die Daten bereits im csv Format vor und können somit theoretisch direkt verwendet werden, für spätere Auswertungen ist es dennoch sinnvoll einige der Spalten, die aus zusammengesetzten Informationen bestehen, in ihre atomaren Bestandteile aufzuteilen und diese einzeln zu speichern.\n",
    "\n",
    "Um die Transformation der Daten durchzuführen, wird das Package *Pandas* verwendet. Wir startet mit dem Einlesen der csv Dateien in einzelne Panda-Dataframes."
   ]
  },
  {
   "cell_type": "code",
   "execution_count": null,
   "id": "6e5d0bc6",
   "metadata": {},
   "outputs": [],
   "source": [
    "data = [ pd.read_csv(x, delimiter=';') for x in files ] # Stadt1 in data[0], Stadt2 in data[1] ...\n",
    "data[0].head()"
   ]
  },
  {
   "cell_type": "markdown",
   "id": "1842733a",
   "metadata": {},
   "source": [
    "Aufgespaltet werden demnach also die beiden Spalten **location** und **time of measurement**.\n",
    "\n",
    "Die Daten der Spalte **location** bestehen jeweils immer aus zwei Informationen: Dem Ort der Messung und die dazugehörige Stadt. Separiert werden diese durch ein Komma. Da unabhängig vom Namen des Ortes oder Stadt in den Zellen jeweils immer nur ein Komma zu finden ist, können wir die von Pandas zur Verfügung gestellte Funktion ```DATAFRAME.str.split()``` verwenden, die die Werte anhand eines gegeben Strings separiert und daraus neue Spalten erstellt."
   ]
  },
  {
   "cell_type": "code",
   "execution_count": null,
   "id": "d4490861",
   "metadata": {},
   "outputs": [],
   "source": [
    "def separateLocation(data):\n",
    "    '''Separate location into [location, city]'''\n",
    "    for i in range(len(data)):\n",
    "        data[i][['location', 'city']] = data[i]['location'].str.split(\",\", expand=True)\n",
    "    return data"
   ]
  },
  {
   "cell_type": "markdown",
   "id": "ba9dc09d",
   "metadata": {},
   "source": [
    "Die zweite zu separierende Information liegt in der Spalte **time of measurement**. Hier enthalten sind sowohl nützliche, als auch für uns nicht weiter wichtige Informationen.\n",
    "\n",
    "Die Spalte selbst besteht wiederum aus drei Informationen: Dem Datum, der Uhrzeit und der Zeitzone, auf welche die Zeitangabe bezogen ist. Diese Daten sind mit Leerzeichen separiert, wir gehen also ähnlich wie mit der Spalte **location** vor und spalten die Information in ihre Bestandteile auf. Um leichter mit den Datums- und Zeitangaben arbeiten zu können, spalten wir diese ebenso auf."
   ]
  },
  {
   "cell_type": "code",
   "execution_count": null,
   "id": "85799939",
   "metadata": {},
   "outputs": [],
   "source": [
    "def separateTime(data):\n",
    "    '''Separate time of measurement into [year, month, day, hour, minute, second, timezone]'''\n",
    "    for i in range(len(data)):\n",
    "        data[i][['date','time', 'timezone']]= data[i][\"time of measurement\"].str.split(\" \",expand=True)\n",
    "        data[i][['year', 'month', 'day']] = data[i]['date'].str.split(\"-\", expand=True)\n",
    "        data[i][['hour', 'minute', 'second']] = data[i]['time'].str.split(\":\", expand=True)\n",
    "    return data"
   ]
  },
  {
   "cell_type": "markdown",
   "id": "7ae1dce4",
   "metadata": {},
   "source": [
    "Da wir nur Städte in Deutschland betrachten, ist die Information in welcher Zeitzone die Messung durchgeführt wurde nicht weiter relevant und kann somit entfernt werden. Ebenso interessiert uns die Minute und Sekunde der Messung nicht, da immer nur zur vollen Stunde gemessen wurde. Wir entfernen also für uns nicht weiter relevante Spalte und bennenen zusätzlich diverse Spalten für eine bessere Lesbarkeit um. Schließen werden noch die Datentypen der Spalten angepasst, um leichter mit ihnen arbeiten zu können."
   ]
  },
  {
   "cell_type": "code",
   "execution_count": null,
   "id": "d8b9ffdf",
   "metadata": {},
   "outputs": [],
   "source": [
    "def cleanData(data):\n",
    "    '''Rename columns, drop unneccessary columns and adjust data types'''\n",
    "    for i in range(len(data)):\n",
    "        data[i] = data[i].rename(columns={\"pedestrians count\" : \"pedestrians\", \"temperature in ºc\" : \"temperature\", \"weather condition\" : \"weatherCondition\"})\n",
    "        data[i].drop(columns=['time of measurement', 'date', 'time', 'timezone', 'minute', 'second'], inplace=True)\n",
    "        data[i] = data[i].astype({'year' : 'int16', 'month' : 'int16', 'day' : 'int16', 'hour' : 'int16', 'incidents' : 'int16', 'temperature' : 'int16', 'pedestrians' : 'int32'}, errors='ignore')\n",
    "    return data"
   ]
  },
  {
   "cell_type": "markdown",
   "id": "d98c1917",
   "metadata": {},
   "source": [
    "Da wir uns nur auf die Daten im Zeitraum von 2020 - 2022 beschränken wollen, werden schließlich noch alle Daten, die nicht in diesem Zeitraum liegen entfernt."
   ]
  },
  {
   "cell_type": "code",
   "execution_count": null,
   "id": "1fa2097a",
   "metadata": {},
   "outputs": [],
   "source": [
    "def filterData(data):\n",
    "    '''Delete all rows where the year is not between 2020 and 2022'''\n",
    "    for i in range(len(data)):\n",
    "        data[i].drop(data[i][(data[i].year < 2020) | (data[i].year > 2022)].index, inplace=True)\n",
    "    return data"
   ]
  },
  {
   "cell_type": "markdown",
   "id": "270eee1c",
   "metadata": {},
   "source": [
    "Zuletzt wenden wir alle Funktionen auf unseren Datensatz an und erhalten die angepassten Dataframes."
   ]
  },
  {
   "cell_type": "code",
   "execution_count": null,
   "id": "e5354bef",
   "metadata": {},
   "outputs": [],
   "source": [
    "data = separateLocation(data)\n",
    "data = separateTime(data)\n",
    "data = cleanData(data)\n",
    "data = filterData(data)\n",
    "\n",
    "data[0].head(5)"
   ]
  },
  {
   "cell_type": "markdown",
   "id": "16b22e8c",
   "metadata": {},
   "source": [
    "# Daten in MongoDB speichern"
   ]
  },
  {
   "cell_type": "markdown",
   "id": "e6a1bc9d",
   "metadata": {},
   "source": [
    "Um die verarbeiteten Daten schließlich dauerhaft zu speichern, lesen wir sie in ein MongoDB ein. Dafür wird das Package *pymongo* verwendet.\n",
    "\n",
    "Zunächst muss der MongoDB Service gestartet werden, anschließend kann mit der Ausführung des Notebooks fortgeführt werden. Wir startet damit uns mit dem Service zu verbinden."
   ]
  },
  {
   "cell_type": "code",
   "execution_count": null,
   "id": "6b3a84ab",
   "metadata": {},
   "outputs": [],
   "source": [
    "client = pymongo.MongoClient('mongodb://localhost:27017')"
   ]
  },
  {
   "cell_type": "markdown",
   "id": "0974446c",
   "metadata": {},
   "source": [
    "MongoDB ist ein nicht relationale Datenbank, die ihre Daten im JSON-Format hält. Pandas stellt hierfür die Funktion ```DATAFRAME.to_dict()``` zur Verfügung, mit welcher wir unsere Dataframes in ein JSON-Objekt konvertieren können."
   ]
  },
  {
   "cell_type": "code",
   "execution_count": null,
   "id": "33a0a20f",
   "metadata": {},
   "outputs": [],
   "source": [
    "dataJson = dict()\n",
    "for i in range(len(data)):\n",
    "    data[i] = data[i].to_dict(orient='records')"
   ]
  },
  {
   "cell_type": "markdown",
   "id": "8bda3db6",
   "metadata": {},
   "source": [
    "Nun muss auf die Datenbank zugegriffen werden. Falls diese noch nicht vorhanden ist, wird sie automatisch erstellt. Wir speichern anschließend alle Daten in der Collection **HyStreetData**."
   ]
  },
  {
   "cell_type": "code",
   "execution_count": null,
   "id": "e01dabcd",
   "metadata": {},
   "outputs": [],
   "source": [
    "db = client['HyStreet']\n",
    "\n",
    "for i in range(len(data)):\n",
    "    db.HyStreetData.insert_many(data[i])"
   ]
  }
 ],
 "metadata": {
  "kernelspec": {
   "display_name": "Python 3 (ipykernel)",
   "language": "python",
   "name": "python3"
  },
  "language_info": {
   "codemirror_mode": {
    "name": "ipython",
    "version": 3
   },
   "file_extension": ".py",
   "mimetype": "text/x-python",
   "name": "python",
   "nbconvert_exporter": "python",
   "pygments_lexer": "ipython3",
   "version": "3.9.7"
  }
 },
 "nbformat": 4,
 "nbformat_minor": 5
}
