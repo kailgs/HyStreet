{
 "cells": [
  {
   "cell_type": "code",
   "execution_count": null,
   "id": "a6f4a58b",
   "metadata": {},
   "outputs": [],
   "source": [
    "import pandas as pd\n",
    "import folium\n",
    "import plotly.graph_objects as go\n",
    "import plotly.express as px\n",
    "import os\n",
    "import warnings\n",
    "warnings.simplefilter(action='ignore', category=FutureWarning)"
   ]
  },
  {
   "cell_type": "markdown",
   "id": "4051eef7",
   "metadata": {},
   "source": [
    "# Standorte"
   ]
  },
  {
   "cell_type": "code",
   "execution_count": null,
   "id": "89c867d3",
   "metadata": {
    "scrolled": false
   },
   "outputs": [],
   "source": [
    "m = folium.Map(location=[51.2099, 10.4571], zoom_start=6)\n",
    "folium.Marker([49.2359910863105, 6.993367970054943], tooltip=\"Bahnhofstraße (Mitte), Saarbrücken\").add_to(m)\n",
    "folium.Marker([52.374956125557894, 9.737387597107245], tooltip=\"Georgstraße, Hannover\").add_to(m)\n",
    "folium.Marker([53.55376220607088, 9.991887654803696], tooltip=\"Jungfernstieg, Hamburg\").add_to(m)\n",
    "folium.Marker([48.137685457750635, 11.573367770032743], tooltip=\"Kaufingerstraße, München\").add_to(m)\n",
    "folium.Marker([54.088503508553394, 12.134802012486357], tooltip=\"Kröpeliner Straße (West), Rostock\").add_to(m)\n",
    "folium.Marker([551.222185050102674, 6.779255270096054], tooltip=\"Königsallee Ostseite (Süd), Düsseldorf\").add_to(m)\n",
    "folium.Marker([48.77820910005942, 9.177711579841167], tooltip=\"Königstraße (Mitte), Stuttgart\").add_to(m)\n",
    "folium.Marker([53.07736868080147, 8.804847969315563], tooltip=\"Obernstraße, Bremen\").add_to(m)\n",
    "folium.Marker([51.047494158917196, 13.737369656599013], tooltip=\"Prager Straße (Nord), Dresden\").add_to(m)\n",
    "folium.Marker([50.001027164285354, 8.270445585412894], tooltip=\"Stadthausstraße, Mainz\").add_to(m)\n",
    "folium.Marker([50.11494292444826, 8.687410770070198], tooltip=\"Zeil (Mitte), Frankfurt a. M.\").add_to(m)\n",
    "\n",
    "m"
   ]
  },
  {
   "cell_type": "markdown",
   "id": "4c4a9405",
   "metadata": {},
   "source": [
    "# Daten einlesen"
   ]
  },
  {
   "cell_type": "markdown",
   "id": "2c015d23",
   "metadata": {},
   "source": [
    "Um Daten einzulesen, müssen wir eine Verbindung mit der MongoDB erstellen."
   ]
  },
  {
   "cell_type": "code",
   "execution_count": null,
   "id": "f2e14c31",
   "metadata": {},
   "outputs": [],
   "source": [
    "import pymongo\n",
    "client = pymongo.MongoClient(\"mongodb://localhost:27017/\")\n",
    "db = client[\"HyStreet\"]\n",
    "hystreet = db[\"HyStreetData\"]\n",
    "\n",
    "cursor = hystreet.find()\n",
    "data = pd.DataFrame(list(cursor))"
   ]
  },
  {
   "cell_type": "code",
   "execution_count": null,
   "id": "c88ddf02",
   "metadata": {},
   "outputs": [],
   "source": [
    "addresses = hystreet.distinct(\"address\")\n",
    "weatherConditions = hystreet.distinct(\"weatherCondition\")\n",
    "temps = hystreet.distinct(\"temperature\")\n",
    "\n",
    "hystreet.distinct(\"city\")"
   ]
  },
  {
   "cell_type": "markdown",
   "id": "1de19fcc",
   "metadata": {},
   "source": [
    "# Hilfsfunktionen definieren"
   ]
  },
  {
   "cell_type": "code",
   "execution_count": null,
   "id": "8538d4a8",
   "metadata": {},
   "outputs": [],
   "source": [
    "def sumOfYear(data, year):\n",
    "    result = []\n",
    "    \n",
    "    for address in addresses:\n",
    "        filteredByYear = data.loc[data['address'] == address].loc[data['year'] == year]\n",
    "        result.append((address, filteredByYear[\"pedestrians\"].sum()))\n",
    "        \n",
    "    return result\n",
    "\n",
    "# sumOfYear(data, 2021)"
   ]
  },
  {
   "cell_type": "code",
   "execution_count": null,
   "id": "32c41a8c",
   "metadata": {},
   "outputs": [],
   "source": [
    "def sumOfYearPerMonth(data, year):\n",
    "    result = []\n",
    "    month = [\n",
    "        [\"January\",1],\n",
    "        [\"February\",2],\n",
    "        [\"March\",3],\n",
    "        [\"April\",4],\n",
    "        [\"May\",5],\n",
    "        [\"June\",6],\n",
    "        [\"July\",7],\n",
    "        [\"August\",8],\n",
    "        [\"September\",9],\n",
    "        [\"October\",10],\n",
    "        [\"November\",11],\n",
    "        [\"December\",12]\n",
    "    ]\n",
    "\n",
    "    for address in addresses:\n",
    "        filteredByYear = data.loc[data['address'] == address].loc[data['year'] == year]\n",
    "        for i in month:\n",
    "            filteredByMonth = filteredByYear.loc[filteredByYear['month'] == i[1]]\n",
    "            result.append((address, str(i[0]) + \" \" + str(year), filteredByMonth['pedestrians'].sum()))\n",
    "\n",
    "    return result\n",
    "\n",
    "# sumOfYearPerMonth(data, 2022)"
   ]
  },
  {
   "cell_type": "code",
   "execution_count": null,
   "id": "99bab827",
   "metadata": {},
   "outputs": [],
   "source": [
    "def sumOfYearPerWeekday(data, year):\n",
    "    result = []\n",
    "    weekdays = [\n",
    "        'Monday',\n",
    "        'Tuesday',\n",
    "        'Wednesday',\n",
    "        'Thursday',\n",
    "        'Friday',\n",
    "        'Saturday',\n",
    "        'Sunday'\n",
    "    ]\n",
    "    \n",
    "    for address in addresses:\n",
    "        filteredByYear = data.loc[data['address'] == address].loc[data['year'] == year]\n",
    "        for day in weekdays:\n",
    "            filteredByWeekday = filteredByYear.loc[filteredByYear['weekday'] == day]\n",
    "            result.append((address, day, filteredByWeekday['pedestrians'].sum()))\n",
    "\n",
    "    return result\n",
    "\n",
    "# sumOfYearPerWeekday(data, 2021)"
   ]
  },
  {
   "cell_type": "code",
   "execution_count": null,
   "id": "1eb77439",
   "metadata": {},
   "outputs": [],
   "source": [
    "def sumOfYearPerDay(data, year):\n",
    "    result = []\n",
    "\n",
    "    for address in addresses:\n",
    "        filteredByYear = data.loc[data['address'] == address].loc[data['year'] == year]\n",
    "        for i in range(1,13):\n",
    "            filteredByMonth = filteredByYear.loc[filteredByYear['month'] == i]\n",
    "            for d in range(1,32):\n",
    "                pedestriansPerDay = filteredByMonth.loc[filteredByMonth['day'] == d]\n",
    "                if not pedestriansPerDay.empty:\n",
    "                    result.append((address, i, d, pedestriansPerDay['pedestrians'].sum()))\n",
    "\n",
    "    return result\n",
    "\n",
    "# sumOfYearPerDay(data, 2020)"
   ]
  },
  {
   "cell_type": "code",
   "execution_count": null,
   "id": "5bc64248",
   "metadata": {},
   "outputs": [],
   "source": [
    "sumOverAllYear = sumOfYear(data, 2022) + sumOfYear(data, 2021) + sumOfYear(data, 2020)\n",
    "long_df = pd.DataFrame(sumOverAllYear, columns=['location', 'countp'])\n",
    "\n",
    "sumPersonOverAllYears = 0\n",
    "anzahlNuller = 0\n",
    "\n",
    "for persons in range(0,len(long_df.index)):\n",
    "    if long_df['countp'][persons] != 0:\n",
    "        sumPersonOverAllYears = sumPersonOverAllYears + long_df['countp'][persons]\n",
    "    else:\n",
    "        anzahlNuller = anzahlNuller + 1\n",
    "\n",
    "# durch anzahl der Zonen / Durch anzahl der Jahre / Durch anzahl der Jahre \n",
    "sumPersonForAZoneAYear = sumPersonOverAllYears / len(addresses) / 3\n",
    "sumPersonforAMonth = sumPersonForAZoneAYear / 12\n",
    "sumPersonforADay = sumPersonforAMonth / 30.44\n",
    "# sumPersonsforADay"
   ]
  },
  {
   "cell_type": "code",
   "execution_count": null,
   "id": "1a218435",
   "metadata": {},
   "outputs": [],
   "source": [
    "def getWeatherConditionRawData():\n",
    "    result = []\n",
    "    for weatherCondition in weatherConditions:\n",
    "        filteredByWeatherCondition = data.loc[data['weatherCondition'] == weatherCondition]\n",
    "        result.append((weatherCondition, filteredByWeatherCondition[\"pedestrians\"].sum(), len(filteredByWeatherCondition.index)))\n",
    "\n",
    "    result_cleaned = []\n",
    "    clearPed = 0\n",
    "    clearCnt = 0\n",
    "    partCloudPed = 0\n",
    "    partCloudCnt = 0\n",
    "    for i in result:\n",
    "        if i[0] == 'clear-day':\n",
    "            clearPed = clearPed + i[1]\n",
    "            clearCnt = clearCnt + i[2]\n",
    "        elif i[0] == 'clear-night':\n",
    "            clearPed = clearPed + i[1]\n",
    "            clearCnt = clearCnt + i[2]\n",
    "        elif i[0] == 'partly-cloudy-day':\n",
    "            partCloudPed = partCloudPed + i[1]\n",
    "            partCloudCnt = partCloudCnt + i[2]\n",
    "        elif i[0] == 'partly-cloudy-night':\n",
    "            partCloudPed = partCloudPed + i[1]\n",
    "            partCloudCnt = partCloudCnt + i[2]\n",
    "        else:\n",
    "            result_cleaned.append(i)\n",
    "    clearPedTuple = ('clear', clearPed, clearCnt)\n",
    "    result_cleaned.append(clearPedTuple)\n",
    "\n",
    "    partCloudPedTuple = ('partly-cloudy', partCloudPed, partCloudCnt)\n",
    "    result_cleaned.append(partCloudPedTuple)\n",
    "    \n",
    "    return result_cleaned\n",
    "\n",
    "# getWeatherConditionRawData()"
   ]
  },
  {
   "cell_type": "code",
   "execution_count": null,
   "id": "4a3d88cf",
   "metadata": {},
   "outputs": [],
   "source": [
    "def getTempPed():\n",
    "    result = []\n",
    "    for temp in temps:\n",
    "        filteredByTemp = data.loc[data['temperature'] == temp]\n",
    "        result.append((round(int(temp),0), filteredByTemp[\"pedestrians\"].sum(), len(filteredByTemp.index)))\n",
    "    \n",
    "    return result\n",
    "\n",
    "# getTempPed()"
   ]
  },
  {
   "cell_type": "code",
   "execution_count": null,
   "id": "46234c6f",
   "metadata": {},
   "outputs": [],
   "source": [
    "def getTempPerWeatherCondition():\n",
    "    result = []\n",
    "    for weatherCondition in weatherConditions:\n",
    "        filteredByWeatherCondition = data.loc[data['weatherCondition'] == weatherCondition]\n",
    "        result.append((weatherCondition, round(filteredByWeatherCondition[\"temperature\"].sum()/len(filteredByWeatherCondition.index), 2)))\n",
    "\n",
    "    result_cleaned = []\n",
    "    avgTempClear = 0\n",
    "    avgTempPartCloud = 0\n",
    "    for i in result:\n",
    "        if i[0] == 'clear-day':\n",
    "            avgTempClear = avgTempClear + i[1]\n",
    "        elif i[0] == 'clear-night':\n",
    "            avgTempClear = avgTempClear + i[1]\n",
    "        elif i[0] == 'partly-cloudy-day':\n",
    "            avgTempPartCloud = avgTempPartCloud + i[1]\n",
    "        elif i[0] == 'partly-cloudy-night':\n",
    "            avgTempPartCloud = avgTempPartCloud + i[1]\n",
    "        else:\n",
    "            result_cleaned.append(i)\n",
    "    clearTuple = ('clear', avgTempClear)\n",
    "    result_cleaned.append(clearTuple)\n",
    "\n",
    "    partCloudTuple = ('partly-cloudy', avgTempPartCloud)\n",
    "    result_cleaned.append(partCloudTuple)\n",
    "    \n",
    "    return result_cleaned\n",
    "\n",
    "# getTempPerWeatherCondition()"
   ]
  },
  {
   "cell_type": "markdown",
   "id": "0c529be8",
   "metadata": {},
   "source": [
    "# Daten visualisieren"
   ]
  },
  {
   "cell_type": "markdown",
   "id": "8d9c3bd5",
   "metadata": {},
   "source": [
    "## Jahresvergleich"
   ]
  },
  {
   "cell_type": "markdown",
   "id": "b999194f",
   "metadata": {},
   "source": [
    "### Fußgänger pro Fußgängerzone im Jahr 2020"
   ]
  },
  {
   "cell_type": "code",
   "execution_count": null,
   "id": "7690438a",
   "metadata": {},
   "outputs": [],
   "source": [
    "absPed2020 = sumOfYear(data, 2020)\n",
    "fig0 = px.bar(absPed2020, x=[x[0] for x in absPed2020], y=[y[1] for y in absPed2020], title='Fußgänger pro Fußgängerzone im Jahr 2020', labels={'x' : 'Ort', 'y' : 'Anzahl Fußübergänger'}).update_xaxes(categoryorder=\"total descending\")\n",
    "fig0.show()"
   ]
  },
  {
   "cell_type": "markdown",
   "id": "480df6f0",
   "metadata": {},
   "source": [
    "### Fußgänger pro Fußgängerzone im Jahr 2021"
   ]
  },
  {
   "cell_type": "code",
   "execution_count": null,
   "id": "a45ccbc9",
   "metadata": {},
   "outputs": [],
   "source": [
    "absPed2021 = sumOfYear(data, 2021)\n",
    "fig1 = px.bar(absPed2021, x=[x[0] for x in absPed2021], y=[y[1] for y in absPed2021], title='Fußgänger pro Fußgängerzone im Jahr 2021', labels={'x' : 'Ort', 'y' : 'Anzahl Fußübergänger'}).update_xaxes(categoryorder=\"total descending\")\n",
    "fig1.show()"
   ]
  },
  {
   "cell_type": "markdown",
   "id": "1b26798b",
   "metadata": {},
   "source": [
    "### Fußgänger pro Fußgängerzone im Jahr 2022"
   ]
  },
  {
   "cell_type": "code",
   "execution_count": null,
   "id": "4226cf59",
   "metadata": {},
   "outputs": [],
   "source": [
    "absPed2022 = sumOfYear(data, 2022)\n",
    "fig2 = px.bar(absPed2022, x=[x[0] for x in absPed2022], y=[y[1] for y in absPed2022], title='Fußgänger pro Fußgängerzone im Jahr 2022', labels={'x' : 'Ort', 'y' : 'Anzahl Fußübergänger'}).update_xaxes(categoryorder=\"total descending\")\n",
    "fig2.show()"
   ]
  },
  {
   "cell_type": "markdown",
   "id": "9ea3fb8c",
   "metadata": {},
   "source": [
    "### Vergleich der drei Jahre"
   ]
  },
  {
   "cell_type": "code",
   "execution_count": null,
   "id": "3c28360a",
   "metadata": {},
   "outputs": [],
   "source": [
    "comparisonYear = pd.DataFrame(columns=['Ort', 'Jahr', 'Passanten'])\n",
    "\n",
    "for i in range(len(absPed2020)):\n",
    "    comparisonYear = comparisonYear.append({'Ort' : absPed2020[i][0], 'Jahr' : 2020, 'Passanten' : absPed2020[i][1] }, ignore_index=True)\n",
    "    comparisonYear = comparisonYear.append({'Ort' : absPed2020[i][0], 'Jahr' : 2021, 'Passanten' : absPed2021[i][1] }, ignore_index=True)\n",
    "\n",
    "for i in range(len(absPed2022)):\n",
    "    comparisonYear = comparisonYear.append({'Ort' : absPed2022[i][0], 'Jahr' : 2022, 'Passanten' : absPed2022[i][1] }, ignore_index=True)\n",
    "\n",
    "fig3 = px.histogram(comparisonYear, x='Ort', y='Passanten', color='Jahr', barmode='group', title='Vergleich 2020 / 2021 / 2022 (2022 nur bis November)', labels={'x' : 'Ort', 'y' : 'Anzahl Fußübergänger'}).update_xaxes(categoryorder=\"total descending\")\n",
    "fig3.show()"
   ]
  },
  {
   "cell_type": "markdown",
   "id": "c226fcfc",
   "metadata": {},
   "source": [
    "Man sieht, dass die Corona-Jahre die Fußgängeranzahl in den Städten deutlich reduziert haben. So sind bereits im Jahr 2022 **bis zum Monat November** mehr Fußgänger unterwegs gewesen als in den beiden Jahren zuvor."
   ]
  },
  {
   "cell_type": "markdown",
   "id": "d94751e0",
   "metadata": {},
   "source": [
    "### Anzahl Fußgänger pro Wochentag von 2020 bis Herbst 2022"
   ]
  },
  {
   "cell_type": "code",
   "execution_count": null,
   "id": "ea89f06c",
   "metadata": {},
   "outputs": [],
   "source": [
    "weeklyPed2022 = sumOfYearPerWeekday(data, 2022)\n",
    "\n",
    "long_df = pd.DataFrame(weeklyPed2022, columns=['Fußgängerzone', 'Wochentag', 'Anzahl Fußgänger von 2020 bis Herbst 2022'])\n",
    "# print(long_df)\n",
    "fig4 = px.bar(long_df, x='Wochentag', y='Anzahl Fußgänger von 2020 bis Herbst 2022', color='Fußgängerzone', title='Anzahl Fußgänger pro Wochentag von 2020 bis Herbst 2022')\n",
    "fig4.show()"
   ]
  },
  {
   "cell_type": "markdown",
   "id": "0d71e920",
   "metadata": {},
   "source": [
    "## Vergleich der Relation zwischen Einwohneranzahl und Passanten pro Jahr\n",
    "(in Welcher Stadt wird viel gelaufen)"
   ]
  },
  {
   "cell_type": "code",
   "execution_count": null,
   "id": "d323f3c5",
   "metadata": {},
   "outputs": [],
   "source": [
    "# Datenquelle: Wikipedia\n",
    "inhabitants = [\n",
    "    ('Bahnhofstraße (Mitte), Saarbrücken', 178151),\n",
    "    ('Georgstraße, Hannover', 532163),\n",
    "    ('Jungfernstieg, Hamburg', 1853935),\n",
    "    ('Kaufingerstraße, München', 1487708),\n",
    "    ('Kröpeliner Straße (West), Rostock', 208400),\n",
    "    ('Königsallee Ostseite (Süd), Düsseldorf', 619477),\n",
    "    ('Königstraße (Mitte), Stuttgart', 626275),\n",
    "    ('Obernstraße, Bremen', 563290),\n",
    "    ('Prager Straße (Nord), Dresden', 555351),\n",
    "    ('Stadthausstraße, Mainz', 217556),\n",
    "    ('Zeil (Mitte), Frankfurt a.M.', 759224),\n",
    "]\n",
    "\n",
    "result = []\n",
    "for address in addresses:\n",
    "    city = data.loc[data['address'] == address]\n",
    "    for i in inhabitants:\n",
    "        cityInhabitants = 0\n",
    "        if i[0] == address:\n",
    "            cityInhabitants = i[1]\n",
    "            break\n",
    "    result.append((address, round(city['pedestrians'].sum()/len(city.index), 2), cityInhabitants))\n",
    "\n",
    "inhabitants_long_df = pd.DataFrame(result, columns=['Stadt', 'Stündliche Fußgänger', 'Einwohnerzahl'])\n",
    "\n",
    "fig = px.scatter(inhabitants_long_df, x=\"Einwohnerzahl\", y=\"Stündliche Fußgänger\", color=\"Stadt\", title='Stündliche Fußgänger im Verhältnis zur Einwohnerzahl')\n",
    "fig.show()"
   ]
  },
  {
   "cell_type": "markdown",
   "id": "0abd05ca",
   "metadata": {},
   "source": [
    "## Jahreszeiten und Monatsvergleich Vergleich"
   ]
  },
  {
   "cell_type": "markdown",
   "id": "0ac3bc7f",
   "metadata": {},
   "source": [
    "Im Folgenden werden die Jahreszeiten zunächst anhand derer absoluten Zahlen verglichen. Dafür wird das Jahr in die folgenden Abschnitte unterteilt: *Winter* (Dezember, Januar, Februar), *Frühling* (März, April, Mai), *Sommer* (Juni, Juli, August) und *Herbst* (September, Oktober, November). Hier werden die **meteorologischen Jahrezeiten** verwendet."
   ]
  },
  {
   "cell_type": "code",
   "execution_count": null,
   "id": "d20fa453",
   "metadata": {},
   "outputs": [],
   "source": [
    "seasons = list()\n",
    "for city in hystreet.distinct(\"address\"):\n",
    "    seasons.append(data.loc[data[\"address\"] == city])\n",
    "\n",
    "def getRowsOfPeriod(sYear, sMonth, sDay, eYear, eMonth, eDay, data):\n",
    "    '''Returns a dataframe with all the rows between the given dates (The given dates are inclusive).'''\n",
    "    df = data.copy()\n",
    "    for i, city in enumerate(df):\n",
    "        city = city.loc[(city.year >= sYear) & (city.year <= eYear)]\n",
    "        \n",
    "        city = city.drop( city[(city.year == sYear) & (city.month < sMonth) ].index)\n",
    "        city = city.drop( city[(city.year == eYear) & (city.month > eMonth) ].index)\n",
    "    \n",
    "        city = city.drop( city[(city.year == sYear) & (city.month == sMonth) & (city.day < sDay)].index)\n",
    "        city = city.drop( city[(city.year == eYear) & (city.month == eMonth) & (city.day > eDay)].index)\n",
    "    \n",
    "        df[i] = city\n",
    "    return df\n",
    "\n",
    "\n",
    "def sumOfDf(dataframe):\n",
    "    '''Returns the sum of the pedestrian column for a given dataframe.'''\n",
    "    if not dataframe.empty:\n",
    "        return dataframe['pedestrians'].sum()\n",
    "    return 0\n",
    "\n",
    "\n",
    "def sumOfDfs(dfList):\n",
    "    '''Returns the sum of all the pedestrian sums for the given dataframes in the list'''\n",
    "    result = 0\n",
    "    for df in dfList:\n",
    "        result += sumOfDf(df)\n",
    "    return result\n",
    "    \n",
    "\n",
    "def seasonsOfYear(year, data):\n",
    "    winterP1 = sumOfDfs(getRowsOfPeriod(year, 1, 1, year, 2, 30, data))\n",
    "    winter = sumOfDfs(getRowsOfPeriod(year, 12, 1, year, 12, 31, data)) + winterP1\n",
    "    spring = sumOfDfs(getRowsOfPeriod(year, 3, 1, year, 5, 31, data))\n",
    "    sommer = sumOfDfs(getRowsOfPeriod(year, 6, 1, year, 8, 31, data))\n",
    "    autumn = sumOfDfs(getRowsOfPeriod(year, 9, 1, year, 11, 31, data))\n",
    "    \n",
    "    result = [\n",
    "        ('winter', winter),\n",
    "        ('spring', spring),\n",
    "        ('sommer', sommer),\n",
    "        ('autumn', autumn)\n",
    "    ]\n",
    "    \n",
    "    return pd.DataFrame(result, columns=['season', 'count'])"
   ]
  },
  {
   "cell_type": "markdown",
   "id": "ce80bce4",
   "metadata": {},
   "source": [
    "Betrachten wir nun die die Jahreszeiten der beiden Jahre 2020 und 2021"
   ]
  },
  {
   "cell_type": "code",
   "execution_count": null,
   "id": "b21b3f81",
   "metadata": {},
   "outputs": [],
   "source": [
    "absSeasons2020 = seasonsOfYear(2020, seasons)\n",
    "absSeasons2021 = seasonsOfYear(2021, seasons)\n",
    "\n",
    "comparisonSeasons = pd.DataFrame(columns=['Jahreszeit', 'Jahr', 'Passanten'])\n",
    "for i in range(len(absSeasons2020)):\n",
    "    comparisonSeasons = comparisonSeasons.append({'Jahreszeit' : absSeasons2020.iloc[i][0], 'Jahr' : 2020, 'Passanten' : absSeasons2020.iloc[i][1] }, ignore_index=True)\n",
    "    comparisonSeasons = comparisonSeasons.append({'Jahreszeit' : absSeasons2020.iloc[i][0], 'Jahr' : 2021, 'Passanten' : absSeasons2021.iloc[i][1] }, ignore_index=True)\n",
    "\n",
    "    \n",
    "figSeasons = px.histogram(comparisonSeasons, x='Jahreszeit', y='Passanten', color='Jahr', barmode='group', title='Vergleich Jahreszeiten 2020 / 2021').update_xaxes(categoryorder=\"total descending\")\n",
    "figSeasons.show()"
   ]
  },
  {
   "cell_type": "markdown",
   "id": "a47601a3",
   "metadata": {},
   "source": [
    "Die Jahreszeiten können zusätzlich noch nach den einzelnen Monaten aufgeschlüsselt werden um einen genaueren Einblick zu schaffen. Auch hier werden die beiden Jahre 2020 und 2021 verglichen."
   ]
  },
  {
   "cell_type": "code",
   "execution_count": null,
   "id": "653e6f1c",
   "metadata": {},
   "outputs": [],
   "source": [
    "def monthsOfYear(year, data):\n",
    "    '''Returns a dataframe containing all months in combination with the sum of all locations for that specific month'''\n",
    "    df = data.copy()\n",
    "    for idx, city in enumerate(df):\n",
    "        df[idx] = city.loc[city.year == year]\n",
    "    \n",
    "    months = [0 for idx in range(12)]\n",
    "    sMonth = [\"Januar\", \"Februar\", \"März\", \"April\", \"Mai\", \"Juni\", \"Juli\", \"August\", \"September\", \"Oktober\", \"November\", \"Dezember\"]\n",
    "    \n",
    "    for city in df:\n",
    "        for month in range(1, 13):\n",
    "            mDf = city.loc[city.month == month]\n",
    "            months[month - 1] += sumOfDf(mDf)\n",
    "            \n",
    "    result = { 'Month' : sMonth, 'Count' : months }\n",
    "            \n",
    "    return pd.DataFrame(result)"
   ]
  },
  {
   "cell_type": "markdown",
   "id": "d8a615a0",
   "metadata": {},
   "source": [
    "Betrachten wir nun die Monate der Jahre 2020 und 2021 nebeneinander."
   ]
  },
  {
   "cell_type": "code",
   "execution_count": null,
   "id": "12d31f78",
   "metadata": {},
   "outputs": [],
   "source": [
    "absMonths2020 = monthsOfYear(2020, seasons)\n",
    "absMonths2021 = monthsOfYear(2021, seasons)\n",
    "\n",
    "comparisonMonths = pd.DataFrame(columns=['Monat', 'Jahr', 'Passanten'])\n",
    "for i in range(len(absMonths2020)):\n",
    "    comparisonMonths = comparisonMonths.append({'Monat' : absMonths2020.iloc[i][0], 'Jahr' : 2020, 'Passanten' : absMonths2020.iloc[i][1] }, ignore_index=True)\n",
    "    comparisonMonths = comparisonMonths.append({'Monat' : absMonths2020.iloc[i][0], 'Jahr' : 2021, 'Passanten' : absMonths2021.iloc[i][1] }, ignore_index=True)\n",
    "\n",
    "figMonths2021 = px.histogram(comparisonMonths, x='Monat', y='Passanten', color='Jahr', barmode='group', title='Vergleich Monate 2020 / 2021')\n",
    "figMonths2021.show()"
   ]
  },
  {
   "cell_type": "markdown",
   "id": "3138d2fb",
   "metadata": {},
   "source": [
    "## Zu welcher Uhrzeit ist am meisten los?"
   ]
  },
  {
   "cell_type": "code",
   "execution_count": null,
   "id": "7eebd481",
   "metadata": {},
   "outputs": [],
   "source": [
    "def absPerHour(data, years):\n",
    "    dataTime = data.loc[data['year'].isin(years)]\n",
    "    dataTL = list()\n",
    "    monate = [\"Januar\", \"Februar\", \"März\", \"April\", \"Mai\", \"Juni\", \"Juli\", \"August\", \"September\", \"Oktober\", \"November\", \"Dezember\"]\n",
    "\n",
    "    df = pd.DataFrame(columns=[\"Monat\", \"Stunde\", \"Passanten\"])\n",
    "\n",
    "    for month in range(12):\n",
    "        tmp = dataTime.loc[dataTime['month'] == (month + 1)]\n",
    "        tsum = tmp.groupby('hour')['pedestrians'].sum()\n",
    "\n",
    "        for hour in range(0, 24):\n",
    "            df = df.append({\"Monat\" : monate[month], \"Stunde\" : hour, \"Passanten\" : tsum.iloc[hour] }, ignore_index=True)\n",
    "    \n",
    "    return df\n",
    "    \n",
    "absHours = absPerHour(data, [2020])\n",
    "figHours = px.line(absHours, x=\"Stunde\", y=\"Passanten\", color='Monat', title=\"Uhrzeitenvergleich der Monate des Jahres 2020\")\n",
    "figHours.show()"
   ]
  },
  {
   "cell_type": "code",
   "execution_count": null,
   "id": "48ea4ee6",
   "metadata": {},
   "outputs": [],
   "source": [
    "absHours = absPerHour(data, [2021])\n",
    "figHours = px.line(absHours, x=\"Stunde\", y=\"Passanten\", color='Monat', title=\"Uhrzeitenvergleich der Monate des Jahres 2021\")\n",
    "figHours.show()"
   ]
  },
  {
   "cell_type": "code",
   "execution_count": null,
   "id": "2072187e",
   "metadata": {},
   "outputs": [],
   "source": [
    "absHours = absPerHour(data, [2020, 2021])\n",
    "figHours = px.line(absHours, x=\"Stunde\", y=\"Passanten\", color='Monat', title=\"Uhrzeitenvergleich der Monate des Jahres 2021\")\n",
    "figHours.show()"
   ]
  },
  {
   "cell_type": "markdown",
   "id": "aa1c72ff",
   "metadata": {},
   "source": [
    "## Corona-Vergleich"
   ]
  },
  {
   "cell_type": "markdown",
   "id": "ff5b790a",
   "metadata": {},
   "source": [
    "### Monatliche Fußgänger von 2020 bis 2022\n",
    "(deutlich zu erkennen: zwei Lockdowns)"
   ]
  },
  {
   "cell_type": "code",
   "execution_count": null,
   "id": "e576f273",
   "metadata": {},
   "outputs": [],
   "source": [
    "monthlyPed = sumOfYearPerMonth(data, 2020) + sumOfYearPerMonth(data, 2021) + sumOfYearPerMonth(data, 2022)\n",
    "long_df = pd.DataFrame(monthlyPed, columns=['location', 'month', 'countp'])\n",
    "\n",
    "fig = px.bar(long_df, x='month', y='countp', color=\"location\", title='Monatliche Fußgänger von 2020 bis 2022')\n",
    "fig.show()"
   ]
  },
  {
   "cell_type": "markdown",
   "id": "c0e86f2c",
   "metadata": {},
   "source": [
    "### Wöchentliche Fußgänger von März 2020 bis Mai 2020\n",
    "(deutlich zu erkennen: erster Lockdown)"
   ]
  },
  {
   "cell_type": "code",
   "execution_count": null,
   "id": "9622554d",
   "metadata": {},
   "outputs": [],
   "source": [
    "sumOf2020PerDay = sumOfYearPerDay(data, 2020)\n",
    "\n",
    "marchToMayPed = [q for q in sumOf2020PerDay if q[1] == 3 or q[1] == 4 or q[1] == 5]\n",
    "result = []\n",
    "\n",
    "for address in addresses:\n",
    "    filteredByAddress = [q for q in marchToMayPed if q[0] == address]\n",
    "\n",
    "    i = 0\n",
    "    sumPed = 0\n",
    "    weekNumber = 1\n",
    "    for day in filteredByAddress:\n",
    "        sumPed = sumPed + day[3]\n",
    "        \n",
    "        if i == 6:\n",
    "            result.append((address, weekNumber, sumPed))\n",
    "            i = 0\n",
    "            sumPed = 0\n",
    "            weekNumber = weekNumber + 1\n",
    "        else:\n",
    "            i = i + 1\n",
    "\n",
    "weekly2020MarchToMayPed_longdf = pd.DataFrame(result, columns=['Adresse', 'Wochennummer', 'Anzahl Fußgänger'])\n",
    "\n",
    "fig = px.bar(weekly2020MarchToMayPed_longdf, x='Wochennummer', y='Anzahl Fußgänger', color='Adresse', title='Wöchentliche Fußgänger von März 2020 bis Mai 2020')\n",
    "fig.show()"
   ]
  },
  {
   "cell_type": "markdown",
   "id": "0f9a0848",
   "metadata": {},
   "source": [
    "### Tägliche Fußgänger im März 2020 pro Stadt\n",
    "(deutlich zu erkennen: Anfang des Lockdowns)"
   ]
  },
  {
   "cell_type": "code",
   "execution_count": null,
   "id": "8dea2d89",
   "metadata": {
    "scrolled": false
   },
   "outputs": [],
   "source": [
    "sumOf2020PerDay = sumOfYearPerDay(data, 2020)\n",
    "sumOf2020PerDay_long_df = pd.DataFrame(sumOf2020PerDay, columns=['Adresse', 'Monat', 'Tag', 'Anzahl Fußgänger'])\n",
    "marchPed = sumOf2020PerDay_long_df[sumOf2020PerDay_long_df.Monat == 3]\n",
    "\n",
    "fig = px.bar(marchPed, x='Tag', y='Anzahl Fußgänger', color='Adresse', title='Tägliche Fußgänger im März 2020 pro Stadt')\n",
    "fig.show()"
   ]
  },
  {
   "cell_type": "markdown",
   "id": "e337bb5b",
   "metadata": {},
   "source": [
    "## Events"
   ]
  },
  {
   "cell_type": "markdown",
   "id": "1d575260",
   "metadata": {},
   "source": [
    "Wir wollen nun noch schauen, ob sich größere Events anhand der Anzahl der gezählten Passanten ausfindig machen lassen können. Wir betrachten dazu beispielhaft den Jungfernstieg in Hamburg. Analysiert werden hier die Freitage um jeweils 20 Uhr. Zunächst werden die Daten visualisiert."
   ]
  },
  {
   "cell_type": "code",
   "execution_count": null,
   "id": "5faca8fe",
   "metadata": {},
   "outputs": [],
   "source": [
    "eData = data.loc[(data['city'] == ' Hamburg') & (data['year'] == 2021)  & (data['weekday'] == \"Friday\") & (data['hour'] == 20) ]\n",
    "eData.reset_index(inplace=True)\n",
    "\n",
    "figEvents = px.line(eData, x=eData.index, y=\"pedestrians\", labels={\"_index\":\"Freitage im Jahr 2021\"}, title=\"Besucher pro Freitage um 20 Uhr im Jahr 2021\")\n",
    "figEvents.show()"
   ]
  },
  {
   "cell_type": "code",
   "execution_count": null,
   "id": "1eee6044",
   "metadata": {},
   "outputs": [],
   "source": [
    "import numpy as np"
   ]
  },
  {
   "cell_type": "markdown",
   "id": "ff1da568",
   "metadata": {},
   "source": [
    "Um automatisiert Events zu finden, bewegen wir ein Fenster individueller Größer über das gegebene Dataframe und bilden jeweils den Durchschnitt aus den gerade betrachteten Daten. Anschließend gehen wir die einzelnen Tage durch und schauen ob einer dieser Tage mind. 60% mehr Passanten hatte als der Durchschnitt. Sollte das der Fall sein, so speichern wir diesen Tag und geben die gesammelten Tage schließlich aus."
   ]
  },
  {
   "cell_type": "code",
   "execution_count": null,
   "id": "740c67ad",
   "metadata": {},
   "outputs": [],
   "source": [
    "def findEvents(data, width):\n",
    "    eData = data.reset_index()\n",
    "    result = list()\n",
    "    for i in range(0, eData.shape[0] - width):\n",
    "        subset = eData.iloc[i:i+width]\n",
    "        mean = subset[\"pedestrians\"].mean()\n",
    "\n",
    "        for index, row in subset.iterrows():\n",
    "            if row['pedestrians'] > mean * 1.6:\n",
    "                result.append((row['level_0'], row['month'], row['day'], row['pedestrians'], row['weekday']))\n",
    "    return set(result)\n",
    "\n",
    "findEvents(eData, 4)"
   ]
  },
  {
   "cell_type": "markdown",
   "id": "b53d08fd",
   "metadata": {},
   "source": [
    "Wir sehen die 4 folgenden Ereignisse:\n",
    "- 26.03.2021\n",
    "- 28.05.2021\n",
    "- 04.06.2021\n",
    "- 26.11.2021\n",
    "\n",
    "Die Freitage am 28.05 und 04.06 lassen sich mit einem erhöhten Temperaturanstieg erklären.\n",
    "Der Freitag am 26.11.2021 lag in der Woche des Weihnachtsmarktes, somit wurde tatsächlich ein größeres Event gefunden."
   ]
  },
  {
   "cell_type": "markdown",
   "id": "71818c84",
   "metadata": {},
   "source": [
    "## Wetter"
   ]
  },
  {
   "cell_type": "markdown",
   "id": "df0ee15f",
   "metadata": {},
   "source": [
    "### Durchschnittliche Fußgänger pro Stunde (in der das jeweilige Wetter vorherrschte)"
   ]
  },
  {
   "cell_type": "code",
   "execution_count": null,
   "id": "062c1c0e",
   "metadata": {},
   "outputs": [],
   "source": [
    "weatherConditionData = getWeatherConditionRawData()\n",
    "\n",
    "result = []\n",
    "for i in weatherConditionData:\n",
    "    result.append((i[0], round(i[1]/i[2], 2)))\n",
    "\n",
    "\n",
    "weatherConditions_long_df = pd.DataFrame(result, columns=['Wetter', 'Durchschnittliche Fußgänger pro Stunde'])\n",
    "\n",
    "fig = px.bar(weatherConditions_long_df, x='Wetter', y='Durchschnittliche Fußgänger pro Stunde', title='Durchschnittliche Fußgänger pro Stunde (in der das jeweilige Wetter vorherrschte)').update_xaxes(categoryorder=\"total descending\")\n",
    "fig.show()"
   ]
  },
  {
   "cell_type": "markdown",
   "id": "cd8e83a4",
   "metadata": {},
   "source": [
    "### Wetteranteile von 2020 bis Herbst 2022"
   ]
  },
  {
   "cell_type": "code",
   "execution_count": null,
   "id": "13066df4",
   "metadata": {},
   "outputs": [],
   "source": [
    "weatherConditionData = getWeatherConditionRawData()\n",
    "\n",
    "sumHours = 0\n",
    "for i in weatherConditionData:\n",
    "    sumHours = sumHours + i[2]\n",
    "\n",
    "result = []\n",
    "for i in weatherConditionData:\n",
    "    result.append((i[0], round(i[2]/sumHours,4)))\n",
    "\n",
    "weatherConditions_long_df = pd.DataFrame(result, columns=['Wetter', 'Anteil am Wetter von 2020 bis Herbst 2022'])\n",
    "\n",
    "fig = px.bar(weatherConditions_long_df, x='Wetter', y='Anteil am Wetter von 2020 bis Herbst 2022', title='Wetteranteile von 2020 bis Herbst 2022').update_xaxes(categoryorder=\"total descending\")\n",
    "fig.show()"
   ]
  },
  {
   "cell_type": "markdown",
   "id": "5f5b28b0",
   "metadata": {},
   "source": [
    "### Durchschnittliche Fußgänger pro Stunde und Gradzahl von 2020 bis Herbst 2022"
   ]
  },
  {
   "cell_type": "code",
   "execution_count": null,
   "id": "c4b0b2d3",
   "metadata": {},
   "outputs": [],
   "source": [
    "result1 = getTempPed()\n",
    "\n",
    "result = []\n",
    "for i in result1:\n",
    "    result.append((i[0], round(i[1]/i[2], 2)))\n",
    "\n",
    "temp_long_df = pd.DataFrame(result, columns=['Temperatur', 'Durchschnittliche Fußgänger pro Stunde von 2020 bis Herbst 2022'])\n",
    "\n",
    "fig = px.bar(temp_long_df, x='Temperatur', y='Durchschnittliche Fußgänger pro Stunde von 2020 bis Herbst 2022', title='Durchschnittliche Fußgänger pro Stunde und Gradzahl von 2020 bis Herbst 2022')\n",
    "fig.show()"
   ]
  },
  {
   "cell_type": "markdown",
   "id": "d9b6e840",
   "metadata": {},
   "source": [
    "### Temperaturverteilung von 2020 bis Herbst 2022"
   ]
  },
  {
   "cell_type": "code",
   "execution_count": null,
   "id": "0e3b7e1f",
   "metadata": {
    "scrolled": false
   },
   "outputs": [],
   "source": [
    "result1 = getTempPed()\n",
    "\n",
    "sumHours = 0\n",
    "for i in result1:\n",
    "    sumHours = sumHours + i[2]\n",
    "\n",
    "result = []\n",
    "for i in result1:\n",
    "    result.append((i[0], round(i[2]/sumHours, 5)))\n",
    "\n",
    "temp_long_df = pd.DataFrame(result, columns=['Temperatur', 'Anteil Temperatur'])\n",
    "\n",
    "fig = px.bar(temp_long_df, x='Temperatur', y='Anteil Temperatur', title='Temperaturverteilung von 2020 bis Herbst 2022')\n",
    "fig.show()"
   ]
  },
  {
   "cell_type": "markdown",
   "id": "e7fcc55a",
   "metadata": {},
   "source": [
    "### Durchschnittliche Temperatur pro Wetter von 2020 bis Herbst 2022"
   ]
  },
  {
   "cell_type": "code",
   "execution_count": null,
   "id": "62aea8f3",
   "metadata": {},
   "outputs": [],
   "source": [
    "result = getTempPerWeatherCondition()\n",
    "\n",
    "temp_long_df = pd.DataFrame(result, columns=['Wetter', 'Temperatur'])\n",
    "\n",
    "fig = px.bar(temp_long_df, x='Wetter', y='Temperatur', title='Durchschnittliche Temperatur pro Wetter von 2020 bis Herbst 2022').update_xaxes(categoryorder=\"total descending\")\n",
    "fig.show()"
   ]
  }
 ],
 "metadata": {
  "kernelspec": {
   "display_name": "Python 3 (ipykernel)",
   "language": "python",
   "name": "python3"
  },
  "language_info": {
   "codemirror_mode": {
    "name": "ipython",
    "version": 3
   },
   "file_extension": ".py",
   "mimetype": "text/x-python",
   "name": "python",
   "nbconvert_exporter": "python",
   "pygments_lexer": "ipython3",
   "version": "3.9.7"
  },
  "vscode": {
   "interpreter": {
    "hash": "1f8edd31977a4e9bb6eef1da55de9044392963b9f99187bd33bfd4d2df6a845f"
   }
  }
 },
 "nbformat": 4,
 "nbformat_minor": 5
}
