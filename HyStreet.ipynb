{
 "cells": [
  {
   "cell_type": "code",
   "execution_count": null,
   "id": "a6f4a58b",
   "metadata": {},
   "outputs": [],
   "source": [
    "import pandas as pd # $ pip install pandas\n",
    "import folium # conda install -c conda-forge folium\n",
    "# import chart_studio.plotly as py # conda install -c plotly plotly, conda install -c plotly chart-studio\n",
    "import plotly.graph_objects as go\n",
    "import plotly.express as px\n",
    "import os"
   ]
  },
  {
   "cell_type": "markdown",
   "id": "4051eef7",
   "metadata": {},
   "source": [
    "# Standorte"
   ]
  },
  {
   "cell_type": "code",
   "execution_count": null,
   "id": "89c867d3",
   "metadata": {},
   "outputs": [],
   "source": [
    "m = folium.Map(location=[51.2099, 10.4571], zoom_start=6)\n",
    "folium.Marker([52.461300, 13.335307], tooltip='\tNeue Schönhauser Straße, Berlin').add_to(m)\n",
    "folium.Marker([53.07736868080147, 8.804847969315563], tooltip=\"Obernstraße, Bremen\").add_to(m)\n",
    "folium.Marker([51.047494158917196, 13.737369656599013], tooltip=\"dresden-prager straße\").add_to(m)\n",
    "folium.Marker([551.222185050102674, 6.779255270096054], tooltip=\"düsseldorf-königsallee ostseiten\").add_to(m)\n",
    "folium.Marker([50.97797259773246, 11.026376827762066], tooltip=\"erfurt-marktstraßen\").add_to(m)\n",
    "folium.Marker([50.11494292444826, 8.687410770070198], tooltip=\"frankfurt a.m.-zeil\").add_to(m)\n",
    "folium.Marker([51.480738258522834, 11.97536492962145], tooltip=\"halle (saale)-leipziger straße\").add_to(m)\n",
    "folium.Marker([53.55376220607088, 9.991887654803696], tooltip=\"hamburg-jungfernstieg\").add_to(m)\n",
    "folium.Marker([52.374956125557894, 9.737387597107245], tooltip=\"hannover-georgstraße\").add_to(m)\n",
    "folium.Marker([54.3211874676847, 10.13512538365591], tooltip=\"kiel-holstenstraße\").add_to(m)\n",
    "folium.Marker([50.001027164285354, 8.270445585412894], tooltip=\"mainz-stadthausstraße\").add_to(m)\n",
    "folium.Marker([48.137685457750635, 11.573367770032743], tooltip=\"münchen-kaufingerstraße\").add_to(m)\n",
    "folium.Marker([54.088503508553394, 12.134802012486357], tooltip=\"rostock-kröpeliner straße\").add_to(m)\n",
    "folium.Marker([49.2359910863105, 6.993367970054943], tooltip=\"saarbrücken-bahnhofstraße\").add_to(m)\n",
    "folium.Marker([48.77820910005942, 9.177711579841167], tooltip=\"stuttgart-königstraßee\").add_to(m)\n",
    "\n",
    "m"
   ]
  },
  {
   "cell_type": "markdown",
   "id": "4c4a9405",
   "metadata": {},
   "source": [
    "# Daten einlesen"
   ]
  },
  {
   "cell_type": "code",
   "execution_count": null,
   "id": "48433569",
   "metadata": {},
   "outputs": [],
   "source": [
    "files = [ 'data/' + x for x in os.listdir('data') ]\n",
    "files"
   ]
  },
  {
   "cell_type": "code",
   "execution_count": null,
   "id": "7a80b83b",
   "metadata": {},
   "outputs": [],
   "source": [
    "data = [ pd.read_csv(x, delimiter=';') for x in files ] # Stadt1 in data[0], Stadt2 in data[1] ...\n",
    "data[1].head(1)"
   ]
  },
  {
   "cell_type": "markdown",
   "id": "fa3e2568",
   "metadata": {},
   "source": [
    "# Datensatz aufbereiten"
   ]
  },
  {
   "cell_type": "markdown",
   "id": "0aacc47a",
   "metadata": {},
   "source": [
    "\"time of measurement\" in seine Bestandteile Jahr, Monat, Tag, Stunde auflösen."
   ]
  },
  {
   "cell_type": "code",
   "execution_count": null,
   "id": "571760ee",
   "metadata": {},
   "outputs": [],
   "source": [
    "for i in range(len(data)):\n",
    "    # Spalte \"time of measurement\" auflösen\n",
    "    data[i][['date','time', 'timezone']]= data[i][\"time of measurement\"].str.split(\" \",expand=True)\n",
    "    data[i][['year', 'month', 'day']] = data[i]['date'].str.split(\"-\", expand=True)\n",
    "    data[i][['hour', 'minute', 'second']] = data[i]['time'].str.split(\":\", expand=True)\n",
    "    \n",
    "    # Spalten umbenennen\n",
    "    data[i] = data[i].rename(columns={\"pedestrians count\" : \"pedestrians\", \"temperature in ºc\" : \"temperature\"})\n",
    "    \n",
    "    # Alle temprären Spalten löschen\n",
    "    data[i].drop(columns=['time of measurement', 'date', 'time', 'timezone', 'minute', 'second'], inplace=True)\n",
    "    \n",
    "    data[i] = data[i].astype({'year' : 'int16', 'month' : 'int16', 'day' : 'int16', 'hour' : 'int16', 'incidents' : 'int16', 'temperature' : 'int16', 'pedestrians' : 'int32'}, errors='ignore')\n",
    "    \n",
    "data[0]"
   ]
  },
  {
   "cell_type": "markdown",
   "id": "1de19fcc",
   "metadata": {},
   "source": [
    "# Daten analysieren"
   ]
  },
  {
   "cell_type": "code",
   "execution_count": null,
   "id": "8538d4a8",
   "metadata": {},
   "outputs": [],
   "source": [
    "def sumOfYear(data, year):\n",
    "    result = []\n",
    "    for city in data:\n",
    "        filteredByYear = city.loc[city['year'] == year]\n",
    "        result.append((city['location'][0], filteredByYear['pedestrians'].sum()))\n",
    "    return result\n",
    "\n",
    "sumOfYear(data, 2021)"
   ]
  },
  {
   "cell_type": "code",
   "execution_count": null,
   "id": "32c41a8c",
   "metadata": {},
   "outputs": [],
   "source": [
    "def sumOfYearPerMonth(data, year):\n",
    "    result = []\n",
    "    month = [\n",
    "        [\"January\",1],\n",
    "        [\"February\",2],\n",
    "        [\"March\",3],\n",
    "        [\"April\",4],\n",
    "        [\"May\",5],\n",
    "        [\"June\",6],\n",
    "        [\"July\",7],\n",
    "        [\"August\",8],\n",
    "        [\"September\",9],\n",
    "        [\"October\",10],\n",
    "        [\"November\",11],\n",
    "        [\"December\",12]\n",
    "    ]\n",
    "\n",
    "    for city in data:\n",
    "        filteredByYear = city.loc[city['year'] == year]\n",
    "        for i in month:\n",
    "            filteredByMonth = filteredByYear.loc[city['month'] == i[1]]\n",
    "            result.append((city['location'][0], str(i[0]) + \" \" + str(year), filteredByMonth['pedestrians'].sum()))\n",
    "\n",
    "    return result\n",
    "\n",
    "sumOfYearPerMonth(data, 2022)"
   ]
  },
  {
   "cell_type": "code",
   "execution_count": null,
   "id": "99bab827",
   "metadata": {},
   "outputs": [],
   "source": [
    "def sumOfYearPerWeekday(data, year):\n",
    "    result = [\n",
    "        \n",
    "    ]\n",
    "    weekdays = [\n",
    "        'Monday',\n",
    "        'Tuesday',\n",
    "        'Wednesday',\n",
    "        'Thursday',\n",
    "        'Friday',\n",
    "        'Saturday',\n",
    "        'Sunday'\n",
    "    ]\n",
    "    for city in data:\n",
    "        filteredByYear = city.loc[city['year'] == year]\n",
    "        for day in weekdays:\n",
    "            filteredByWeekday = filteredByYear.loc[city['weekday'] == day]\n",
    "            result.append((city['location'][0], day, filteredByWeekday['pedestrians'].sum()))\n",
    "\n",
    "    return result\n",
    "\n",
    "sumOfYearPerWeekday(data, 2021)"
   ]
  },
  {
   "cell_type": "code",
   "execution_count": null,
   "id": "1eb77439",
   "metadata": {},
   "outputs": [],
   "source": [
    "def sumOfYearPerDay(data, year):\n",
    "    result = []\n",
    "\n",
    "    for city in data:\n",
    "        filteredByYear = city.loc[city['year'] == year]\n",
    "        for i in range(1,13):\n",
    "            filteredByMonth = filteredByYear.loc[city['month'] == i]\n",
    "            #print(filteredByMonth)\n",
    "            for d in range(1,32):\n",
    "                #print(d)\n",
    "                pedestriansPerDay = filteredByMonth.loc[filteredByMonth['day'] == d]\n",
    "                if not pedestriansPerDay.empty:\n",
    "                    #print(pedestriansPerDay)\n",
    "                    result.append((city['location'][0], i, d, pedestriansPerDay['pedestrians'].sum()))\n",
    "\n",
    "    return result\n",
    "\n",
    "sumOfYearPerDay(data, 2020)"
   ]
  },
  {
   "cell_type": "code",
   "execution_count": null,
   "id": "5bc64248",
   "metadata": {},
   "outputs": [],
   "source": [
    "sumOverAllYear = sumOfYear(data, 2022) + sumOfYear(data, 2021) + sumOfYear(data, 2020)\n",
    "long_df = pd.DataFrame(sumOverAllYear, columns=['location', 'countp'])\n",
    "\n",
    "sumPersonOverAllYears = 0\n",
    "anzahlNuller = 0\n",
    "\n",
    "for persons in range(0,len(long_df.index)):\n",
    "    if long_df['countp'][persons] != 0:\n",
    "        sumPersonOverAllYears = sumPersonOverAllYears + long_df['countp'][persons]\n",
    "    else:\n",
    "        anzahlNuller = anzahlNuller + 1\n",
    "\n",
    "# durch anzahl der Zonen / Durch anzahl der Jahre / Durch anzahl der Jahre \n",
    "sumPersonForAZoneAYear = sumPersonOverAllYears / len(files) / 3\n",
    "sumPersonforAMonth = sumPersonForAZoneAYear / 12\n",
    "sumPersonforADay = sumPersonforAMonth / 30.44\n",
    "print(sumPersonforADay)\n",
    "\n",
    "\n",
    "# Bereinigung der 0 jahre (3 nuller mit durschnittperosnen durch das jahr)\n",
    "# sumPersonForADayCleand = sumPersonforADay + (anzahlNuller * sumPersonforADay / (len(files) * 3)) \n",
    "# print(sumPersonForADayCleand)\n"
   ]
  },
  {
   "cell_type": "markdown",
   "id": "0c529be8",
   "metadata": {},
   "source": [
    "# Daten visualisieren"
   ]
  },
  {
   "cell_type": "code",
   "execution_count": null,
   "id": "7690438a",
   "metadata": {},
   "outputs": [],
   "source": [
    "absPed2020 = sumOfYear(data, 2020)\n",
    "fig = px.bar(absPed2020, x=[x[0] for x in absPed2020], y=[y[1] for y in absPed2020], title='Absolute Zahlen 2020', labels={'x' : 'Ort', 'y' : 'Anzahl Fußübergänger'})\n",
    "fig.show()"
   ]
  },
  {
   "cell_type": "code",
   "execution_count": null,
   "id": "a45ccbc9",
   "metadata": {},
   "outputs": [],
   "source": [
    "absPed2021 = sumOfYear(data, 2021)\n",
    "fig = px.bar(absPed2021, x=[x[0] for x in absPed2021], y=[y[1] for y in absPed2021], title='Absolute Zahlen 2021', labels={'x' : 'Ort', 'y' : 'Anzahl Fußübergänger'})\n",
    "fig.show()"
   ]
  },
  {
   "cell_type": "code",
   "execution_count": null,
   "id": "4226cf59",
   "metadata": {},
   "outputs": [],
   "source": [
    "absPed2022 = sumOfYear(data, 2022)\n",
    "fig2 = px.bar(absPed2022, x=[x[0] for x in absPed2022], y=[y[1] for y in absPed2022], title='Absolute Zahlen 2022', labels={'x' : 'Ort', 'y' : 'Anzahl Fußübergänger'})\n",
    "fig2.show()"
   ]
  },
  {
   "cell_type": "code",
   "execution_count": null,
   "id": "ea89f06c",
   "metadata": {},
   "outputs": [],
   "source": [
    "weeklyPed2022 = sumOfYearPerWeekday(data, 2022)\n",
    "\n",
    "long_df = pd.DataFrame(weeklyPed2022, columns=['location', 'weekday', 'countp'])\n",
    "print(long_df)\n",
    "fig = px.bar(long_df, x='weekday', y='countp', color=\"location\")\n",
    "fig.show()"
   ]
  },
  {
   "cell_type": "markdown",
   "id": "0d71e920",
   "metadata": {},
   "source": [
    "## Vergleich der Relation zw. Einwohneranzahl und Passanten pro Jahr (in Welcher Stadt wird viel gelaufen)"
   ]
  },
  {
   "cell_type": "markdown",
   "id": "0abd05ca",
   "metadata": {},
   "source": [
    "## Jahreszeiten Vergleich"
   ]
  },
  {
   "cell_type": "markdown",
   "id": "0ac3bc7f",
   "metadata": {},
   "source": [
    "Im Folgenden werden die Jahreszeiten zunächst anhand derer absoluten Zahlen verglichen. Dafür wird das Jahr in die folgenden Abschnitte unterteilt: *Winter* (Dezember, Januar, Februar), *Frühling* (März, April, Mai), *Sommer* (Juni, Juli, August) und *Herbst* (September, Oktober, November). Hier werden die **meteorologischen Jahrezeiten** verwendet."
   ]
  },
  {
   "cell_type": "code",
   "execution_count": null,
   "id": "d20fa453",
   "metadata": {},
   "outputs": [],
   "source": [
    "def getRowsOfPeriod(sYear, sMonth, sDay, eYear, eMonth, eDay, data):\n",
    "    '''Returns a dataframe with all the rows between the given dates (The given dates are inclusive).'''\n",
    "    df = data.copy()\n",
    "    for i, city in enumerate(df):\n",
    "        city = city.loc[(city.year >= sYear) & (city.year <= eYear)]\n",
    "        \n",
    "        city = city.drop( city[(city.year == sYear) & (city.month < sMonth) ].index)\n",
    "        city = city.drop( city[(city.year == eYear) & (city.month > eMonth) ].index)\n",
    "    \n",
    "        city = city.drop( city[(city.year == sYear) & (city.month == sMonth) & (city.day < sDay)].index)\n",
    "        city = city.drop( city[(city.year == eYear) & (city.month == eMonth) & (city.day > eDay)].index)\n",
    "    \n",
    "        df[i] = city\n",
    "    return df\n",
    "\n",
    "\n",
    "def sumOfDf(dataframe):\n",
    "    '''Returns the sum of the pedestrian column for a given dataframe.'''\n",
    "    if not dataframe.empty:\n",
    "        return dataframe['pedestrians'].sum()\n",
    "    return 0\n",
    "\n",
    "\n",
    "def sumOfDfs(dfList):\n",
    "    '''Returns the sum of all the pedestrian sums for the given dataframes in the list'''\n",
    "    result = 0\n",
    "    for df in dfList:\n",
    "        result += sumOfDf(df)\n",
    "    return result\n",
    "    \n",
    "\n",
    "def seasonsOfYear(year, data):\n",
    "    winterP1 = sumOfDfs(getRowsOfPeriod(year, 1, 1, year, 2, 30, data))\n",
    "    winter = sumOfDfs(getRowsOfPeriod(year, 12, 1, year, 12, 31, data)) + winterP1\n",
    "    spring = sumOfDfs(getRowsOfPeriod(year, 3, 1, year, 5, 31, data))\n",
    "    sommer = sumOfDfs(getRowsOfPeriod(year, 6, 1, year, 8, 31, data))\n",
    "    autumn = sumOfDfs(getRowsOfPeriod(year, 9, 1, year, 11, 31, data))\n",
    "    \n",
    "    result = [\n",
    "        ('winter', winter),\n",
    "        ('spring', spring),\n",
    "        ('sommer', sommer),\n",
    "        ('autumn', autumn)\n",
    "    ]\n",
    "    \n",
    "    return pd.DataFrame(result, columns=['season', 'count'])\n",
    "\n",
    "\n",
    "\n",
    "absSeasons2021 = seasonsOfYear(2021, data)\n",
    "figSeasons2021 = px.bar(absSeasons2021, x='season', y='count', title='Vergleich Jahreszeiten', labels={'x' : 'Ort', 'y' : 'Anzahl Fußübergänger'})\n",
    "figSeasons2021.show()"
   ]
  },
  {
   "cell_type": "markdown",
   "id": "a47601a3",
   "metadata": {},
   "source": [
    "Die Jahreszeiten können zusätzlich noch nach den einzelnen Monatem aufgeschlüsselt werden um einen genaueren Einblick zu schaffen."
   ]
  },
  {
   "cell_type": "code",
   "execution_count": null,
   "id": "653e6f1c",
   "metadata": {},
   "outputs": [],
   "source": [
    "def monthsOfYear(year, data):\n",
    "    '''Returns a dataframe containing all months in combination with the sum of all locations for that specific month'''\n",
    "    df = data.copy()\n",
    "    for idx, city in enumerate(df):\n",
    "        df[idx] = city.loc[city.year == year]\n",
    "    \n",
    "    months = [0 for idx in range(12)]\n",
    "    sMonth = [\"Januar\", \"Februar\", \"März\", \"April\", \"Mai\", \"Juni\", \"Juli\", \"August\", \"September\", \"Oktober\", \"November\", \"Dezember\"]\n",
    "    \n",
    "    for city in df:\n",
    "        for month in range(1, 13):\n",
    "            mDf = city.loc[city.month == month]\n",
    "            months[month - 1] += sumOfDf(mDf)\n",
    "            \n",
    "    result = { 'Month' : sMonth, 'Count' : months }\n",
    "            \n",
    "    return pd.DataFrame(result)\n",
    "    \n",
    "    \n",
    "\n",
    "absMonths2021 = monthsOfYear(2021, data)\n",
    "figMonths2021 = px.bar(absMonths2021, x='Month', y='Count', title='Vergleich Monate 2021', labels={'x' : 'Ort', 'y' : 'Anzahl Fußübergänger'})\n",
    "figMonths2021.show()"
   ]
  },
  {
   "cell_type": "markdown",
   "id": "7a057507",
   "metadata": {},
   "source": [
    "In den Sommermonaten wegen dem Wetter so viel los und im November/Dezember wegen Weihnachten und Rabatten?"
   ]
  },
  {
   "cell_type": "markdown",
   "id": "4a2d94fc",
   "metadata": {},
   "source": [
    "## Große Events vgl. zu normalen Tagen (einem durschnittstag) "
   ]
  },
  {
   "cell_type": "markdown",
   "id": "aa1c72ff",
   "metadata": {},
   "source": [
    "## Corona vergleich"
   ]
  },
  {
   "cell_type": "markdown",
   "id": "ff5b790a",
   "metadata": {},
   "source": [
    "Nun werden die Monate der Jahre 2020 bis Herbst 2022 verglichen. (deutlich zu erkennen: zwei Lockdowns)"
   ]
  },
  {
   "cell_type": "code",
   "execution_count": null,
   "id": "e576f273",
   "metadata": {},
   "outputs": [],
   "source": [
    "monthlyPed = sumOfYearPerMonth(data, 2020) + sumOfYearPerMonth(data, 2021) + sumOfYearPerMonth(data, 2022)\n",
    "long_df = pd.DataFrame(monthlyPed, columns=['location', 'month', 'countp'])\n",
    "\n",
    "fig = px.bar(long_df, x='month', y='countp', color=\"location\")\n",
    "fig.show()"
   ]
  },
  {
   "cell_type": "markdown",
   "id": "c0e86f2c",
   "metadata": {},
   "source": [
    "Wöchentliche Fußgänger von Februar 2020 bis Mai 2020 (deutlich zu erkennen: Lockdown)"
   ]
  },
  {
   "cell_type": "code",
   "execution_count": null,
   "id": "9622554d",
   "metadata": {},
   "outputs": [],
   "source": []
  },
  {
   "cell_type": "markdown",
   "id": "0f9a0848",
   "metadata": {},
   "source": [
    "Tägliche Fußgänger im März 2020 pro Stadt (deutlich zu erkennen: Anfang des Lockdowns)"
   ]
  },
  {
   "cell_type": "code",
   "execution_count": null,
   "id": "8dea2d89",
   "metadata": {},
   "outputs": [],
   "source": [
    "sumOf2020PerDay = sumOfYearPerDay(data, 2020)\n",
    "sumOf2020PerDay_long_df = pd.DataFrame(sumOf2020PerDay, columns=['location', 'month', 'day', 'countp'])\n",
    "marchPed = sumOf2020PerDay_long_df[sumOf2020PerDay_long_df.month == 3]\n",
    "\n",
    "fig = px.bar(marchPed, x='day', y='countp', color=\"location\")\n",
    "fig.show()"
   ]
  },
  {
   "cell_type": "markdown",
   "id": "71818c84",
   "metadata": {},
   "source": [
    "## Wetter (Bevölk, Regen)"
   ]
  }
 ],
 "metadata": {
  "kernelspec": {
   "display_name": "Python 3.11.0 64-bit",
   "language": "python",
   "name": "python3"
  },
  "language_info": {
   "codemirror_mode": {
    "name": "ipython",
    "version": 3
   },
   "file_extension": ".py",
   "mimetype": "text/x-python",
   "name": "python",
   "nbconvert_exporter": "python",
   "pygments_lexer": "ipython3",
   "version": "3.11.0"
  },
  "vscode": {
   "interpreter": {
    "hash": "1f8edd31977a4e9bb6eef1da55de9044392963b9f99187bd33bfd4d2df6a845f"
   }
  }
 },
 "nbformat": 4,
 "nbformat_minor": 5
}
