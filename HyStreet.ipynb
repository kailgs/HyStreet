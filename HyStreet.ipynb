{
 "cells": [
  {
   "cell_type": "code",
   "execution_count": 59,
   "id": "a6f4a58b",
   "metadata": {},
   "outputs": [],
   "source": [
    "import pandas as pd # $ pip install pandas\n",
    "import folium # conda install -c conda-forge folium\n",
    "# import chart_studio.plotly as py # conda install -c plotly plotly, conda install -c plotly chart-studio\n",
    "import plotly.graph_objects as go\n",
    "import plotly.express as px\n",
    "import os"
   ]
  },
  {
   "cell_type": "markdown",
   "id": "4051eef7",
   "metadata": {},
   "source": [
    "# Standorte"
   ]
  },
  {
   "cell_type": "code",
   "execution_count": 60,
   "id": "89c867d3",
   "metadata": {},
   "outputs": [
    {
     "data": {
      "text/html": [
       "<div style=\"width:100%;\"><div style=\"position:relative;width:100%;height:0;padding-bottom:60%;\"><span style=\"color:#565656\">Make this Notebook Trusted to load map: File -> Trust Notebook</span><iframe srcdoc=\"&lt;!DOCTYPE html&gt;\n",
       "&lt;html&gt;\n",
       "&lt;head&gt;\n",
       "    \n",
       "    &lt;meta http-equiv=&quot;content-type&quot; content=&quot;text/html; charset=UTF-8&quot; /&gt;\n",
       "    \n",
       "        &lt;script&gt;\n",
       "            L_NO_TOUCH = false;\n",
       "            L_DISABLE_3D = false;\n",
       "        &lt;/script&gt;\n",
       "    \n",
       "    &lt;style&gt;html, body {width: 100%;height: 100%;margin: 0;padding: 0;}&lt;/style&gt;\n",
       "    &lt;style&gt;#map {position:absolute;top:0;bottom:0;right:0;left:0;}&lt;/style&gt;\n",
       "    &lt;script src=&quot;https://cdn.jsdelivr.net/npm/leaflet@1.6.0/dist/leaflet.js&quot;&gt;&lt;/script&gt;\n",
       "    &lt;script src=&quot;https://code.jquery.com/jquery-1.12.4.min.js&quot;&gt;&lt;/script&gt;\n",
       "    &lt;script src=&quot;https://maxcdn.bootstrapcdn.com/bootstrap/3.2.0/js/bootstrap.min.js&quot;&gt;&lt;/script&gt;\n",
       "    &lt;script src=&quot;https://cdnjs.cloudflare.com/ajax/libs/Leaflet.awesome-markers/2.0.2/leaflet.awesome-markers.js&quot;&gt;&lt;/script&gt;\n",
       "    &lt;link rel=&quot;stylesheet&quot; href=&quot;https://cdn.jsdelivr.net/npm/leaflet@1.6.0/dist/leaflet.css&quot;/&gt;\n",
       "    &lt;link rel=&quot;stylesheet&quot; href=&quot;https://maxcdn.bootstrapcdn.com/bootstrap/3.2.0/css/bootstrap.min.css&quot;/&gt;\n",
       "    &lt;link rel=&quot;stylesheet&quot; href=&quot;https://maxcdn.bootstrapcdn.com/bootstrap/3.2.0/css/bootstrap-theme.min.css&quot;/&gt;\n",
       "    &lt;link rel=&quot;stylesheet&quot; href=&quot;https://maxcdn.bootstrapcdn.com/font-awesome/4.6.3/css/font-awesome.min.css&quot;/&gt;\n",
       "    &lt;link rel=&quot;stylesheet&quot; href=&quot;https://cdnjs.cloudflare.com/ajax/libs/Leaflet.awesome-markers/2.0.2/leaflet.awesome-markers.css&quot;/&gt;\n",
       "    &lt;link rel=&quot;stylesheet&quot; href=&quot;https://cdn.jsdelivr.net/gh/python-visualization/folium/folium/templates/leaflet.awesome.rotate.min.css&quot;/&gt;\n",
       "    \n",
       "            &lt;meta name=&quot;viewport&quot; content=&quot;width=device-width,\n",
       "                initial-scale=1.0, maximum-scale=1.0, user-scalable=no&quot; /&gt;\n",
       "            &lt;style&gt;\n",
       "                #map_153b520839962add0ff03d14de34e06e {\n",
       "                    position: relative;\n",
       "                    width: 100.0%;\n",
       "                    height: 100.0%;\n",
       "                    left: 0.0%;\n",
       "                    top: 0.0%;\n",
       "                }\n",
       "            &lt;/style&gt;\n",
       "        \n",
       "&lt;/head&gt;\n",
       "&lt;body&gt;\n",
       "    \n",
       "    \n",
       "            &lt;div class=&quot;folium-map&quot; id=&quot;map_153b520839962add0ff03d14de34e06e&quot; &gt;&lt;/div&gt;\n",
       "        \n",
       "&lt;/body&gt;\n",
       "&lt;script&gt;\n",
       "    \n",
       "    \n",
       "            var map_153b520839962add0ff03d14de34e06e = L.map(\n",
       "                &quot;map_153b520839962add0ff03d14de34e06e&quot;,\n",
       "                {\n",
       "                    center: [51.2099, 10.4571],\n",
       "                    crs: L.CRS.EPSG3857,\n",
       "                    zoom: 6,\n",
       "                    zoomControl: true,\n",
       "                    preferCanvas: false,\n",
       "                }\n",
       "            );\n",
       "\n",
       "            \n",
       "\n",
       "        \n",
       "    \n",
       "            var tile_layer_ba360f7307ac3d85660e82a5f3ef18e8 = L.tileLayer(\n",
       "                &quot;https://{s}.tile.openstreetmap.org/{z}/{x}/{y}.png&quot;,\n",
       "                {&quot;attribution&quot;: &quot;Data by \\u0026copy; \\u003ca href=\\&quot;http://openstreetmap.org\\&quot;\\u003eOpenStreetMap\\u003c/a\\u003e, under \\u003ca href=\\&quot;http://www.openstreetmap.org/copyright\\&quot;\\u003eODbL\\u003c/a\\u003e.&quot;, &quot;detectRetina&quot;: false, &quot;maxNativeZoom&quot;: 18, &quot;maxZoom&quot;: 18, &quot;minZoom&quot;: 0, &quot;noWrap&quot;: false, &quot;opacity&quot;: 1, &quot;subdomains&quot;: &quot;abc&quot;, &quot;tms&quot;: false}\n",
       "            ).addTo(map_153b520839962add0ff03d14de34e06e);\n",
       "        \n",
       "    \n",
       "            var marker_cd286be37746eed7e2f1f53090dbed98 = L.marker(\n",
       "                [52.4613, 13.335307],\n",
       "                {}\n",
       "            ).addTo(map_153b520839962add0ff03d14de34e06e);\n",
       "        \n",
       "    \n",
       "            marker_cd286be37746eed7e2f1f53090dbed98.bindTooltip(\n",
       "                `&lt;div&gt;\n",
       "                     \tNeue Schönhauser Straße, Berlin\n",
       "                 &lt;/div&gt;`,\n",
       "                {&quot;sticky&quot;: true}\n",
       "            );\n",
       "        \n",
       "    \n",
       "            var marker_c8fae4c7c893c324f7990229942f3222 = L.marker(\n",
       "                [53.07736868080147, 8.804847969315563],\n",
       "                {}\n",
       "            ).addTo(map_153b520839962add0ff03d14de34e06e);\n",
       "        \n",
       "    \n",
       "            marker_c8fae4c7c893c324f7990229942f3222.bindTooltip(\n",
       "                `&lt;div&gt;\n",
       "                     Obernstraße, Bremen\n",
       "                 &lt;/div&gt;`,\n",
       "                {&quot;sticky&quot;: true}\n",
       "            );\n",
       "        \n",
       "    \n",
       "            var marker_661a51a5c5f28dfe07276b6157948c9d = L.marker(\n",
       "                [51.047494158917196, 13.737369656599013],\n",
       "                {}\n",
       "            ).addTo(map_153b520839962add0ff03d14de34e06e);\n",
       "        \n",
       "    \n",
       "            marker_661a51a5c5f28dfe07276b6157948c9d.bindTooltip(\n",
       "                `&lt;div&gt;\n",
       "                     dresden-prager straße\n",
       "                 &lt;/div&gt;`,\n",
       "                {&quot;sticky&quot;: true}\n",
       "            );\n",
       "        \n",
       "    \n",
       "            var marker_20b13768fae2a5f611d54755269ca331 = L.marker(\n",
       "                [551.2221850501027, 6.779255270096054],\n",
       "                {}\n",
       "            ).addTo(map_153b520839962add0ff03d14de34e06e);\n",
       "        \n",
       "    \n",
       "            marker_20b13768fae2a5f611d54755269ca331.bindTooltip(\n",
       "                `&lt;div&gt;\n",
       "                     düsseldorf-königsallee ostseiten\n",
       "                 &lt;/div&gt;`,\n",
       "                {&quot;sticky&quot;: true}\n",
       "            );\n",
       "        \n",
       "    \n",
       "            var marker_f5f561de96817e1f3a6ae4f9a12db5fa = L.marker(\n",
       "                [50.97797259773246, 11.026376827762066],\n",
       "                {}\n",
       "            ).addTo(map_153b520839962add0ff03d14de34e06e);\n",
       "        \n",
       "    \n",
       "            marker_f5f561de96817e1f3a6ae4f9a12db5fa.bindTooltip(\n",
       "                `&lt;div&gt;\n",
       "                     erfurt-marktstraßen\n",
       "                 &lt;/div&gt;`,\n",
       "                {&quot;sticky&quot;: true}\n",
       "            );\n",
       "        \n",
       "    \n",
       "            var marker_348199b9c6776d78255741b9e41ed3d2 = L.marker(\n",
       "                [50.11494292444826, 8.687410770070198],\n",
       "                {}\n",
       "            ).addTo(map_153b520839962add0ff03d14de34e06e);\n",
       "        \n",
       "    \n",
       "            marker_348199b9c6776d78255741b9e41ed3d2.bindTooltip(\n",
       "                `&lt;div&gt;\n",
       "                     frankfurt a.m.-zeil\n",
       "                 &lt;/div&gt;`,\n",
       "                {&quot;sticky&quot;: true}\n",
       "            );\n",
       "        \n",
       "    \n",
       "            var marker_90093e88d6af958470d2823e1fc5e7fc = L.marker(\n",
       "                [51.480738258522834, 11.97536492962145],\n",
       "                {}\n",
       "            ).addTo(map_153b520839962add0ff03d14de34e06e);\n",
       "        \n",
       "    \n",
       "            marker_90093e88d6af958470d2823e1fc5e7fc.bindTooltip(\n",
       "                `&lt;div&gt;\n",
       "                     halle (saale)-leipziger straße\n",
       "                 &lt;/div&gt;`,\n",
       "                {&quot;sticky&quot;: true}\n",
       "            );\n",
       "        \n",
       "    \n",
       "            var marker_ab670f5750446a2363c2e9025ac6c558 = L.marker(\n",
       "                [53.55376220607088, 9.991887654803696],\n",
       "                {}\n",
       "            ).addTo(map_153b520839962add0ff03d14de34e06e);\n",
       "        \n",
       "    \n",
       "            marker_ab670f5750446a2363c2e9025ac6c558.bindTooltip(\n",
       "                `&lt;div&gt;\n",
       "                     hamburg-jungfernstieg\n",
       "                 &lt;/div&gt;`,\n",
       "                {&quot;sticky&quot;: true}\n",
       "            );\n",
       "        \n",
       "    \n",
       "            var marker_c39b53599b5dcfbaee2f1d57e0ce0218 = L.marker(\n",
       "                [52.374956125557894, 9.737387597107245],\n",
       "                {}\n",
       "            ).addTo(map_153b520839962add0ff03d14de34e06e);\n",
       "        \n",
       "    \n",
       "            marker_c39b53599b5dcfbaee2f1d57e0ce0218.bindTooltip(\n",
       "                `&lt;div&gt;\n",
       "                     hannover-georgstraße\n",
       "                 &lt;/div&gt;`,\n",
       "                {&quot;sticky&quot;: true}\n",
       "            );\n",
       "        \n",
       "    \n",
       "            var marker_95684bec80f6af56cf7ed0c9eae1e300 = L.marker(\n",
       "                [54.3211874676847, 10.13512538365591],\n",
       "                {}\n",
       "            ).addTo(map_153b520839962add0ff03d14de34e06e);\n",
       "        \n",
       "    \n",
       "            marker_95684bec80f6af56cf7ed0c9eae1e300.bindTooltip(\n",
       "                `&lt;div&gt;\n",
       "                     kiel-holstenstraße\n",
       "                 &lt;/div&gt;`,\n",
       "                {&quot;sticky&quot;: true}\n",
       "            );\n",
       "        \n",
       "    \n",
       "            var marker_110af1a3cca9c06b2539519062f41b4c = L.marker(\n",
       "                [50.001027164285354, 8.270445585412894],\n",
       "                {}\n",
       "            ).addTo(map_153b520839962add0ff03d14de34e06e);\n",
       "        \n",
       "    \n",
       "            marker_110af1a3cca9c06b2539519062f41b4c.bindTooltip(\n",
       "                `&lt;div&gt;\n",
       "                     mainz-stadthausstraße\n",
       "                 &lt;/div&gt;`,\n",
       "                {&quot;sticky&quot;: true}\n",
       "            );\n",
       "        \n",
       "    \n",
       "            var marker_36b9f7504ba7f9aa4785ec9512b868ee = L.marker(\n",
       "                [48.137685457750635, 11.573367770032743],\n",
       "                {}\n",
       "            ).addTo(map_153b520839962add0ff03d14de34e06e);\n",
       "        \n",
       "    \n",
       "            marker_36b9f7504ba7f9aa4785ec9512b868ee.bindTooltip(\n",
       "                `&lt;div&gt;\n",
       "                     münchen-kaufingerstraße\n",
       "                 &lt;/div&gt;`,\n",
       "                {&quot;sticky&quot;: true}\n",
       "            );\n",
       "        \n",
       "    \n",
       "            var marker_2266edb5238453752e20078724ef67a7 = L.marker(\n",
       "                [54.088503508553394, 12.134802012486357],\n",
       "                {}\n",
       "            ).addTo(map_153b520839962add0ff03d14de34e06e);\n",
       "        \n",
       "    \n",
       "            marker_2266edb5238453752e20078724ef67a7.bindTooltip(\n",
       "                `&lt;div&gt;\n",
       "                     rostock-kröpeliner straße\n",
       "                 &lt;/div&gt;`,\n",
       "                {&quot;sticky&quot;: true}\n",
       "            );\n",
       "        \n",
       "    \n",
       "            var marker_1fb2e5f4b784b1289fdebcfccfc51350 = L.marker(\n",
       "                [49.2359910863105, 6.993367970054943],\n",
       "                {}\n",
       "            ).addTo(map_153b520839962add0ff03d14de34e06e);\n",
       "        \n",
       "    \n",
       "            marker_1fb2e5f4b784b1289fdebcfccfc51350.bindTooltip(\n",
       "                `&lt;div&gt;\n",
       "                     saarbrücken-bahnhofstraße\n",
       "                 &lt;/div&gt;`,\n",
       "                {&quot;sticky&quot;: true}\n",
       "            );\n",
       "        \n",
       "    \n",
       "            var marker_c23bc358dee475cb8532df285dd1be95 = L.marker(\n",
       "                [48.77820910005942, 9.177711579841167],\n",
       "                {}\n",
       "            ).addTo(map_153b520839962add0ff03d14de34e06e);\n",
       "        \n",
       "    \n",
       "            marker_c23bc358dee475cb8532df285dd1be95.bindTooltip(\n",
       "                `&lt;div&gt;\n",
       "                     stuttgart-königstraßee\n",
       "                 &lt;/div&gt;`,\n",
       "                {&quot;sticky&quot;: true}\n",
       "            );\n",
       "        \n",
       "&lt;/script&gt;\n",
       "&lt;/html&gt;\" style=\"position:absolute;width:100%;height:100%;left:0;top:0;border:none !important;\" allowfullscreen webkitallowfullscreen mozallowfullscreen></iframe></div></div>"
      ],
      "text/plain": [
       "<folium.folium.Map at 0x21f83b9c910>"
      ]
     },
     "execution_count": 60,
     "metadata": {},
     "output_type": "execute_result"
    }
   ],
   "source": [
    "m = folium.Map(location=[51.2099, 10.4571], zoom_start=6)\n",
    "folium.Marker([52.461300, 13.335307], tooltip='\tNeue Schönhauser Straße, Berlin').add_to(m)\n",
    "folium.Marker([53.07736868080147, 8.804847969315563], tooltip=\"Obernstraße, Bremen\").add_to(m)\n",
    "folium.Marker([51.047494158917196, 13.737369656599013], tooltip=\"dresden-prager straße\").add_to(m)\n",
    "folium.Marker([551.222185050102674, 6.779255270096054], tooltip=\"düsseldorf-königsallee ostseiten\").add_to(m)\n",
    "folium.Marker([50.97797259773246, 11.026376827762066], tooltip=\"erfurt-marktstraßen\").add_to(m)\n",
    "folium.Marker([50.11494292444826, 8.687410770070198], tooltip=\"frankfurt a.m.-zeil\").add_to(m)\n",
    "folium.Marker([51.480738258522834, 11.97536492962145], tooltip=\"halle (saale)-leipziger straße\").add_to(m)\n",
    "folium.Marker([53.55376220607088, 9.991887654803696], tooltip=\"hamburg-jungfernstieg\").add_to(m)\n",
    "folium.Marker([52.374956125557894, 9.737387597107245], tooltip=\"hannover-georgstraße\").add_to(m)\n",
    "folium.Marker([54.3211874676847, 10.13512538365591], tooltip=\"kiel-holstenstraße\").add_to(m)\n",
    "folium.Marker([50.001027164285354, 8.270445585412894], tooltip=\"mainz-stadthausstraße\").add_to(m)\n",
    "folium.Marker([48.137685457750635, 11.573367770032743], tooltip=\"münchen-kaufingerstraße\").add_to(m)\n",
    "folium.Marker([54.088503508553394, 12.134802012486357], tooltip=\"rostock-kröpeliner straße\").add_to(m)\n",
    "folium.Marker([49.2359910863105, 6.993367970054943], tooltip=\"saarbrücken-bahnhofstraße\").add_to(m)\n",
    "folium.Marker([48.77820910005942, 9.177711579841167], tooltip=\"stuttgart-königstraßee\").add_to(m)\n",
    "\n",
    "m"
   ]
  },
  {
   "cell_type": "markdown",
   "id": "4c4a9405",
   "metadata": {},
   "source": [
    "# Daten einlesen"
   ]
  },
  {
   "cell_type": "code",
   "execution_count": 61,
   "id": "48433569",
   "metadata": {},
   "outputs": [
    {
     "data": {
      "text/plain": [
       "['data/berlin-neue schönhauser straße-20210817-20221031-hour.csv',\n",
       " 'data/bremen-obernstraße-20190930-20221031-hour.csv',\n",
       " 'data/dresden-prager straße (nord)-20190728-20221031-hour.csv',\n",
       " 'data/düsseldorf-königsallee ostseite (süd)-20180430-20221031-hour.csv',\n",
       " 'data/erfurt-marktstraße-20220720-20221031-hour.csv',\n",
       " 'data/frankfurt a.m.-zeil (mitte)-20190630-20221031-hour.csv',\n",
       " 'data/halle (saale)-leipziger straße (west)-20201209-20221031-hour.csv',\n",
       " 'data/hamburg-jungfernstieg-20180927-20221031-hour.csv',\n",
       " 'data/hannover-georgstraße-20180731-20221031-hour.csv',\n",
       " 'data/kiel-holstenstraße (mitte)-20200505-20221031-hour.csv',\n",
       " 'data/mainz-stadthausstraße-20180430-20221031-hour.csv',\n",
       " 'data/münchen-kaufingerstraße-20190827-20221031-hour.csv',\n",
       " 'data/rostock-kröpeliner straße (west)-20191031-20221031-hour.csv',\n",
       " 'data/saarbrücken-bahnhofstraße (mitte)-20180430-20221031-hour.csv',\n",
       " 'data/stuttgart-königstraße (mitte)-20180430-20221031-hour.csv']"
      ]
     },
     "execution_count": 61,
     "metadata": {},
     "output_type": "execute_result"
    }
   ],
   "source": [
    "files = [ 'data/' + x for x in os.listdir('data') ]\n",
    "files"
   ]
  },
  {
   "cell_type": "code",
   "execution_count": 62,
   "id": "7a80b83b",
   "metadata": {},
   "outputs": [
    {
     "data": {
      "text/html": [
       "<div>\n",
       "<style scoped>\n",
       "    .dataframe tbody tr th:only-of-type {\n",
       "        vertical-align: middle;\n",
       "    }\n",
       "\n",
       "    .dataframe tbody tr th {\n",
       "        vertical-align: top;\n",
       "    }\n",
       "\n",
       "    .dataframe thead th {\n",
       "        text-align: right;\n",
       "    }\n",
       "</style>\n",
       "<table border=\"1\" class=\"dataframe\">\n",
       "  <thead>\n",
       "    <tr style=\"text-align: right;\">\n",
       "      <th></th>\n",
       "      <th>location</th>\n",
       "      <th>time of measurement</th>\n",
       "      <th>weekday</th>\n",
       "      <th>pedestrians count</th>\n",
       "      <th>temperature in ºc</th>\n",
       "      <th>weather condition</th>\n",
       "      <th>incidents</th>\n",
       "    </tr>\n",
       "  </thead>\n",
       "  <tbody>\n",
       "    <tr>\n",
       "      <th>0</th>\n",
       "      <td>Obernstraße, Bremen</td>\n",
       "      <td>2019-10-01 00:00:00 +0200</td>\n",
       "      <td>Tuesday</td>\n",
       "      <td>16</td>\n",
       "      <td>NaN</td>\n",
       "      <td>NaN</td>\n",
       "      <td>NaN</td>\n",
       "    </tr>\n",
       "  </tbody>\n",
       "</table>\n",
       "</div>"
      ],
      "text/plain": [
       "              location        time of measurement  weekday  pedestrians count  \\\n",
       "0  Obernstraße, Bremen  2019-10-01 00:00:00 +0200  Tuesday                 16   \n",
       "\n",
       "   temperature in ºc weather condition incidents  \n",
       "0                NaN               NaN       NaN  "
      ]
     },
     "execution_count": 62,
     "metadata": {},
     "output_type": "execute_result"
    }
   ],
   "source": [
    "data = [ pd.read_csv(x, delimiter=';') for x in files ] # Stadt1 in data[0], Stadt2 in data[1] ...\n",
    "data[1].head(1)"
   ]
  },
  {
   "cell_type": "markdown",
   "id": "fa3e2568",
   "metadata": {},
   "source": [
    "# Datensatz aufbereiten"
   ]
  },
  {
   "cell_type": "markdown",
   "id": "0aacc47a",
   "metadata": {},
   "source": [
    "\"time of measurement\" in seine Bestandteile Jahr, Monat, Tag, Stunde auflösen."
   ]
  },
  {
   "cell_type": "code",
   "execution_count": 63,
   "id": "571760ee",
   "metadata": {},
   "outputs": [
    {
     "data": {
      "text/html": [
       "<div>\n",
       "<style scoped>\n",
       "    .dataframe tbody tr th:only-of-type {\n",
       "        vertical-align: middle;\n",
       "    }\n",
       "\n",
       "    .dataframe tbody tr th {\n",
       "        vertical-align: top;\n",
       "    }\n",
       "\n",
       "    .dataframe thead th {\n",
       "        text-align: right;\n",
       "    }\n",
       "</style>\n",
       "<table border=\"1\" class=\"dataframe\">\n",
       "  <thead>\n",
       "    <tr style=\"text-align: right;\">\n",
       "      <th></th>\n",
       "      <th>location</th>\n",
       "      <th>weekday</th>\n",
       "      <th>pedestrians</th>\n",
       "      <th>temperature</th>\n",
       "      <th>weather condition</th>\n",
       "      <th>incidents</th>\n",
       "      <th>year</th>\n",
       "      <th>month</th>\n",
       "      <th>day</th>\n",
       "      <th>hour</th>\n",
       "    </tr>\n",
       "  </thead>\n",
       "  <tbody>\n",
       "    <tr>\n",
       "      <th>0</th>\n",
       "      <td>Neue Schönhauser Straße, Berlin</td>\n",
       "      <td>Wednesday</td>\n",
       "      <td>31</td>\n",
       "      <td>15</td>\n",
       "      <td>partly-cloudy-night</td>\n",
       "      <td>NaN</td>\n",
       "      <td>2021</td>\n",
       "      <td>8</td>\n",
       "      <td>18</td>\n",
       "      <td>0</td>\n",
       "    </tr>\n",
       "    <tr>\n",
       "      <th>1</th>\n",
       "      <td>Neue Schönhauser Straße, Berlin</td>\n",
       "      <td>Wednesday</td>\n",
       "      <td>13</td>\n",
       "      <td>14</td>\n",
       "      <td>partly-cloudy-night</td>\n",
       "      <td>NaN</td>\n",
       "      <td>2021</td>\n",
       "      <td>8</td>\n",
       "      <td>18</td>\n",
       "      <td>1</td>\n",
       "    </tr>\n",
       "    <tr>\n",
       "      <th>2</th>\n",
       "      <td>Neue Schönhauser Straße, Berlin</td>\n",
       "      <td>Wednesday</td>\n",
       "      <td>0</td>\n",
       "      <td>14</td>\n",
       "      <td>partly-cloudy-night</td>\n",
       "      <td>NaN</td>\n",
       "      <td>2021</td>\n",
       "      <td>8</td>\n",
       "      <td>18</td>\n",
       "      <td>2</td>\n",
       "    </tr>\n",
       "    <tr>\n",
       "      <th>3</th>\n",
       "      <td>Neue Schönhauser Straße, Berlin</td>\n",
       "      <td>Wednesday</td>\n",
       "      <td>4</td>\n",
       "      <td>14</td>\n",
       "      <td>partly-cloudy-night</td>\n",
       "      <td>NaN</td>\n",
       "      <td>2021</td>\n",
       "      <td>8</td>\n",
       "      <td>18</td>\n",
       "      <td>3</td>\n",
       "    </tr>\n",
       "    <tr>\n",
       "      <th>4</th>\n",
       "      <td>Neue Schönhauser Straße, Berlin</td>\n",
       "      <td>Wednesday</td>\n",
       "      <td>3</td>\n",
       "      <td>13</td>\n",
       "      <td>partly-cloudy-night</td>\n",
       "      <td>NaN</td>\n",
       "      <td>2021</td>\n",
       "      <td>8</td>\n",
       "      <td>18</td>\n",
       "      <td>4</td>\n",
       "    </tr>\n",
       "    <tr>\n",
       "      <th>...</th>\n",
       "      <td>...</td>\n",
       "      <td>...</td>\n",
       "      <td>...</td>\n",
       "      <td>...</td>\n",
       "      <td>...</td>\n",
       "      <td>...</td>\n",
       "      <td>...</td>\n",
       "      <td>...</td>\n",
       "      <td>...</td>\n",
       "      <td>...</td>\n",
       "    </tr>\n",
       "    <tr>\n",
       "      <th>10556</th>\n",
       "      <td>Neue Schönhauser Straße, Berlin</td>\n",
       "      <td>Monday</td>\n",
       "      <td>529</td>\n",
       "      <td>15</td>\n",
       "      <td>cloudy</td>\n",
       "      <td>NaN</td>\n",
       "      <td>2022</td>\n",
       "      <td>10</td>\n",
       "      <td>31</td>\n",
       "      <td>19</td>\n",
       "    </tr>\n",
       "    <tr>\n",
       "      <th>10557</th>\n",
       "      <td>Neue Schönhauser Straße, Berlin</td>\n",
       "      <td>Monday</td>\n",
       "      <td>287</td>\n",
       "      <td>14</td>\n",
       "      <td>cloudy</td>\n",
       "      <td>NaN</td>\n",
       "      <td>2022</td>\n",
       "      <td>10</td>\n",
       "      <td>31</td>\n",
       "      <td>20</td>\n",
       "    </tr>\n",
       "    <tr>\n",
       "      <th>10558</th>\n",
       "      <td>Neue Schönhauser Straße, Berlin</td>\n",
       "      <td>Monday</td>\n",
       "      <td>204</td>\n",
       "      <td>14</td>\n",
       "      <td>cloudy</td>\n",
       "      <td>NaN</td>\n",
       "      <td>2022</td>\n",
       "      <td>10</td>\n",
       "      <td>31</td>\n",
       "      <td>21</td>\n",
       "    </tr>\n",
       "    <tr>\n",
       "      <th>10559</th>\n",
       "      <td>Neue Schönhauser Straße, Berlin</td>\n",
       "      <td>Monday</td>\n",
       "      <td>140</td>\n",
       "      <td>13</td>\n",
       "      <td>cloudy</td>\n",
       "      <td>NaN</td>\n",
       "      <td>2022</td>\n",
       "      <td>10</td>\n",
       "      <td>31</td>\n",
       "      <td>22</td>\n",
       "    </tr>\n",
       "    <tr>\n",
       "      <th>10560</th>\n",
       "      <td>Neue Schönhauser Straße, Berlin</td>\n",
       "      <td>Monday</td>\n",
       "      <td>83</td>\n",
       "      <td>13</td>\n",
       "      <td>cloudy</td>\n",
       "      <td>NaN</td>\n",
       "      <td>2022</td>\n",
       "      <td>10</td>\n",
       "      <td>31</td>\n",
       "      <td>23</td>\n",
       "    </tr>\n",
       "  </tbody>\n",
       "</table>\n",
       "<p>10561 rows × 10 columns</p>\n",
       "</div>"
      ],
      "text/plain": [
       "                              location    weekday  pedestrians  temperature  \\\n",
       "0      Neue Schönhauser Straße, Berlin  Wednesday           31           15   \n",
       "1      Neue Schönhauser Straße, Berlin  Wednesday           13           14   \n",
       "2      Neue Schönhauser Straße, Berlin  Wednesday            0           14   \n",
       "3      Neue Schönhauser Straße, Berlin  Wednesday            4           14   \n",
       "4      Neue Schönhauser Straße, Berlin  Wednesday            3           13   \n",
       "...                                ...        ...          ...          ...   \n",
       "10556  Neue Schönhauser Straße, Berlin     Monday          529           15   \n",
       "10557  Neue Schönhauser Straße, Berlin     Monday          287           14   \n",
       "10558  Neue Schönhauser Straße, Berlin     Monday          204           14   \n",
       "10559  Neue Schönhauser Straße, Berlin     Monday          140           13   \n",
       "10560  Neue Schönhauser Straße, Berlin     Monday           83           13   \n",
       "\n",
       "         weather condition  incidents  year  month  day  hour  \n",
       "0      partly-cloudy-night        NaN  2021      8   18     0  \n",
       "1      partly-cloudy-night        NaN  2021      8   18     1  \n",
       "2      partly-cloudy-night        NaN  2021      8   18     2  \n",
       "3      partly-cloudy-night        NaN  2021      8   18     3  \n",
       "4      partly-cloudy-night        NaN  2021      8   18     4  \n",
       "...                    ...        ...   ...    ...  ...   ...  \n",
       "10556               cloudy        NaN  2022     10   31    19  \n",
       "10557               cloudy        NaN  2022     10   31    20  \n",
       "10558               cloudy        NaN  2022     10   31    21  \n",
       "10559               cloudy        NaN  2022     10   31    22  \n",
       "10560               cloudy        NaN  2022     10   31    23  \n",
       "\n",
       "[10561 rows x 10 columns]"
      ]
     },
     "execution_count": 63,
     "metadata": {},
     "output_type": "execute_result"
    }
   ],
   "source": [
    "for i in range(len(data)):\n",
    "    # Spalte \"time of measurement\" auflösen\n",
    "    data[i][['date','time', 'timezone']]= data[i][\"time of measurement\"].str.split(\" \",expand=True)\n",
    "    data[i][['year', 'month', 'day']] = data[i]['date'].str.split(\"-\", expand=True)\n",
    "    data[i][['hour', 'minute', 'second']] = data[i]['time'].str.split(\":\", expand=True)\n",
    "    \n",
    "    # Spalten umbenennen\n",
    "    data[i] = data[i].rename(columns={\"pedestrians count\" : \"pedestrians\", \"temperature in ºc\" : \"temperature\"})\n",
    "    \n",
    "    # Alle temprären Spalten löschen\n",
    "    data[i].drop(columns=['time of measurement', 'date', 'time', 'timezone', 'minute', 'second'], inplace=True)\n",
    "    \n",
    "    data[i] = data[i].astype({'year' : 'int16', 'month' : 'int16', 'day' : 'int16', 'hour' : 'int16', 'incidents' : 'int16', 'temperature' : 'int16', 'pedestrians' : 'int32'}, errors='ignore')\n",
    "    \n",
    "data[0]"
   ]
  },
  {
   "cell_type": "markdown",
   "id": "1de19fcc",
   "metadata": {},
   "source": [
    "# Daten analysieren"
   ]
  },
  {
   "cell_type": "code",
   "execution_count": 64,
   "id": "8538d4a8",
   "metadata": {},
   "outputs": [
    {
     "data": {
      "text/plain": [
       "[('Neue Schönhauser Straße, Berlin', 1189810),\n",
       " ('Obernstraße, Bremen', 4923375),\n",
       " ('Prager Straße (Nord), Dresden', 8298939),\n",
       " ('Königsallee Ostseite (Süd), Düsseldorf', 3579864),\n",
       " ('Marktstraße, Erfurt', 0),\n",
       " ('Zeil (Mitte), Frankfurt a.M.', 12529295),\n",
       " ('Leipziger Straße (West), Halle (Saale)', 5496608),\n",
       " ('Jungfernstieg, Hamburg', 7379766),\n",
       " ('Georgstraße, Hannover', 14034597),\n",
       " ('Holstenstraße (Mitte), Kiel', 5033672),\n",
       " ('Stadthausstraße, Mainz', 3215351),\n",
       " ('Kaufingerstraße, München', 15517650),\n",
       " ('Kröpeliner Straße (West), Rostock', 6840266),\n",
       " ('Bahnhofstraße (Mitte), Saarbrücken', 9839731),\n",
       " ('Königstraße (Mitte), Stuttgart', 7581398)]"
      ]
     },
     "execution_count": 64,
     "metadata": {},
     "output_type": "execute_result"
    }
   ],
   "source": [
    "def sumOfYear(data, year):\n",
    "    result = []\n",
    "    for city in data:\n",
    "        filteredByYear = city.loc[city['year'] == year]\n",
    "        result.append((city['location'][0], filteredByYear['pedestrians'].sum()))\n",
    "    return result\n",
    "\n",
    "sumOfYear(data, 2021)"
   ]
  },
  {
   "cell_type": "code",
   "execution_count": 65,
   "id": "99bab827",
   "metadata": {},
   "outputs": [
    {
     "data": {
      "text/plain": [
       "[('Neue Schönhauser Straße, Berlin', 'Monday', 159968),\n",
       " ('Neue Schönhauser Straße, Berlin', 'Tuesday', 156987),\n",
       " ('Neue Schönhauser Straße, Berlin', 'Wednesday', 168129),\n",
       " ('Neue Schönhauser Straße, Berlin', 'Thursday', 169726),\n",
       " ('Neue Schönhauser Straße, Berlin', 'Friday', 192303),\n",
       " ('Neue Schönhauser Straße, Berlin', 'Saturday', 262617),\n",
       " ('Neue Schönhauser Straße, Berlin', 'Sunday', 80080),\n",
       " ('Obernstraße, Bremen', 'Monday', 716665),\n",
       " ('Obernstraße, Bremen', 'Tuesday', 720608),\n",
       " ('Obernstraße, Bremen', 'Wednesday', 715667),\n",
       " ('Obernstraße, Bremen', 'Thursday', 697398),\n",
       " ('Obernstraße, Bremen', 'Friday', 776427),\n",
       " ('Obernstraße, Bremen', 'Saturday', 1036640),\n",
       " ('Obernstraße, Bremen', 'Sunday', 259970),\n",
       " ('Prager Straße (Nord), Dresden', 'Monday', 1153268),\n",
       " ('Prager Straße (Nord), Dresden', 'Tuesday', 1170724),\n",
       " ('Prager Straße (Nord), Dresden', 'Wednesday', 1209002),\n",
       " ('Prager Straße (Nord), Dresden', 'Thursday', 1154988),\n",
       " ('Prager Straße (Nord), Dresden', 'Friday', 1294519),\n",
       " ('Prager Straße (Nord), Dresden', 'Saturday', 1784249),\n",
       " ('Prager Straße (Nord), Dresden', 'Sunday', 532189),\n",
       " ('Königsallee Ostseite (Süd), Düsseldorf', 'Monday', 474926),\n",
       " ('Königsallee Ostseite (Süd), Düsseldorf', 'Tuesday', 455659),\n",
       " ('Königsallee Ostseite (Süd), Düsseldorf', 'Wednesday', 488980),\n",
       " ('Königsallee Ostseite (Süd), Düsseldorf', 'Thursday', 481799),\n",
       " ('Königsallee Ostseite (Süd), Düsseldorf', 'Friday', 569659),\n",
       " ('Königsallee Ostseite (Süd), Düsseldorf', 'Saturday', 839365),\n",
       " ('Königsallee Ostseite (Süd), Düsseldorf', 'Sunday', 269476),\n",
       " ('Marktstraße, Erfurt', 'Monday', 0),\n",
       " ('Marktstraße, Erfurt', 'Tuesday', 0),\n",
       " ('Marktstraße, Erfurt', 'Wednesday', 0),\n",
       " ('Marktstraße, Erfurt', 'Thursday', 0),\n",
       " ('Marktstraße, Erfurt', 'Friday', 0),\n",
       " ('Marktstraße, Erfurt', 'Saturday', 0),\n",
       " ('Marktstraße, Erfurt', 'Sunday', 0),\n",
       " ('Zeil (Mitte), Frankfurt a.M.', 'Monday', 1744887),\n",
       " ('Zeil (Mitte), Frankfurt a.M.', 'Tuesday', 1578567),\n",
       " ('Zeil (Mitte), Frankfurt a.M.', 'Wednesday', 1671490),\n",
       " ('Zeil (Mitte), Frankfurt a.M.', 'Thursday', 1802000),\n",
       " ('Zeil (Mitte), Frankfurt a.M.', 'Friday', 2033775),\n",
       " ('Zeil (Mitte), Frankfurt a.M.', 'Saturday', 2847477),\n",
       " ('Zeil (Mitte), Frankfurt a.M.', 'Sunday', 851099),\n",
       " ('Leipziger Straße (West), Halle (Saale)', 'Monday', 861435),\n",
       " ('Leipziger Straße (West), Halle (Saale)', 'Tuesday', 877665),\n",
       " ('Leipziger Straße (West), Halle (Saale)', 'Wednesday', 861009),\n",
       " ('Leipziger Straße (West), Halle (Saale)', 'Thursday', 821365),\n",
       " ('Leipziger Straße (West), Halle (Saale)', 'Friday', 851400),\n",
       " ('Leipziger Straße (West), Halle (Saale)', 'Saturday', 954806),\n",
       " ('Leipziger Straße (West), Halle (Saale)', 'Sunday', 268928),\n",
       " ('Jungfernstieg, Hamburg', 'Monday', 1055642),\n",
       " ('Jungfernstieg, Hamburg', 'Tuesday', 1077456),\n",
       " ('Jungfernstieg, Hamburg', 'Wednesday', 1078574),\n",
       " ('Jungfernstieg, Hamburg', 'Thursday', 1077072),\n",
       " ('Jungfernstieg, Hamburg', 'Friday', 1171228),\n",
       " ('Jungfernstieg, Hamburg', 'Saturday', 1451250),\n",
       " ('Jungfernstieg, Hamburg', 'Sunday', 468544),\n",
       " ('Georgstraße, Hannover', 'Monday', 2068948),\n",
       " ('Georgstraße, Hannover', 'Tuesday', 2065773),\n",
       " ('Georgstraße, Hannover', 'Wednesday', 2035203),\n",
       " ('Georgstraße, Hannover', 'Thursday', 2017526),\n",
       " ('Georgstraße, Hannover', 'Friday', 2272909),\n",
       " ('Georgstraße, Hannover', 'Saturday', 2769373),\n",
       " ('Georgstraße, Hannover', 'Sunday', 804865),\n",
       " ('Holstenstraße (Mitte), Kiel', 'Monday', 737156),\n",
       " ('Holstenstraße (Mitte), Kiel', 'Tuesday', 754312),\n",
       " ('Holstenstraße (Mitte), Kiel', 'Wednesday', 712827),\n",
       " ('Holstenstraße (Mitte), Kiel', 'Thursday', 725199),\n",
       " ('Holstenstraße (Mitte), Kiel', 'Friday', 766346),\n",
       " ('Holstenstraße (Mitte), Kiel', 'Saturday', 977267),\n",
       " ('Holstenstraße (Mitte), Kiel', 'Sunday', 360565),\n",
       " ('Stadthausstraße, Mainz', 'Monday', 469946),\n",
       " ('Stadthausstraße, Mainz', 'Tuesday', 469596),\n",
       " ('Stadthausstraße, Mainz', 'Wednesday', 467470),\n",
       " ('Stadthausstraße, Mainz', 'Thursday', 464027),\n",
       " ('Stadthausstraße, Mainz', 'Friday', 530924),\n",
       " ('Stadthausstraße, Mainz', 'Saturday', 681517),\n",
       " ('Stadthausstraße, Mainz', 'Sunday', 131871),\n",
       " ('Kaufingerstraße, München', 'Monday', 2093772),\n",
       " ('Kaufingerstraße, München', 'Tuesday', 2115750),\n",
       " ('Kaufingerstraße, München', 'Wednesday', 2178319),\n",
       " ('Kaufingerstraße, München', 'Thursday', 2110740),\n",
       " ('Kaufingerstraße, München', 'Friday', 2583378),\n",
       " ('Kaufingerstraße, München', 'Saturday', 3435825),\n",
       " ('Kaufingerstraße, München', 'Sunday', 999866),\n",
       " ('Kröpeliner Straße (West), Rostock', 'Monday', 1043995),\n",
       " ('Kröpeliner Straße (West), Rostock', 'Tuesday', 1071904),\n",
       " ('Kröpeliner Straße (West), Rostock', 'Wednesday', 1062328),\n",
       " ('Kröpeliner Straße (West), Rostock', 'Thursday', 980166),\n",
       " ('Kröpeliner Straße (West), Rostock', 'Friday', 1053610),\n",
       " ('Kröpeliner Straße (West), Rostock', 'Saturday', 1314423),\n",
       " ('Kröpeliner Straße (West), Rostock', 'Sunday', 313840),\n",
       " ('Bahnhofstraße (Mitte), Saarbrücken', 'Monday', 1379925),\n",
       " ('Bahnhofstraße (Mitte), Saarbrücken', 'Tuesday', 1368257),\n",
       " ('Bahnhofstraße (Mitte), Saarbrücken', 'Wednesday', 1430418),\n",
       " ('Bahnhofstraße (Mitte), Saarbrücken', 'Thursday', 1418654),\n",
       " ('Bahnhofstraße (Mitte), Saarbrücken', 'Friday', 1557115),\n",
       " ('Bahnhofstraße (Mitte), Saarbrücken', 'Saturday', 2102474),\n",
       " ('Bahnhofstraße (Mitte), Saarbrücken', 'Sunday', 582888),\n",
       " ('Königstraße (Mitte), Stuttgart', 'Monday', 910040),\n",
       " ('Königstraße (Mitte), Stuttgart', 'Tuesday', 974454),\n",
       " ('Königstraße (Mitte), Stuttgart', 'Wednesday', 941469),\n",
       " ('Königstraße (Mitte), Stuttgart', 'Thursday', 1030669),\n",
       " ('Königstraße (Mitte), Stuttgart', 'Friday', 1152830),\n",
       " ('Königstraße (Mitte), Stuttgart', 'Saturday', 1872983),\n",
       " ('Königstraße (Mitte), Stuttgart', 'Sunday', 698953)]"
      ]
     },
     "execution_count": 65,
     "metadata": {},
     "output_type": "execute_result"
    }
   ],
   "source": [
    "def sumOfYearPerWeekday(data, year):\n",
    "    result = [\n",
    "        \n",
    "    ]\n",
    "    weekdays = [\n",
    "        'Monday',\n",
    "        'Tuesday',\n",
    "        'Wednesday',\n",
    "        'Thursday',\n",
    "        'Friday',\n",
    "        'Saturday',\n",
    "        'Sunday'\n",
    "    ]\n",
    "    for city in data:\n",
    "        filteredByYear = city.loc[city['year'] == year]\n",
    "        for day in weekdays:\n",
    "            filteredByWeekday = filteredByYear.loc[city['weekday'] == day]\n",
    "            result.append((city['location'][0], day, filteredByWeekday['pedestrians'].sum()))\n",
    "\n",
    "    return result\n",
    "\n",
    "sumOfYearPerWeekday(data, 2021)"
   ]
  },
  {
   "cell_type": "code",
   "execution_count": 78,
   "id": "5bc64248",
   "metadata": {},
   "outputs": [
    {
     "name": "stdout",
     "output_type": "stream",
     "text": [
      "350676549\n",
      "21335.55701574264\n",
      "22757.927483458818\n"
     ]
    }
   ],
   "source": [
    "sumOverAllYear = sumOfYear(data, 2022) + sumOfYear(data, 2021) + sumOfYear(data, 2020)\n",
    "sumPersonOverAllYears = 0\n",
    "anzahlNuller = 0\n",
    "long_df = pd.DataFrame(sumOverAllYear, columns=['location', 'countp'])\n",
    "\n",
    "for persons in range(0,len(long_df.index)):\n",
    "    if long_df['countp'][persons] != 0:\n",
    "        sumPersonOverAllYears = sumPersonOverAllYears + long_df['countp'][persons]\n",
    "    else:\n",
    "        anzahlNuller = anzahlNuller + 1\n",
    "\n",
    "print(sumPersonOverAllYears) # alle personnen in allen unseren Zonen in allen Jahren\n",
    "\n",
    "# durch anzahl der Zonen / Durch anzahl der Jahre / Durch anzahl der Jahre \n",
    "sumPersonForADay = sumPersonOverAllYears / len(files) / 3 / 365.25\n",
    "print(sumPersonForADay)\n",
    "# Bereinigung der 0 jahre (3 nuller mit durschnittperosnen durch das jahr)\n",
    "sumPersonForADay = sumPersonForADay + (anzahlNuller * sumPersonForADay / (len(files) * 3)) \n",
    "print(sumPersonForADay)\n",
    "\n"
   ]
  },
  {
   "cell_type": "markdown",
   "id": "0c529be8",
   "metadata": {},
   "source": [
    "# Daten visualisieren"
   ]
  },
  {
   "cell_type": "code",
   "execution_count": 66,
   "id": "7690438a",
   "metadata": {},
   "outputs": [
    {
     "data": {
      "application/vnd.plotly.v1+json": {
       "config": {
        "plotlyServerURL": "https://plot.ly"
       },
       "data": [
        {
         "alignmentgroup": "True",
         "hovertemplate": "Ort=%{x}<br>Anzahl Fußübergänger=%{y}<extra></extra>",
         "legendgroup": "",
         "marker": {
          "color": "#636efa",
          "pattern": {
           "shape": ""
          }
         },
         "name": "",
         "offsetgroup": "",
         "orientation": "v",
         "showlegend": false,
         "textposition": "auto",
         "type": "bar",
         "x": [
          "Neue Schönhauser Straße, Berlin",
          "Obernstraße, Bremen",
          "Prager Straße (Nord), Dresden",
          "Königsallee Ostseite (Süd), Düsseldorf",
          "Marktstraße, Erfurt",
          "Zeil (Mitte), Frankfurt a.M.",
          "Leipziger Straße (West), Halle (Saale)",
          "Jungfernstieg, Hamburg",
          "Georgstraße, Hannover",
          "Holstenstraße (Mitte), Kiel",
          "Stadthausstraße, Mainz",
          "Kaufingerstraße, München",
          "Kröpeliner Straße (West), Rostock",
          "Bahnhofstraße (Mitte), Saarbrücken",
          "Königstraße (Mitte), Stuttgart"
         ],
         "xaxis": "x",
         "y": [
          0,
          4982057,
          9228970,
          3945411,
          0,
          16425932,
          226537,
          7643896,
          16434536,
          3732653,
          3676892,
          16588232,
          7503697,
          10485563,
          12594979
         ],
         "yaxis": "y"
        }
       ],
       "layout": {
        "barmode": "relative",
        "legend": {
         "tracegroupgap": 0
        },
        "template": {
         "data": {
          "bar": [
           {
            "error_x": {
             "color": "#2a3f5f"
            },
            "error_y": {
             "color": "#2a3f5f"
            },
            "marker": {
             "line": {
              "color": "#E5ECF6",
              "width": 0.5
             },
             "pattern": {
              "fillmode": "overlay",
              "size": 10,
              "solidity": 0.2
             }
            },
            "type": "bar"
           }
          ],
          "barpolar": [
           {
            "marker": {
             "line": {
              "color": "#E5ECF6",
              "width": 0.5
             },
             "pattern": {
              "fillmode": "overlay",
              "size": 10,
              "solidity": 0.2
             }
            },
            "type": "barpolar"
           }
          ],
          "carpet": [
           {
            "aaxis": {
             "endlinecolor": "#2a3f5f",
             "gridcolor": "white",
             "linecolor": "white",
             "minorgridcolor": "white",
             "startlinecolor": "#2a3f5f"
            },
            "baxis": {
             "endlinecolor": "#2a3f5f",
             "gridcolor": "white",
             "linecolor": "white",
             "minorgridcolor": "white",
             "startlinecolor": "#2a3f5f"
            },
            "type": "carpet"
           }
          ],
          "choropleth": [
           {
            "colorbar": {
             "outlinewidth": 0,
             "ticks": ""
            },
            "type": "choropleth"
           }
          ],
          "contour": [
           {
            "colorbar": {
             "outlinewidth": 0,
             "ticks": ""
            },
            "colorscale": [
             [
              0,
              "#0d0887"
             ],
             [
              0.1111111111111111,
              "#46039f"
             ],
             [
              0.2222222222222222,
              "#7201a8"
             ],
             [
              0.3333333333333333,
              "#9c179e"
             ],
             [
              0.4444444444444444,
              "#bd3786"
             ],
             [
              0.5555555555555556,
              "#d8576b"
             ],
             [
              0.6666666666666666,
              "#ed7953"
             ],
             [
              0.7777777777777778,
              "#fb9f3a"
             ],
             [
              0.8888888888888888,
              "#fdca26"
             ],
             [
              1,
              "#f0f921"
             ]
            ],
            "type": "contour"
           }
          ],
          "contourcarpet": [
           {
            "colorbar": {
             "outlinewidth": 0,
             "ticks": ""
            },
            "type": "contourcarpet"
           }
          ],
          "heatmap": [
           {
            "colorbar": {
             "outlinewidth": 0,
             "ticks": ""
            },
            "colorscale": [
             [
              0,
              "#0d0887"
             ],
             [
              0.1111111111111111,
              "#46039f"
             ],
             [
              0.2222222222222222,
              "#7201a8"
             ],
             [
              0.3333333333333333,
              "#9c179e"
             ],
             [
              0.4444444444444444,
              "#bd3786"
             ],
             [
              0.5555555555555556,
              "#d8576b"
             ],
             [
              0.6666666666666666,
              "#ed7953"
             ],
             [
              0.7777777777777778,
              "#fb9f3a"
             ],
             [
              0.8888888888888888,
              "#fdca26"
             ],
             [
              1,
              "#f0f921"
             ]
            ],
            "type": "heatmap"
           }
          ],
          "heatmapgl": [
           {
            "colorbar": {
             "outlinewidth": 0,
             "ticks": ""
            },
            "colorscale": [
             [
              0,
              "#0d0887"
             ],
             [
              0.1111111111111111,
              "#46039f"
             ],
             [
              0.2222222222222222,
              "#7201a8"
             ],
             [
              0.3333333333333333,
              "#9c179e"
             ],
             [
              0.4444444444444444,
              "#bd3786"
             ],
             [
              0.5555555555555556,
              "#d8576b"
             ],
             [
              0.6666666666666666,
              "#ed7953"
             ],
             [
              0.7777777777777778,
              "#fb9f3a"
             ],
             [
              0.8888888888888888,
              "#fdca26"
             ],
             [
              1,
              "#f0f921"
             ]
            ],
            "type": "heatmapgl"
           }
          ],
          "histogram": [
           {
            "marker": {
             "pattern": {
              "fillmode": "overlay",
              "size": 10,
              "solidity": 0.2
             }
            },
            "type": "histogram"
           }
          ],
          "histogram2d": [
           {
            "colorbar": {
             "outlinewidth": 0,
             "ticks": ""
            },
            "colorscale": [
             [
              0,
              "#0d0887"
             ],
             [
              0.1111111111111111,
              "#46039f"
             ],
             [
              0.2222222222222222,
              "#7201a8"
             ],
             [
              0.3333333333333333,
              "#9c179e"
             ],
             [
              0.4444444444444444,
              "#bd3786"
             ],
             [
              0.5555555555555556,
              "#d8576b"
             ],
             [
              0.6666666666666666,
              "#ed7953"
             ],
             [
              0.7777777777777778,
              "#fb9f3a"
             ],
             [
              0.8888888888888888,
              "#fdca26"
             ],
             [
              1,
              "#f0f921"
             ]
            ],
            "type": "histogram2d"
           }
          ],
          "histogram2dcontour": [
           {
            "colorbar": {
             "outlinewidth": 0,
             "ticks": ""
            },
            "colorscale": [
             [
              0,
              "#0d0887"
             ],
             [
              0.1111111111111111,
              "#46039f"
             ],
             [
              0.2222222222222222,
              "#7201a8"
             ],
             [
              0.3333333333333333,
              "#9c179e"
             ],
             [
              0.4444444444444444,
              "#bd3786"
             ],
             [
              0.5555555555555556,
              "#d8576b"
             ],
             [
              0.6666666666666666,
              "#ed7953"
             ],
             [
              0.7777777777777778,
              "#fb9f3a"
             ],
             [
              0.8888888888888888,
              "#fdca26"
             ],
             [
              1,
              "#f0f921"
             ]
            ],
            "type": "histogram2dcontour"
           }
          ],
          "mesh3d": [
           {
            "colorbar": {
             "outlinewidth": 0,
             "ticks": ""
            },
            "type": "mesh3d"
           }
          ],
          "parcoords": [
           {
            "line": {
             "colorbar": {
              "outlinewidth": 0,
              "ticks": ""
             }
            },
            "type": "parcoords"
           }
          ],
          "pie": [
           {
            "automargin": true,
            "type": "pie"
           }
          ],
          "scatter": [
           {
            "fillpattern": {
             "fillmode": "overlay",
             "size": 10,
             "solidity": 0.2
            },
            "type": "scatter"
           }
          ],
          "scatter3d": [
           {
            "line": {
             "colorbar": {
              "outlinewidth": 0,
              "ticks": ""
             }
            },
            "marker": {
             "colorbar": {
              "outlinewidth": 0,
              "ticks": ""
             }
            },
            "type": "scatter3d"
           }
          ],
          "scattercarpet": [
           {
            "marker": {
             "colorbar": {
              "outlinewidth": 0,
              "ticks": ""
             }
            },
            "type": "scattercarpet"
           }
          ],
          "scattergeo": [
           {
            "marker": {
             "colorbar": {
              "outlinewidth": 0,
              "ticks": ""
             }
            },
            "type": "scattergeo"
           }
          ],
          "scattergl": [
           {
            "marker": {
             "colorbar": {
              "outlinewidth": 0,
              "ticks": ""
             }
            },
            "type": "scattergl"
           }
          ],
          "scattermapbox": [
           {
            "marker": {
             "colorbar": {
              "outlinewidth": 0,
              "ticks": ""
             }
            },
            "type": "scattermapbox"
           }
          ],
          "scatterpolar": [
           {
            "marker": {
             "colorbar": {
              "outlinewidth": 0,
              "ticks": ""
             }
            },
            "type": "scatterpolar"
           }
          ],
          "scatterpolargl": [
           {
            "marker": {
             "colorbar": {
              "outlinewidth": 0,
              "ticks": ""
             }
            },
            "type": "scatterpolargl"
           }
          ],
          "scatterternary": [
           {
            "marker": {
             "colorbar": {
              "outlinewidth": 0,
              "ticks": ""
             }
            },
            "type": "scatterternary"
           }
          ],
          "surface": [
           {
            "colorbar": {
             "outlinewidth": 0,
             "ticks": ""
            },
            "colorscale": [
             [
              0,
              "#0d0887"
             ],
             [
              0.1111111111111111,
              "#46039f"
             ],
             [
              0.2222222222222222,
              "#7201a8"
             ],
             [
              0.3333333333333333,
              "#9c179e"
             ],
             [
              0.4444444444444444,
              "#bd3786"
             ],
             [
              0.5555555555555556,
              "#d8576b"
             ],
             [
              0.6666666666666666,
              "#ed7953"
             ],
             [
              0.7777777777777778,
              "#fb9f3a"
             ],
             [
              0.8888888888888888,
              "#fdca26"
             ],
             [
              1,
              "#f0f921"
             ]
            ],
            "type": "surface"
           }
          ],
          "table": [
           {
            "cells": {
             "fill": {
              "color": "#EBF0F8"
             },
             "line": {
              "color": "white"
             }
            },
            "header": {
             "fill": {
              "color": "#C8D4E3"
             },
             "line": {
              "color": "white"
             }
            },
            "type": "table"
           }
          ]
         },
         "layout": {
          "annotationdefaults": {
           "arrowcolor": "#2a3f5f",
           "arrowhead": 0,
           "arrowwidth": 1
          },
          "autotypenumbers": "strict",
          "coloraxis": {
           "colorbar": {
            "outlinewidth": 0,
            "ticks": ""
           }
          },
          "colorscale": {
           "diverging": [
            [
             0,
             "#8e0152"
            ],
            [
             0.1,
             "#c51b7d"
            ],
            [
             0.2,
             "#de77ae"
            ],
            [
             0.3,
             "#f1b6da"
            ],
            [
             0.4,
             "#fde0ef"
            ],
            [
             0.5,
             "#f7f7f7"
            ],
            [
             0.6,
             "#e6f5d0"
            ],
            [
             0.7,
             "#b8e186"
            ],
            [
             0.8,
             "#7fbc41"
            ],
            [
             0.9,
             "#4d9221"
            ],
            [
             1,
             "#276419"
            ]
           ],
           "sequential": [
            [
             0,
             "#0d0887"
            ],
            [
             0.1111111111111111,
             "#46039f"
            ],
            [
             0.2222222222222222,
             "#7201a8"
            ],
            [
             0.3333333333333333,
             "#9c179e"
            ],
            [
             0.4444444444444444,
             "#bd3786"
            ],
            [
             0.5555555555555556,
             "#d8576b"
            ],
            [
             0.6666666666666666,
             "#ed7953"
            ],
            [
             0.7777777777777778,
             "#fb9f3a"
            ],
            [
             0.8888888888888888,
             "#fdca26"
            ],
            [
             1,
             "#f0f921"
            ]
           ],
           "sequentialminus": [
            [
             0,
             "#0d0887"
            ],
            [
             0.1111111111111111,
             "#46039f"
            ],
            [
             0.2222222222222222,
             "#7201a8"
            ],
            [
             0.3333333333333333,
             "#9c179e"
            ],
            [
             0.4444444444444444,
             "#bd3786"
            ],
            [
             0.5555555555555556,
             "#d8576b"
            ],
            [
             0.6666666666666666,
             "#ed7953"
            ],
            [
             0.7777777777777778,
             "#fb9f3a"
            ],
            [
             0.8888888888888888,
             "#fdca26"
            ],
            [
             1,
             "#f0f921"
            ]
           ]
          },
          "colorway": [
           "#636efa",
           "#EF553B",
           "#00cc96",
           "#ab63fa",
           "#FFA15A",
           "#19d3f3",
           "#FF6692",
           "#B6E880",
           "#FF97FF",
           "#FECB52"
          ],
          "font": {
           "color": "#2a3f5f"
          },
          "geo": {
           "bgcolor": "white",
           "lakecolor": "white",
           "landcolor": "#E5ECF6",
           "showlakes": true,
           "showland": true,
           "subunitcolor": "white"
          },
          "hoverlabel": {
           "align": "left"
          },
          "hovermode": "closest",
          "mapbox": {
           "style": "light"
          },
          "paper_bgcolor": "white",
          "plot_bgcolor": "#E5ECF6",
          "polar": {
           "angularaxis": {
            "gridcolor": "white",
            "linecolor": "white",
            "ticks": ""
           },
           "bgcolor": "#E5ECF6",
           "radialaxis": {
            "gridcolor": "white",
            "linecolor": "white",
            "ticks": ""
           }
          },
          "scene": {
           "xaxis": {
            "backgroundcolor": "#E5ECF6",
            "gridcolor": "white",
            "gridwidth": 2,
            "linecolor": "white",
            "showbackground": true,
            "ticks": "",
            "zerolinecolor": "white"
           },
           "yaxis": {
            "backgroundcolor": "#E5ECF6",
            "gridcolor": "white",
            "gridwidth": 2,
            "linecolor": "white",
            "showbackground": true,
            "ticks": "",
            "zerolinecolor": "white"
           },
           "zaxis": {
            "backgroundcolor": "#E5ECF6",
            "gridcolor": "white",
            "gridwidth": 2,
            "linecolor": "white",
            "showbackground": true,
            "ticks": "",
            "zerolinecolor": "white"
           }
          },
          "shapedefaults": {
           "line": {
            "color": "#2a3f5f"
           }
          },
          "ternary": {
           "aaxis": {
            "gridcolor": "white",
            "linecolor": "white",
            "ticks": ""
           },
           "baxis": {
            "gridcolor": "white",
            "linecolor": "white",
            "ticks": ""
           },
           "bgcolor": "#E5ECF6",
           "caxis": {
            "gridcolor": "white",
            "linecolor": "white",
            "ticks": ""
           }
          },
          "title": {
           "x": 0.05
          },
          "xaxis": {
           "automargin": true,
           "gridcolor": "white",
           "linecolor": "white",
           "ticks": "",
           "title": {
            "standoff": 15
           },
           "zerolinecolor": "white",
           "zerolinewidth": 2
          },
          "yaxis": {
           "automargin": true,
           "gridcolor": "white",
           "linecolor": "white",
           "ticks": "",
           "title": {
            "standoff": 15
           },
           "zerolinecolor": "white",
           "zerolinewidth": 2
          }
         }
        },
        "title": {
         "text": "Absolute Zahlen 2020"
        },
        "xaxis": {
         "anchor": "y",
         "domain": [
          0,
          1
         ],
         "title": {
          "text": "Ort"
         }
        },
        "yaxis": {
         "anchor": "x",
         "domain": [
          0,
          1
         ],
         "title": {
          "text": "Anzahl Fußübergänger"
         }
        }
       }
      }
     },
     "metadata": {},
     "output_type": "display_data"
    }
   ],
   "source": [
    "absPed2020 = sumOfYear(data, 2020)\n",
    "fig = px.bar(absPed2020, x=[x[0] for x in absPed2020], y=[y[1] for y in absPed2020], title='Absolute Zahlen 2020', labels={'x' : 'Ort', 'y' : 'Anzahl Fußübergänger'})\n",
    "fig.show()"
   ]
  },
  {
   "cell_type": "code",
   "execution_count": 67,
   "id": "a45ccbc9",
   "metadata": {},
   "outputs": [
    {
     "data": {
      "application/vnd.plotly.v1+json": {
       "config": {
        "plotlyServerURL": "https://plot.ly"
       },
       "data": [
        {
         "alignmentgroup": "True",
         "hovertemplate": "Ort=%{x}<br>Anzahl Fußübergänger=%{y}<extra></extra>",
         "legendgroup": "",
         "marker": {
          "color": "#636efa",
          "pattern": {
           "shape": ""
          }
         },
         "name": "",
         "offsetgroup": "",
         "orientation": "v",
         "showlegend": false,
         "textposition": "auto",
         "type": "bar",
         "x": [
          "Neue Schönhauser Straße, Berlin",
          "Obernstraße, Bremen",
          "Prager Straße (Nord), Dresden",
          "Königsallee Ostseite (Süd), Düsseldorf",
          "Marktstraße, Erfurt",
          "Zeil (Mitte), Frankfurt a.M.",
          "Leipziger Straße (West), Halle (Saale)",
          "Jungfernstieg, Hamburg",
          "Georgstraße, Hannover",
          "Holstenstraße (Mitte), Kiel",
          "Stadthausstraße, Mainz",
          "Kaufingerstraße, München",
          "Kröpeliner Straße (West), Rostock",
          "Bahnhofstraße (Mitte), Saarbrücken",
          "Königstraße (Mitte), Stuttgart"
         ],
         "xaxis": "x",
         "y": [
          1189810,
          4923375,
          8298939,
          3579864,
          0,
          12529295,
          5496608,
          7379766,
          14034597,
          5033672,
          3215351,
          15517650,
          6840266,
          9839731,
          7581398
         ],
         "yaxis": "y"
        }
       ],
       "layout": {
        "barmode": "relative",
        "legend": {
         "tracegroupgap": 0
        },
        "template": {
         "data": {
          "bar": [
           {
            "error_x": {
             "color": "#2a3f5f"
            },
            "error_y": {
             "color": "#2a3f5f"
            },
            "marker": {
             "line": {
              "color": "#E5ECF6",
              "width": 0.5
             },
             "pattern": {
              "fillmode": "overlay",
              "size": 10,
              "solidity": 0.2
             }
            },
            "type": "bar"
           }
          ],
          "barpolar": [
           {
            "marker": {
             "line": {
              "color": "#E5ECF6",
              "width": 0.5
             },
             "pattern": {
              "fillmode": "overlay",
              "size": 10,
              "solidity": 0.2
             }
            },
            "type": "barpolar"
           }
          ],
          "carpet": [
           {
            "aaxis": {
             "endlinecolor": "#2a3f5f",
             "gridcolor": "white",
             "linecolor": "white",
             "minorgridcolor": "white",
             "startlinecolor": "#2a3f5f"
            },
            "baxis": {
             "endlinecolor": "#2a3f5f",
             "gridcolor": "white",
             "linecolor": "white",
             "minorgridcolor": "white",
             "startlinecolor": "#2a3f5f"
            },
            "type": "carpet"
           }
          ],
          "choropleth": [
           {
            "colorbar": {
             "outlinewidth": 0,
             "ticks": ""
            },
            "type": "choropleth"
           }
          ],
          "contour": [
           {
            "colorbar": {
             "outlinewidth": 0,
             "ticks": ""
            },
            "colorscale": [
             [
              0,
              "#0d0887"
             ],
             [
              0.1111111111111111,
              "#46039f"
             ],
             [
              0.2222222222222222,
              "#7201a8"
             ],
             [
              0.3333333333333333,
              "#9c179e"
             ],
             [
              0.4444444444444444,
              "#bd3786"
             ],
             [
              0.5555555555555556,
              "#d8576b"
             ],
             [
              0.6666666666666666,
              "#ed7953"
             ],
             [
              0.7777777777777778,
              "#fb9f3a"
             ],
             [
              0.8888888888888888,
              "#fdca26"
             ],
             [
              1,
              "#f0f921"
             ]
            ],
            "type": "contour"
           }
          ],
          "contourcarpet": [
           {
            "colorbar": {
             "outlinewidth": 0,
             "ticks": ""
            },
            "type": "contourcarpet"
           }
          ],
          "heatmap": [
           {
            "colorbar": {
             "outlinewidth": 0,
             "ticks": ""
            },
            "colorscale": [
             [
              0,
              "#0d0887"
             ],
             [
              0.1111111111111111,
              "#46039f"
             ],
             [
              0.2222222222222222,
              "#7201a8"
             ],
             [
              0.3333333333333333,
              "#9c179e"
             ],
             [
              0.4444444444444444,
              "#bd3786"
             ],
             [
              0.5555555555555556,
              "#d8576b"
             ],
             [
              0.6666666666666666,
              "#ed7953"
             ],
             [
              0.7777777777777778,
              "#fb9f3a"
             ],
             [
              0.8888888888888888,
              "#fdca26"
             ],
             [
              1,
              "#f0f921"
             ]
            ],
            "type": "heatmap"
           }
          ],
          "heatmapgl": [
           {
            "colorbar": {
             "outlinewidth": 0,
             "ticks": ""
            },
            "colorscale": [
             [
              0,
              "#0d0887"
             ],
             [
              0.1111111111111111,
              "#46039f"
             ],
             [
              0.2222222222222222,
              "#7201a8"
             ],
             [
              0.3333333333333333,
              "#9c179e"
             ],
             [
              0.4444444444444444,
              "#bd3786"
             ],
             [
              0.5555555555555556,
              "#d8576b"
             ],
             [
              0.6666666666666666,
              "#ed7953"
             ],
             [
              0.7777777777777778,
              "#fb9f3a"
             ],
             [
              0.8888888888888888,
              "#fdca26"
             ],
             [
              1,
              "#f0f921"
             ]
            ],
            "type": "heatmapgl"
           }
          ],
          "histogram": [
           {
            "marker": {
             "pattern": {
              "fillmode": "overlay",
              "size": 10,
              "solidity": 0.2
             }
            },
            "type": "histogram"
           }
          ],
          "histogram2d": [
           {
            "colorbar": {
             "outlinewidth": 0,
             "ticks": ""
            },
            "colorscale": [
             [
              0,
              "#0d0887"
             ],
             [
              0.1111111111111111,
              "#46039f"
             ],
             [
              0.2222222222222222,
              "#7201a8"
             ],
             [
              0.3333333333333333,
              "#9c179e"
             ],
             [
              0.4444444444444444,
              "#bd3786"
             ],
             [
              0.5555555555555556,
              "#d8576b"
             ],
             [
              0.6666666666666666,
              "#ed7953"
             ],
             [
              0.7777777777777778,
              "#fb9f3a"
             ],
             [
              0.8888888888888888,
              "#fdca26"
             ],
             [
              1,
              "#f0f921"
             ]
            ],
            "type": "histogram2d"
           }
          ],
          "histogram2dcontour": [
           {
            "colorbar": {
             "outlinewidth": 0,
             "ticks": ""
            },
            "colorscale": [
             [
              0,
              "#0d0887"
             ],
             [
              0.1111111111111111,
              "#46039f"
             ],
             [
              0.2222222222222222,
              "#7201a8"
             ],
             [
              0.3333333333333333,
              "#9c179e"
             ],
             [
              0.4444444444444444,
              "#bd3786"
             ],
             [
              0.5555555555555556,
              "#d8576b"
             ],
             [
              0.6666666666666666,
              "#ed7953"
             ],
             [
              0.7777777777777778,
              "#fb9f3a"
             ],
             [
              0.8888888888888888,
              "#fdca26"
             ],
             [
              1,
              "#f0f921"
             ]
            ],
            "type": "histogram2dcontour"
           }
          ],
          "mesh3d": [
           {
            "colorbar": {
             "outlinewidth": 0,
             "ticks": ""
            },
            "type": "mesh3d"
           }
          ],
          "parcoords": [
           {
            "line": {
             "colorbar": {
              "outlinewidth": 0,
              "ticks": ""
             }
            },
            "type": "parcoords"
           }
          ],
          "pie": [
           {
            "automargin": true,
            "type": "pie"
           }
          ],
          "scatter": [
           {
            "fillpattern": {
             "fillmode": "overlay",
             "size": 10,
             "solidity": 0.2
            },
            "type": "scatter"
           }
          ],
          "scatter3d": [
           {
            "line": {
             "colorbar": {
              "outlinewidth": 0,
              "ticks": ""
             }
            },
            "marker": {
             "colorbar": {
              "outlinewidth": 0,
              "ticks": ""
             }
            },
            "type": "scatter3d"
           }
          ],
          "scattercarpet": [
           {
            "marker": {
             "colorbar": {
              "outlinewidth": 0,
              "ticks": ""
             }
            },
            "type": "scattercarpet"
           }
          ],
          "scattergeo": [
           {
            "marker": {
             "colorbar": {
              "outlinewidth": 0,
              "ticks": ""
             }
            },
            "type": "scattergeo"
           }
          ],
          "scattergl": [
           {
            "marker": {
             "colorbar": {
              "outlinewidth": 0,
              "ticks": ""
             }
            },
            "type": "scattergl"
           }
          ],
          "scattermapbox": [
           {
            "marker": {
             "colorbar": {
              "outlinewidth": 0,
              "ticks": ""
             }
            },
            "type": "scattermapbox"
           }
          ],
          "scatterpolar": [
           {
            "marker": {
             "colorbar": {
              "outlinewidth": 0,
              "ticks": ""
             }
            },
            "type": "scatterpolar"
           }
          ],
          "scatterpolargl": [
           {
            "marker": {
             "colorbar": {
              "outlinewidth": 0,
              "ticks": ""
             }
            },
            "type": "scatterpolargl"
           }
          ],
          "scatterternary": [
           {
            "marker": {
             "colorbar": {
              "outlinewidth": 0,
              "ticks": ""
             }
            },
            "type": "scatterternary"
           }
          ],
          "surface": [
           {
            "colorbar": {
             "outlinewidth": 0,
             "ticks": ""
            },
            "colorscale": [
             [
              0,
              "#0d0887"
             ],
             [
              0.1111111111111111,
              "#46039f"
             ],
             [
              0.2222222222222222,
              "#7201a8"
             ],
             [
              0.3333333333333333,
              "#9c179e"
             ],
             [
              0.4444444444444444,
              "#bd3786"
             ],
             [
              0.5555555555555556,
              "#d8576b"
             ],
             [
              0.6666666666666666,
              "#ed7953"
             ],
             [
              0.7777777777777778,
              "#fb9f3a"
             ],
             [
              0.8888888888888888,
              "#fdca26"
             ],
             [
              1,
              "#f0f921"
             ]
            ],
            "type": "surface"
           }
          ],
          "table": [
           {
            "cells": {
             "fill": {
              "color": "#EBF0F8"
             },
             "line": {
              "color": "white"
             }
            },
            "header": {
             "fill": {
              "color": "#C8D4E3"
             },
             "line": {
              "color": "white"
             }
            },
            "type": "table"
           }
          ]
         },
         "layout": {
          "annotationdefaults": {
           "arrowcolor": "#2a3f5f",
           "arrowhead": 0,
           "arrowwidth": 1
          },
          "autotypenumbers": "strict",
          "coloraxis": {
           "colorbar": {
            "outlinewidth": 0,
            "ticks": ""
           }
          },
          "colorscale": {
           "diverging": [
            [
             0,
             "#8e0152"
            ],
            [
             0.1,
             "#c51b7d"
            ],
            [
             0.2,
             "#de77ae"
            ],
            [
             0.3,
             "#f1b6da"
            ],
            [
             0.4,
             "#fde0ef"
            ],
            [
             0.5,
             "#f7f7f7"
            ],
            [
             0.6,
             "#e6f5d0"
            ],
            [
             0.7,
             "#b8e186"
            ],
            [
             0.8,
             "#7fbc41"
            ],
            [
             0.9,
             "#4d9221"
            ],
            [
             1,
             "#276419"
            ]
           ],
           "sequential": [
            [
             0,
             "#0d0887"
            ],
            [
             0.1111111111111111,
             "#46039f"
            ],
            [
             0.2222222222222222,
             "#7201a8"
            ],
            [
             0.3333333333333333,
             "#9c179e"
            ],
            [
             0.4444444444444444,
             "#bd3786"
            ],
            [
             0.5555555555555556,
             "#d8576b"
            ],
            [
             0.6666666666666666,
             "#ed7953"
            ],
            [
             0.7777777777777778,
             "#fb9f3a"
            ],
            [
             0.8888888888888888,
             "#fdca26"
            ],
            [
             1,
             "#f0f921"
            ]
           ],
           "sequentialminus": [
            [
             0,
             "#0d0887"
            ],
            [
             0.1111111111111111,
             "#46039f"
            ],
            [
             0.2222222222222222,
             "#7201a8"
            ],
            [
             0.3333333333333333,
             "#9c179e"
            ],
            [
             0.4444444444444444,
             "#bd3786"
            ],
            [
             0.5555555555555556,
             "#d8576b"
            ],
            [
             0.6666666666666666,
             "#ed7953"
            ],
            [
             0.7777777777777778,
             "#fb9f3a"
            ],
            [
             0.8888888888888888,
             "#fdca26"
            ],
            [
             1,
             "#f0f921"
            ]
           ]
          },
          "colorway": [
           "#636efa",
           "#EF553B",
           "#00cc96",
           "#ab63fa",
           "#FFA15A",
           "#19d3f3",
           "#FF6692",
           "#B6E880",
           "#FF97FF",
           "#FECB52"
          ],
          "font": {
           "color": "#2a3f5f"
          },
          "geo": {
           "bgcolor": "white",
           "lakecolor": "white",
           "landcolor": "#E5ECF6",
           "showlakes": true,
           "showland": true,
           "subunitcolor": "white"
          },
          "hoverlabel": {
           "align": "left"
          },
          "hovermode": "closest",
          "mapbox": {
           "style": "light"
          },
          "paper_bgcolor": "white",
          "plot_bgcolor": "#E5ECF6",
          "polar": {
           "angularaxis": {
            "gridcolor": "white",
            "linecolor": "white",
            "ticks": ""
           },
           "bgcolor": "#E5ECF6",
           "radialaxis": {
            "gridcolor": "white",
            "linecolor": "white",
            "ticks": ""
           }
          },
          "scene": {
           "xaxis": {
            "backgroundcolor": "#E5ECF6",
            "gridcolor": "white",
            "gridwidth": 2,
            "linecolor": "white",
            "showbackground": true,
            "ticks": "",
            "zerolinecolor": "white"
           },
           "yaxis": {
            "backgroundcolor": "#E5ECF6",
            "gridcolor": "white",
            "gridwidth": 2,
            "linecolor": "white",
            "showbackground": true,
            "ticks": "",
            "zerolinecolor": "white"
           },
           "zaxis": {
            "backgroundcolor": "#E5ECF6",
            "gridcolor": "white",
            "gridwidth": 2,
            "linecolor": "white",
            "showbackground": true,
            "ticks": "",
            "zerolinecolor": "white"
           }
          },
          "shapedefaults": {
           "line": {
            "color": "#2a3f5f"
           }
          },
          "ternary": {
           "aaxis": {
            "gridcolor": "white",
            "linecolor": "white",
            "ticks": ""
           },
           "baxis": {
            "gridcolor": "white",
            "linecolor": "white",
            "ticks": ""
           },
           "bgcolor": "#E5ECF6",
           "caxis": {
            "gridcolor": "white",
            "linecolor": "white",
            "ticks": ""
           }
          },
          "title": {
           "x": 0.05
          },
          "xaxis": {
           "automargin": true,
           "gridcolor": "white",
           "linecolor": "white",
           "ticks": "",
           "title": {
            "standoff": 15
           },
           "zerolinecolor": "white",
           "zerolinewidth": 2
          },
          "yaxis": {
           "automargin": true,
           "gridcolor": "white",
           "linecolor": "white",
           "ticks": "",
           "title": {
            "standoff": 15
           },
           "zerolinecolor": "white",
           "zerolinewidth": 2
          }
         }
        },
        "title": {
         "text": "Absolute Zahlen 2021"
        },
        "xaxis": {
         "anchor": "y",
         "domain": [
          0,
          1
         ],
         "title": {
          "text": "Ort"
         }
        },
        "yaxis": {
         "anchor": "x",
         "domain": [
          0,
          1
         ],
         "title": {
          "text": "Anzahl Fußübergänger"
         }
        }
       }
      }
     },
     "metadata": {},
     "output_type": "display_data"
    }
   ],
   "source": [
    "absPed2021 = sumOfYear(data, 2021)\n",
    "fig = px.bar(absPed2021, x=[x[0] for x in absPed2021], y=[y[1] for y in absPed2021], title='Absolute Zahlen 2021', labels={'x' : 'Ort', 'y' : 'Anzahl Fußübergänger'})\n",
    "fig.show()"
   ]
  },
  {
   "cell_type": "code",
   "execution_count": 68,
   "id": "4226cf59",
   "metadata": {},
   "outputs": [
    {
     "data": {
      "application/vnd.plotly.v1+json": {
       "config": {
        "plotlyServerURL": "https://plot.ly"
       },
       "data": [
        {
         "alignmentgroup": "True",
         "hovertemplate": "Ort=%{x}<br>Anzahl Fußübergänger=%{y}<extra></extra>",
         "legendgroup": "",
         "marker": {
          "color": "#636efa",
          "pattern": {
           "shape": ""
          }
         },
         "name": "",
         "offsetgroup": "",
         "orientation": "v",
         "showlegend": false,
         "textposition": "auto",
         "type": "bar",
         "x": [
          "Neue Schönhauser Straße, Berlin",
          "Obernstraße, Bremen",
          "Prager Straße (Nord), Dresden",
          "Königsallee Ostseite (Süd), Düsseldorf",
          "Marktstraße, Erfurt",
          "Zeil (Mitte), Frankfurt a.M.",
          "Leipziger Straße (West), Halle (Saale)",
          "Jungfernstieg, Hamburg",
          "Georgstraße, Hannover",
          "Holstenstraße (Mitte), Kiel",
          "Stadthausstraße, Mainz",
          "Kaufingerstraße, München",
          "Kröpeliner Straße (West), Rostock",
          "Bahnhofstraße (Mitte), Saarbrücken",
          "Königstraße (Mitte), Stuttgart"
         ],
         "xaxis": "x",
         "y": [
          2191689,
          4575534,
          10095510,
          3899222,
          1756771,
          19675297,
          5810161,
          8462649,
          17237105,
          6273314,
          3377602,
          18446289,
          7149929,
          10434648,
          12361152
         ],
         "yaxis": "y"
        }
       ],
       "layout": {
        "barmode": "relative",
        "legend": {
         "tracegroupgap": 0
        },
        "template": {
         "data": {
          "bar": [
           {
            "error_x": {
             "color": "#2a3f5f"
            },
            "error_y": {
             "color": "#2a3f5f"
            },
            "marker": {
             "line": {
              "color": "#E5ECF6",
              "width": 0.5
             },
             "pattern": {
              "fillmode": "overlay",
              "size": 10,
              "solidity": 0.2
             }
            },
            "type": "bar"
           }
          ],
          "barpolar": [
           {
            "marker": {
             "line": {
              "color": "#E5ECF6",
              "width": 0.5
             },
             "pattern": {
              "fillmode": "overlay",
              "size": 10,
              "solidity": 0.2
             }
            },
            "type": "barpolar"
           }
          ],
          "carpet": [
           {
            "aaxis": {
             "endlinecolor": "#2a3f5f",
             "gridcolor": "white",
             "linecolor": "white",
             "minorgridcolor": "white",
             "startlinecolor": "#2a3f5f"
            },
            "baxis": {
             "endlinecolor": "#2a3f5f",
             "gridcolor": "white",
             "linecolor": "white",
             "minorgridcolor": "white",
             "startlinecolor": "#2a3f5f"
            },
            "type": "carpet"
           }
          ],
          "choropleth": [
           {
            "colorbar": {
             "outlinewidth": 0,
             "ticks": ""
            },
            "type": "choropleth"
           }
          ],
          "contour": [
           {
            "colorbar": {
             "outlinewidth": 0,
             "ticks": ""
            },
            "colorscale": [
             [
              0,
              "#0d0887"
             ],
             [
              0.1111111111111111,
              "#46039f"
             ],
             [
              0.2222222222222222,
              "#7201a8"
             ],
             [
              0.3333333333333333,
              "#9c179e"
             ],
             [
              0.4444444444444444,
              "#bd3786"
             ],
             [
              0.5555555555555556,
              "#d8576b"
             ],
             [
              0.6666666666666666,
              "#ed7953"
             ],
             [
              0.7777777777777778,
              "#fb9f3a"
             ],
             [
              0.8888888888888888,
              "#fdca26"
             ],
             [
              1,
              "#f0f921"
             ]
            ],
            "type": "contour"
           }
          ],
          "contourcarpet": [
           {
            "colorbar": {
             "outlinewidth": 0,
             "ticks": ""
            },
            "type": "contourcarpet"
           }
          ],
          "heatmap": [
           {
            "colorbar": {
             "outlinewidth": 0,
             "ticks": ""
            },
            "colorscale": [
             [
              0,
              "#0d0887"
             ],
             [
              0.1111111111111111,
              "#46039f"
             ],
             [
              0.2222222222222222,
              "#7201a8"
             ],
             [
              0.3333333333333333,
              "#9c179e"
             ],
             [
              0.4444444444444444,
              "#bd3786"
             ],
             [
              0.5555555555555556,
              "#d8576b"
             ],
             [
              0.6666666666666666,
              "#ed7953"
             ],
             [
              0.7777777777777778,
              "#fb9f3a"
             ],
             [
              0.8888888888888888,
              "#fdca26"
             ],
             [
              1,
              "#f0f921"
             ]
            ],
            "type": "heatmap"
           }
          ],
          "heatmapgl": [
           {
            "colorbar": {
             "outlinewidth": 0,
             "ticks": ""
            },
            "colorscale": [
             [
              0,
              "#0d0887"
             ],
             [
              0.1111111111111111,
              "#46039f"
             ],
             [
              0.2222222222222222,
              "#7201a8"
             ],
             [
              0.3333333333333333,
              "#9c179e"
             ],
             [
              0.4444444444444444,
              "#bd3786"
             ],
             [
              0.5555555555555556,
              "#d8576b"
             ],
             [
              0.6666666666666666,
              "#ed7953"
             ],
             [
              0.7777777777777778,
              "#fb9f3a"
             ],
             [
              0.8888888888888888,
              "#fdca26"
             ],
             [
              1,
              "#f0f921"
             ]
            ],
            "type": "heatmapgl"
           }
          ],
          "histogram": [
           {
            "marker": {
             "pattern": {
              "fillmode": "overlay",
              "size": 10,
              "solidity": 0.2
             }
            },
            "type": "histogram"
           }
          ],
          "histogram2d": [
           {
            "colorbar": {
             "outlinewidth": 0,
             "ticks": ""
            },
            "colorscale": [
             [
              0,
              "#0d0887"
             ],
             [
              0.1111111111111111,
              "#46039f"
             ],
             [
              0.2222222222222222,
              "#7201a8"
             ],
             [
              0.3333333333333333,
              "#9c179e"
             ],
             [
              0.4444444444444444,
              "#bd3786"
             ],
             [
              0.5555555555555556,
              "#d8576b"
             ],
             [
              0.6666666666666666,
              "#ed7953"
             ],
             [
              0.7777777777777778,
              "#fb9f3a"
             ],
             [
              0.8888888888888888,
              "#fdca26"
             ],
             [
              1,
              "#f0f921"
             ]
            ],
            "type": "histogram2d"
           }
          ],
          "histogram2dcontour": [
           {
            "colorbar": {
             "outlinewidth": 0,
             "ticks": ""
            },
            "colorscale": [
             [
              0,
              "#0d0887"
             ],
             [
              0.1111111111111111,
              "#46039f"
             ],
             [
              0.2222222222222222,
              "#7201a8"
             ],
             [
              0.3333333333333333,
              "#9c179e"
             ],
             [
              0.4444444444444444,
              "#bd3786"
             ],
             [
              0.5555555555555556,
              "#d8576b"
             ],
             [
              0.6666666666666666,
              "#ed7953"
             ],
             [
              0.7777777777777778,
              "#fb9f3a"
             ],
             [
              0.8888888888888888,
              "#fdca26"
             ],
             [
              1,
              "#f0f921"
             ]
            ],
            "type": "histogram2dcontour"
           }
          ],
          "mesh3d": [
           {
            "colorbar": {
             "outlinewidth": 0,
             "ticks": ""
            },
            "type": "mesh3d"
           }
          ],
          "parcoords": [
           {
            "line": {
             "colorbar": {
              "outlinewidth": 0,
              "ticks": ""
             }
            },
            "type": "parcoords"
           }
          ],
          "pie": [
           {
            "automargin": true,
            "type": "pie"
           }
          ],
          "scatter": [
           {
            "fillpattern": {
             "fillmode": "overlay",
             "size": 10,
             "solidity": 0.2
            },
            "type": "scatter"
           }
          ],
          "scatter3d": [
           {
            "line": {
             "colorbar": {
              "outlinewidth": 0,
              "ticks": ""
             }
            },
            "marker": {
             "colorbar": {
              "outlinewidth": 0,
              "ticks": ""
             }
            },
            "type": "scatter3d"
           }
          ],
          "scattercarpet": [
           {
            "marker": {
             "colorbar": {
              "outlinewidth": 0,
              "ticks": ""
             }
            },
            "type": "scattercarpet"
           }
          ],
          "scattergeo": [
           {
            "marker": {
             "colorbar": {
              "outlinewidth": 0,
              "ticks": ""
             }
            },
            "type": "scattergeo"
           }
          ],
          "scattergl": [
           {
            "marker": {
             "colorbar": {
              "outlinewidth": 0,
              "ticks": ""
             }
            },
            "type": "scattergl"
           }
          ],
          "scattermapbox": [
           {
            "marker": {
             "colorbar": {
              "outlinewidth": 0,
              "ticks": ""
             }
            },
            "type": "scattermapbox"
           }
          ],
          "scatterpolar": [
           {
            "marker": {
             "colorbar": {
              "outlinewidth": 0,
              "ticks": ""
             }
            },
            "type": "scatterpolar"
           }
          ],
          "scatterpolargl": [
           {
            "marker": {
             "colorbar": {
              "outlinewidth": 0,
              "ticks": ""
             }
            },
            "type": "scatterpolargl"
           }
          ],
          "scatterternary": [
           {
            "marker": {
             "colorbar": {
              "outlinewidth": 0,
              "ticks": ""
             }
            },
            "type": "scatterternary"
           }
          ],
          "surface": [
           {
            "colorbar": {
             "outlinewidth": 0,
             "ticks": ""
            },
            "colorscale": [
             [
              0,
              "#0d0887"
             ],
             [
              0.1111111111111111,
              "#46039f"
             ],
             [
              0.2222222222222222,
              "#7201a8"
             ],
             [
              0.3333333333333333,
              "#9c179e"
             ],
             [
              0.4444444444444444,
              "#bd3786"
             ],
             [
              0.5555555555555556,
              "#d8576b"
             ],
             [
              0.6666666666666666,
              "#ed7953"
             ],
             [
              0.7777777777777778,
              "#fb9f3a"
             ],
             [
              0.8888888888888888,
              "#fdca26"
             ],
             [
              1,
              "#f0f921"
             ]
            ],
            "type": "surface"
           }
          ],
          "table": [
           {
            "cells": {
             "fill": {
              "color": "#EBF0F8"
             },
             "line": {
              "color": "white"
             }
            },
            "header": {
             "fill": {
              "color": "#C8D4E3"
             },
             "line": {
              "color": "white"
             }
            },
            "type": "table"
           }
          ]
         },
         "layout": {
          "annotationdefaults": {
           "arrowcolor": "#2a3f5f",
           "arrowhead": 0,
           "arrowwidth": 1
          },
          "autotypenumbers": "strict",
          "coloraxis": {
           "colorbar": {
            "outlinewidth": 0,
            "ticks": ""
           }
          },
          "colorscale": {
           "diverging": [
            [
             0,
             "#8e0152"
            ],
            [
             0.1,
             "#c51b7d"
            ],
            [
             0.2,
             "#de77ae"
            ],
            [
             0.3,
             "#f1b6da"
            ],
            [
             0.4,
             "#fde0ef"
            ],
            [
             0.5,
             "#f7f7f7"
            ],
            [
             0.6,
             "#e6f5d0"
            ],
            [
             0.7,
             "#b8e186"
            ],
            [
             0.8,
             "#7fbc41"
            ],
            [
             0.9,
             "#4d9221"
            ],
            [
             1,
             "#276419"
            ]
           ],
           "sequential": [
            [
             0,
             "#0d0887"
            ],
            [
             0.1111111111111111,
             "#46039f"
            ],
            [
             0.2222222222222222,
             "#7201a8"
            ],
            [
             0.3333333333333333,
             "#9c179e"
            ],
            [
             0.4444444444444444,
             "#bd3786"
            ],
            [
             0.5555555555555556,
             "#d8576b"
            ],
            [
             0.6666666666666666,
             "#ed7953"
            ],
            [
             0.7777777777777778,
             "#fb9f3a"
            ],
            [
             0.8888888888888888,
             "#fdca26"
            ],
            [
             1,
             "#f0f921"
            ]
           ],
           "sequentialminus": [
            [
             0,
             "#0d0887"
            ],
            [
             0.1111111111111111,
             "#46039f"
            ],
            [
             0.2222222222222222,
             "#7201a8"
            ],
            [
             0.3333333333333333,
             "#9c179e"
            ],
            [
             0.4444444444444444,
             "#bd3786"
            ],
            [
             0.5555555555555556,
             "#d8576b"
            ],
            [
             0.6666666666666666,
             "#ed7953"
            ],
            [
             0.7777777777777778,
             "#fb9f3a"
            ],
            [
             0.8888888888888888,
             "#fdca26"
            ],
            [
             1,
             "#f0f921"
            ]
           ]
          },
          "colorway": [
           "#636efa",
           "#EF553B",
           "#00cc96",
           "#ab63fa",
           "#FFA15A",
           "#19d3f3",
           "#FF6692",
           "#B6E880",
           "#FF97FF",
           "#FECB52"
          ],
          "font": {
           "color": "#2a3f5f"
          },
          "geo": {
           "bgcolor": "white",
           "lakecolor": "white",
           "landcolor": "#E5ECF6",
           "showlakes": true,
           "showland": true,
           "subunitcolor": "white"
          },
          "hoverlabel": {
           "align": "left"
          },
          "hovermode": "closest",
          "mapbox": {
           "style": "light"
          },
          "paper_bgcolor": "white",
          "plot_bgcolor": "#E5ECF6",
          "polar": {
           "angularaxis": {
            "gridcolor": "white",
            "linecolor": "white",
            "ticks": ""
           },
           "bgcolor": "#E5ECF6",
           "radialaxis": {
            "gridcolor": "white",
            "linecolor": "white",
            "ticks": ""
           }
          },
          "scene": {
           "xaxis": {
            "backgroundcolor": "#E5ECF6",
            "gridcolor": "white",
            "gridwidth": 2,
            "linecolor": "white",
            "showbackground": true,
            "ticks": "",
            "zerolinecolor": "white"
           },
           "yaxis": {
            "backgroundcolor": "#E5ECF6",
            "gridcolor": "white",
            "gridwidth": 2,
            "linecolor": "white",
            "showbackground": true,
            "ticks": "",
            "zerolinecolor": "white"
           },
           "zaxis": {
            "backgroundcolor": "#E5ECF6",
            "gridcolor": "white",
            "gridwidth": 2,
            "linecolor": "white",
            "showbackground": true,
            "ticks": "",
            "zerolinecolor": "white"
           }
          },
          "shapedefaults": {
           "line": {
            "color": "#2a3f5f"
           }
          },
          "ternary": {
           "aaxis": {
            "gridcolor": "white",
            "linecolor": "white",
            "ticks": ""
           },
           "baxis": {
            "gridcolor": "white",
            "linecolor": "white",
            "ticks": ""
           },
           "bgcolor": "#E5ECF6",
           "caxis": {
            "gridcolor": "white",
            "linecolor": "white",
            "ticks": ""
           }
          },
          "title": {
           "x": 0.05
          },
          "xaxis": {
           "automargin": true,
           "gridcolor": "white",
           "linecolor": "white",
           "ticks": "",
           "title": {
            "standoff": 15
           },
           "zerolinecolor": "white",
           "zerolinewidth": 2
          },
          "yaxis": {
           "automargin": true,
           "gridcolor": "white",
           "linecolor": "white",
           "ticks": "",
           "title": {
            "standoff": 15
           },
           "zerolinecolor": "white",
           "zerolinewidth": 2
          }
         }
        },
        "title": {
         "text": "Absolute Zahlen 2022"
        },
        "xaxis": {
         "anchor": "y",
         "domain": [
          0,
          1
         ],
         "title": {
          "text": "Ort"
         }
        },
        "yaxis": {
         "anchor": "x",
         "domain": [
          0,
          1
         ],
         "title": {
          "text": "Anzahl Fußübergänger"
         }
        }
       }
      }
     },
     "metadata": {},
     "output_type": "display_data"
    }
   ],
   "source": [
    "absPed2022 = sumOfYear(data, 2022)\n",
    "fig2 = px.bar(absPed2022, x=[x[0] for x in absPed2022], y=[y[1] for y in absPed2022], title='Absolute Zahlen 2022', labels={'x' : 'Ort', 'y' : 'Anzahl Fußübergänger'})\n",
    "fig2.show()"
   ]
  },
  {
   "cell_type": "code",
   "execution_count": 69,
   "id": "e55b057e",
   "metadata": {},
   "outputs": [
    {
     "data": {
      "application/vnd.plotly.v1+json": {
       "config": {
        "plotlyServerURL": "https://plot.ly"
       },
       "data": [
        {
         "hovertemplate": "Ort=%{x}<br>Anzahl Fußübergänger=%{y}<br>z=%{z}<extra></extra>",
         "legendgroup": "",
         "marker": {
          "color": "#636efa",
          "symbol": "circle"
         },
         "mode": "markers",
         "name": "",
         "scene": "scene",
         "showlegend": false,
         "type": "scatter3d",
         "x": [
          "Neue Schönhauser Straße, Berlin",
          "Neue Schönhauser Straße, Berlin",
          "Neue Schönhauser Straße, Berlin",
          "Neue Schönhauser Straße, Berlin",
          "Neue Schönhauser Straße, Berlin",
          "Neue Schönhauser Straße, Berlin",
          "Neue Schönhauser Straße, Berlin",
          "Obernstraße, Bremen",
          "Obernstraße, Bremen",
          "Obernstraße, Bremen",
          "Obernstraße, Bremen",
          "Obernstraße, Bremen",
          "Obernstraße, Bremen",
          "Obernstraße, Bremen",
          "Prager Straße (Nord), Dresden",
          "Prager Straße (Nord), Dresden",
          "Prager Straße (Nord), Dresden",
          "Prager Straße (Nord), Dresden",
          "Prager Straße (Nord), Dresden",
          "Prager Straße (Nord), Dresden",
          "Prager Straße (Nord), Dresden",
          "Königsallee Ostseite (Süd), Düsseldorf",
          "Königsallee Ostseite (Süd), Düsseldorf",
          "Königsallee Ostseite (Süd), Düsseldorf",
          "Königsallee Ostseite (Süd), Düsseldorf",
          "Königsallee Ostseite (Süd), Düsseldorf",
          "Königsallee Ostseite (Süd), Düsseldorf",
          "Königsallee Ostseite (Süd), Düsseldorf",
          "Marktstraße, Erfurt",
          "Marktstraße, Erfurt",
          "Marktstraße, Erfurt",
          "Marktstraße, Erfurt",
          "Marktstraße, Erfurt",
          "Marktstraße, Erfurt",
          "Marktstraße, Erfurt",
          "Zeil (Mitte), Frankfurt a.M.",
          "Zeil (Mitte), Frankfurt a.M.",
          "Zeil (Mitte), Frankfurt a.M.",
          "Zeil (Mitte), Frankfurt a.M.",
          "Zeil (Mitte), Frankfurt a.M.",
          "Zeil (Mitte), Frankfurt a.M.",
          "Zeil (Mitte), Frankfurt a.M.",
          "Leipziger Straße (West), Halle (Saale)",
          "Leipziger Straße (West), Halle (Saale)",
          "Leipziger Straße (West), Halle (Saale)",
          "Leipziger Straße (West), Halle (Saale)",
          "Leipziger Straße (West), Halle (Saale)",
          "Leipziger Straße (West), Halle (Saale)",
          "Leipziger Straße (West), Halle (Saale)",
          "Jungfernstieg, Hamburg",
          "Jungfernstieg, Hamburg",
          "Jungfernstieg, Hamburg",
          "Jungfernstieg, Hamburg",
          "Jungfernstieg, Hamburg",
          "Jungfernstieg, Hamburg",
          "Jungfernstieg, Hamburg",
          "Georgstraße, Hannover",
          "Georgstraße, Hannover",
          "Georgstraße, Hannover",
          "Georgstraße, Hannover",
          "Georgstraße, Hannover",
          "Georgstraße, Hannover",
          "Georgstraße, Hannover",
          "Holstenstraße (Mitte), Kiel",
          "Holstenstraße (Mitte), Kiel",
          "Holstenstraße (Mitte), Kiel",
          "Holstenstraße (Mitte), Kiel",
          "Holstenstraße (Mitte), Kiel",
          "Holstenstraße (Mitte), Kiel",
          "Holstenstraße (Mitte), Kiel",
          "Stadthausstraße, Mainz",
          "Stadthausstraße, Mainz",
          "Stadthausstraße, Mainz",
          "Stadthausstraße, Mainz",
          "Stadthausstraße, Mainz",
          "Stadthausstraße, Mainz",
          "Stadthausstraße, Mainz",
          "Kaufingerstraße, München",
          "Kaufingerstraße, München",
          "Kaufingerstraße, München",
          "Kaufingerstraße, München",
          "Kaufingerstraße, München",
          "Kaufingerstraße, München",
          "Kaufingerstraße, München",
          "Kröpeliner Straße (West), Rostock",
          "Kröpeliner Straße (West), Rostock",
          "Kröpeliner Straße (West), Rostock",
          "Kröpeliner Straße (West), Rostock",
          "Kröpeliner Straße (West), Rostock",
          "Kröpeliner Straße (West), Rostock",
          "Kröpeliner Straße (West), Rostock",
          "Bahnhofstraße (Mitte), Saarbrücken",
          "Bahnhofstraße (Mitte), Saarbrücken",
          "Bahnhofstraße (Mitte), Saarbrücken",
          "Bahnhofstraße (Mitte), Saarbrücken",
          "Bahnhofstraße (Mitte), Saarbrücken",
          "Bahnhofstraße (Mitte), Saarbrücken",
          "Bahnhofstraße (Mitte), Saarbrücken",
          "Königstraße (Mitte), Stuttgart",
          "Königstraße (Mitte), Stuttgart",
          "Königstraße (Mitte), Stuttgart",
          "Königstraße (Mitte), Stuttgart",
          "Königstraße (Mitte), Stuttgart",
          "Königstraße (Mitte), Stuttgart",
          "Königstraße (Mitte), Stuttgart"
         ],
         "y": [
          "Monday",
          "Tuesday",
          "Wednesday",
          "Thursday",
          "Friday",
          "Saturday",
          "Sunday",
          "Monday",
          "Tuesday",
          "Wednesday",
          "Thursday",
          "Friday",
          "Saturday",
          "Sunday",
          "Monday",
          "Tuesday",
          "Wednesday",
          "Thursday",
          "Friday",
          "Saturday",
          "Sunday",
          "Monday",
          "Tuesday",
          "Wednesday",
          "Thursday",
          "Friday",
          "Saturday",
          "Sunday",
          "Monday",
          "Tuesday",
          "Wednesday",
          "Thursday",
          "Friday",
          "Saturday",
          "Sunday",
          "Monday",
          "Tuesday",
          "Wednesday",
          "Thursday",
          "Friday",
          "Saturday",
          "Sunday",
          "Monday",
          "Tuesday",
          "Wednesday",
          "Thursday",
          "Friday",
          "Saturday",
          "Sunday",
          "Monday",
          "Tuesday",
          "Wednesday",
          "Thursday",
          "Friday",
          "Saturday",
          "Sunday",
          "Monday",
          "Tuesday",
          "Wednesday",
          "Thursday",
          "Friday",
          "Saturday",
          "Sunday",
          "Monday",
          "Tuesday",
          "Wednesday",
          "Thursday",
          "Friday",
          "Saturday",
          "Sunday",
          "Monday",
          "Tuesday",
          "Wednesday",
          "Thursday",
          "Friday",
          "Saturday",
          "Sunday",
          "Monday",
          "Tuesday",
          "Wednesday",
          "Thursday",
          "Friday",
          "Saturday",
          "Sunday",
          "Monday",
          "Tuesday",
          "Wednesday",
          "Thursday",
          "Friday",
          "Saturday",
          "Sunday",
          "Monday",
          "Tuesday",
          "Wednesday",
          "Thursday",
          "Friday",
          "Saturday",
          "Sunday",
          "Monday",
          "Tuesday",
          "Wednesday",
          "Thursday",
          "Friday",
          "Saturday",
          "Sunday"
         ],
         "z": [
          304035,
          297457,
          301900,
          301091,
          348506,
          485000,
          153700,
          628846,
          672585,
          684133,
          635316,
          698738,
          1041248,
          214668,
          1320913,
          1371133,
          1380877,
          1336358,
          1565967,
          2360378,
          759884,
          495819,
          501581,
          518141,
          486798,
          606599,
          1015355,
          274929,
          240458,
          199431,
          207678,
          221498,
          266061,
          390591,
          231054,
          2637782,
          2485824,
          2602320,
          2694566,
          2997342,
          4908076,
          1349387,
          884109,
          914922,
          894249,
          847515,
          920676,
          1075060,
          273630,
          1164376,
          1223177,
          1230362,
          1204190,
          1335048,
          1845242,
          460254,
          2401780,
          2471222,
          2415484,
          2366144,
          2729963,
          3746944,
          1105568,
          861497,
          887636,
          849910,
          859311,
          948636,
          1277462,
          588862,
          484716,
          483744,
          480140,
          458359,
          534377,
          786905,
          149361,
          2493581,
          2426881,
          2506406,
          2422572,
          2939991,
          4330325,
          1326533,
          1034291,
          1093572,
          1047050,
          1019000,
          1115186,
          1510599,
          330231,
          1448290,
          1423111,
          1485015,
          1405646,
          1605248,
          2477724,
          589614,
          1582657,
          1505212,
          1534329,
          1502002,
          1829994,
          3313623,
          1093335
         ]
        }
       ],
       "layout": {
        "legend": {
         "tracegroupgap": 0
        },
        "scene": {
         "domain": {
          "x": [
           0,
           1
          ],
          "y": [
           0,
           1
          ]
         },
         "xaxis": {
          "title": {
           "text": "Ort"
          }
         },
         "yaxis": {
          "title": {
           "text": "Anzahl Fußübergänger"
          }
         },
         "zaxis": {
          "title": {
           "text": "z"
          }
         }
        },
        "template": {
         "data": {
          "bar": [
           {
            "error_x": {
             "color": "#2a3f5f"
            },
            "error_y": {
             "color": "#2a3f5f"
            },
            "marker": {
             "line": {
              "color": "#E5ECF6",
              "width": 0.5
             },
             "pattern": {
              "fillmode": "overlay",
              "size": 10,
              "solidity": 0.2
             }
            },
            "type": "bar"
           }
          ],
          "barpolar": [
           {
            "marker": {
             "line": {
              "color": "#E5ECF6",
              "width": 0.5
             },
             "pattern": {
              "fillmode": "overlay",
              "size": 10,
              "solidity": 0.2
             }
            },
            "type": "barpolar"
           }
          ],
          "carpet": [
           {
            "aaxis": {
             "endlinecolor": "#2a3f5f",
             "gridcolor": "white",
             "linecolor": "white",
             "minorgridcolor": "white",
             "startlinecolor": "#2a3f5f"
            },
            "baxis": {
             "endlinecolor": "#2a3f5f",
             "gridcolor": "white",
             "linecolor": "white",
             "minorgridcolor": "white",
             "startlinecolor": "#2a3f5f"
            },
            "type": "carpet"
           }
          ],
          "choropleth": [
           {
            "colorbar": {
             "outlinewidth": 0,
             "ticks": ""
            },
            "type": "choropleth"
           }
          ],
          "contour": [
           {
            "colorbar": {
             "outlinewidth": 0,
             "ticks": ""
            },
            "colorscale": [
             [
              0,
              "#0d0887"
             ],
             [
              0.1111111111111111,
              "#46039f"
             ],
             [
              0.2222222222222222,
              "#7201a8"
             ],
             [
              0.3333333333333333,
              "#9c179e"
             ],
             [
              0.4444444444444444,
              "#bd3786"
             ],
             [
              0.5555555555555556,
              "#d8576b"
             ],
             [
              0.6666666666666666,
              "#ed7953"
             ],
             [
              0.7777777777777778,
              "#fb9f3a"
             ],
             [
              0.8888888888888888,
              "#fdca26"
             ],
             [
              1,
              "#f0f921"
             ]
            ],
            "type": "contour"
           }
          ],
          "contourcarpet": [
           {
            "colorbar": {
             "outlinewidth": 0,
             "ticks": ""
            },
            "type": "contourcarpet"
           }
          ],
          "heatmap": [
           {
            "colorbar": {
             "outlinewidth": 0,
             "ticks": ""
            },
            "colorscale": [
             [
              0,
              "#0d0887"
             ],
             [
              0.1111111111111111,
              "#46039f"
             ],
             [
              0.2222222222222222,
              "#7201a8"
             ],
             [
              0.3333333333333333,
              "#9c179e"
             ],
             [
              0.4444444444444444,
              "#bd3786"
             ],
             [
              0.5555555555555556,
              "#d8576b"
             ],
             [
              0.6666666666666666,
              "#ed7953"
             ],
             [
              0.7777777777777778,
              "#fb9f3a"
             ],
             [
              0.8888888888888888,
              "#fdca26"
             ],
             [
              1,
              "#f0f921"
             ]
            ],
            "type": "heatmap"
           }
          ],
          "heatmapgl": [
           {
            "colorbar": {
             "outlinewidth": 0,
             "ticks": ""
            },
            "colorscale": [
             [
              0,
              "#0d0887"
             ],
             [
              0.1111111111111111,
              "#46039f"
             ],
             [
              0.2222222222222222,
              "#7201a8"
             ],
             [
              0.3333333333333333,
              "#9c179e"
             ],
             [
              0.4444444444444444,
              "#bd3786"
             ],
             [
              0.5555555555555556,
              "#d8576b"
             ],
             [
              0.6666666666666666,
              "#ed7953"
             ],
             [
              0.7777777777777778,
              "#fb9f3a"
             ],
             [
              0.8888888888888888,
              "#fdca26"
             ],
             [
              1,
              "#f0f921"
             ]
            ],
            "type": "heatmapgl"
           }
          ],
          "histogram": [
           {
            "marker": {
             "pattern": {
              "fillmode": "overlay",
              "size": 10,
              "solidity": 0.2
             }
            },
            "type": "histogram"
           }
          ],
          "histogram2d": [
           {
            "colorbar": {
             "outlinewidth": 0,
             "ticks": ""
            },
            "colorscale": [
             [
              0,
              "#0d0887"
             ],
             [
              0.1111111111111111,
              "#46039f"
             ],
             [
              0.2222222222222222,
              "#7201a8"
             ],
             [
              0.3333333333333333,
              "#9c179e"
             ],
             [
              0.4444444444444444,
              "#bd3786"
             ],
             [
              0.5555555555555556,
              "#d8576b"
             ],
             [
              0.6666666666666666,
              "#ed7953"
             ],
             [
              0.7777777777777778,
              "#fb9f3a"
             ],
             [
              0.8888888888888888,
              "#fdca26"
             ],
             [
              1,
              "#f0f921"
             ]
            ],
            "type": "histogram2d"
           }
          ],
          "histogram2dcontour": [
           {
            "colorbar": {
             "outlinewidth": 0,
             "ticks": ""
            },
            "colorscale": [
             [
              0,
              "#0d0887"
             ],
             [
              0.1111111111111111,
              "#46039f"
             ],
             [
              0.2222222222222222,
              "#7201a8"
             ],
             [
              0.3333333333333333,
              "#9c179e"
             ],
             [
              0.4444444444444444,
              "#bd3786"
             ],
             [
              0.5555555555555556,
              "#d8576b"
             ],
             [
              0.6666666666666666,
              "#ed7953"
             ],
             [
              0.7777777777777778,
              "#fb9f3a"
             ],
             [
              0.8888888888888888,
              "#fdca26"
             ],
             [
              1,
              "#f0f921"
             ]
            ],
            "type": "histogram2dcontour"
           }
          ],
          "mesh3d": [
           {
            "colorbar": {
             "outlinewidth": 0,
             "ticks": ""
            },
            "type": "mesh3d"
           }
          ],
          "parcoords": [
           {
            "line": {
             "colorbar": {
              "outlinewidth": 0,
              "ticks": ""
             }
            },
            "type": "parcoords"
           }
          ],
          "pie": [
           {
            "automargin": true,
            "type": "pie"
           }
          ],
          "scatter": [
           {
            "fillpattern": {
             "fillmode": "overlay",
             "size": 10,
             "solidity": 0.2
            },
            "type": "scatter"
           }
          ],
          "scatter3d": [
           {
            "line": {
             "colorbar": {
              "outlinewidth": 0,
              "ticks": ""
             }
            },
            "marker": {
             "colorbar": {
              "outlinewidth": 0,
              "ticks": ""
             }
            },
            "type": "scatter3d"
           }
          ],
          "scattercarpet": [
           {
            "marker": {
             "colorbar": {
              "outlinewidth": 0,
              "ticks": ""
             }
            },
            "type": "scattercarpet"
           }
          ],
          "scattergeo": [
           {
            "marker": {
             "colorbar": {
              "outlinewidth": 0,
              "ticks": ""
             }
            },
            "type": "scattergeo"
           }
          ],
          "scattergl": [
           {
            "marker": {
             "colorbar": {
              "outlinewidth": 0,
              "ticks": ""
             }
            },
            "type": "scattergl"
           }
          ],
          "scattermapbox": [
           {
            "marker": {
             "colorbar": {
              "outlinewidth": 0,
              "ticks": ""
             }
            },
            "type": "scattermapbox"
           }
          ],
          "scatterpolar": [
           {
            "marker": {
             "colorbar": {
              "outlinewidth": 0,
              "ticks": ""
             }
            },
            "type": "scatterpolar"
           }
          ],
          "scatterpolargl": [
           {
            "marker": {
             "colorbar": {
              "outlinewidth": 0,
              "ticks": ""
             }
            },
            "type": "scatterpolargl"
           }
          ],
          "scatterternary": [
           {
            "marker": {
             "colorbar": {
              "outlinewidth": 0,
              "ticks": ""
             }
            },
            "type": "scatterternary"
           }
          ],
          "surface": [
           {
            "colorbar": {
             "outlinewidth": 0,
             "ticks": ""
            },
            "colorscale": [
             [
              0,
              "#0d0887"
             ],
             [
              0.1111111111111111,
              "#46039f"
             ],
             [
              0.2222222222222222,
              "#7201a8"
             ],
             [
              0.3333333333333333,
              "#9c179e"
             ],
             [
              0.4444444444444444,
              "#bd3786"
             ],
             [
              0.5555555555555556,
              "#d8576b"
             ],
             [
              0.6666666666666666,
              "#ed7953"
             ],
             [
              0.7777777777777778,
              "#fb9f3a"
             ],
             [
              0.8888888888888888,
              "#fdca26"
             ],
             [
              1,
              "#f0f921"
             ]
            ],
            "type": "surface"
           }
          ],
          "table": [
           {
            "cells": {
             "fill": {
              "color": "#EBF0F8"
             },
             "line": {
              "color": "white"
             }
            },
            "header": {
             "fill": {
              "color": "#C8D4E3"
             },
             "line": {
              "color": "white"
             }
            },
            "type": "table"
           }
          ]
         },
         "layout": {
          "annotationdefaults": {
           "arrowcolor": "#2a3f5f",
           "arrowhead": 0,
           "arrowwidth": 1
          },
          "autotypenumbers": "strict",
          "coloraxis": {
           "colorbar": {
            "outlinewidth": 0,
            "ticks": ""
           }
          },
          "colorscale": {
           "diverging": [
            [
             0,
             "#8e0152"
            ],
            [
             0.1,
             "#c51b7d"
            ],
            [
             0.2,
             "#de77ae"
            ],
            [
             0.3,
             "#f1b6da"
            ],
            [
             0.4,
             "#fde0ef"
            ],
            [
             0.5,
             "#f7f7f7"
            ],
            [
             0.6,
             "#e6f5d0"
            ],
            [
             0.7,
             "#b8e186"
            ],
            [
             0.8,
             "#7fbc41"
            ],
            [
             0.9,
             "#4d9221"
            ],
            [
             1,
             "#276419"
            ]
           ],
           "sequential": [
            [
             0,
             "#0d0887"
            ],
            [
             0.1111111111111111,
             "#46039f"
            ],
            [
             0.2222222222222222,
             "#7201a8"
            ],
            [
             0.3333333333333333,
             "#9c179e"
            ],
            [
             0.4444444444444444,
             "#bd3786"
            ],
            [
             0.5555555555555556,
             "#d8576b"
            ],
            [
             0.6666666666666666,
             "#ed7953"
            ],
            [
             0.7777777777777778,
             "#fb9f3a"
            ],
            [
             0.8888888888888888,
             "#fdca26"
            ],
            [
             1,
             "#f0f921"
            ]
           ],
           "sequentialminus": [
            [
             0,
             "#0d0887"
            ],
            [
             0.1111111111111111,
             "#46039f"
            ],
            [
             0.2222222222222222,
             "#7201a8"
            ],
            [
             0.3333333333333333,
             "#9c179e"
            ],
            [
             0.4444444444444444,
             "#bd3786"
            ],
            [
             0.5555555555555556,
             "#d8576b"
            ],
            [
             0.6666666666666666,
             "#ed7953"
            ],
            [
             0.7777777777777778,
             "#fb9f3a"
            ],
            [
             0.8888888888888888,
             "#fdca26"
            ],
            [
             1,
             "#f0f921"
            ]
           ]
          },
          "colorway": [
           "#636efa",
           "#EF553B",
           "#00cc96",
           "#ab63fa",
           "#FFA15A",
           "#19d3f3",
           "#FF6692",
           "#B6E880",
           "#FF97FF",
           "#FECB52"
          ],
          "font": {
           "color": "#2a3f5f"
          },
          "geo": {
           "bgcolor": "white",
           "lakecolor": "white",
           "landcolor": "#E5ECF6",
           "showlakes": true,
           "showland": true,
           "subunitcolor": "white"
          },
          "hoverlabel": {
           "align": "left"
          },
          "hovermode": "closest",
          "mapbox": {
           "style": "light"
          },
          "paper_bgcolor": "white",
          "plot_bgcolor": "#E5ECF6",
          "polar": {
           "angularaxis": {
            "gridcolor": "white",
            "linecolor": "white",
            "ticks": ""
           },
           "bgcolor": "#E5ECF6",
           "radialaxis": {
            "gridcolor": "white",
            "linecolor": "white",
            "ticks": ""
           }
          },
          "scene": {
           "xaxis": {
            "backgroundcolor": "#E5ECF6",
            "gridcolor": "white",
            "gridwidth": 2,
            "linecolor": "white",
            "showbackground": true,
            "ticks": "",
            "zerolinecolor": "white"
           },
           "yaxis": {
            "backgroundcolor": "#E5ECF6",
            "gridcolor": "white",
            "gridwidth": 2,
            "linecolor": "white",
            "showbackground": true,
            "ticks": "",
            "zerolinecolor": "white"
           },
           "zaxis": {
            "backgroundcolor": "#E5ECF6",
            "gridcolor": "white",
            "gridwidth": 2,
            "linecolor": "white",
            "showbackground": true,
            "ticks": "",
            "zerolinecolor": "white"
           }
          },
          "shapedefaults": {
           "line": {
            "color": "#2a3f5f"
           }
          },
          "ternary": {
           "aaxis": {
            "gridcolor": "white",
            "linecolor": "white",
            "ticks": ""
           },
           "baxis": {
            "gridcolor": "white",
            "linecolor": "white",
            "ticks": ""
           },
           "bgcolor": "#E5ECF6",
           "caxis": {
            "gridcolor": "white",
            "linecolor": "white",
            "ticks": ""
           }
          },
          "title": {
           "x": 0.05
          },
          "xaxis": {
           "automargin": true,
           "gridcolor": "white",
           "linecolor": "white",
           "ticks": "",
           "title": {
            "standoff": 15
           },
           "zerolinecolor": "white",
           "zerolinewidth": 2
          },
          "yaxis": {
           "automargin": true,
           "gridcolor": "white",
           "linecolor": "white",
           "ticks": "",
           "title": {
            "standoff": 15
           },
           "zerolinecolor": "white",
           "zerolinewidth": 2
          }
         }
        },
        "title": {
         "text": "Absolute Zahlen 2022"
        }
       }
      }
     },
     "metadata": {},
     "output_type": "display_data"
    }
   ],
   "source": [
    "# Location mit Fußgänger auf Wochen\n",
    "\n",
    "weeklyPed2022 = sumOfYearPerWeekday(data, 2022)\n",
    "fig2 = px.scatter_3d(weeklyPed2022, x=[x[0] for x in weeklyPed2022], y=[y[1] for y in weeklyPed2022], z=[z[2] for z in weeklyPed2022], title='Absolute Zahlen 2022', labels={'x' : 'Ort', 'y' : 'Anzahl Fußübergänger'})\n",
    "fig2.show()"
   ]
  },
  {
   "cell_type": "code",
   "execution_count": 70,
   "id": "ea89f06c",
   "metadata": {},
   "outputs": [
    {
     "name": "stdout",
     "output_type": "stream",
     "text": [
      "                            location    weekday   countp\n",
      "0    Neue Schönhauser Straße, Berlin     Monday   304035\n",
      "1    Neue Schönhauser Straße, Berlin    Tuesday   297457\n",
      "2    Neue Schönhauser Straße, Berlin  Wednesday   301900\n",
      "3    Neue Schönhauser Straße, Berlin   Thursday   301091\n",
      "4    Neue Schönhauser Straße, Berlin     Friday   348506\n",
      "..                               ...        ...      ...\n",
      "100   Königstraße (Mitte), Stuttgart  Wednesday  1534329\n",
      "101   Königstraße (Mitte), Stuttgart   Thursday  1502002\n",
      "102   Königstraße (Mitte), Stuttgart     Friday  1829994\n",
      "103   Königstraße (Mitte), Stuttgart   Saturday  3313623\n",
      "104   Königstraße (Mitte), Stuttgart     Sunday  1093335\n",
      "\n",
      "[105 rows x 3 columns]\n"
     ]
    },
    {
     "data": {
      "application/vnd.plotly.v1+json": {
       "config": {
        "plotlyServerURL": "https://plot.ly"
       },
       "data": [
        {
         "alignmentgroup": "True",
         "hovertemplate": "location=Neue Schönhauser Straße, Berlin<br>weekday=%{x}<br>countp=%{y}<extra></extra>",
         "legendgroup": "Neue Schönhauser Straße, Berlin",
         "marker": {
          "color": "#636efa",
          "pattern": {
           "shape": ""
          }
         },
         "name": "Neue Schönhauser Straße, Berlin",
         "offsetgroup": "Neue Schönhauser Straße, Berlin",
         "orientation": "v",
         "showlegend": true,
         "textposition": "auto",
         "type": "bar",
         "x": [
          "Monday",
          "Tuesday",
          "Wednesday",
          "Thursday",
          "Friday",
          "Saturday",
          "Sunday"
         ],
         "xaxis": "x",
         "y": [
          304035,
          297457,
          301900,
          301091,
          348506,
          485000,
          153700
         ],
         "yaxis": "y"
        },
        {
         "alignmentgroup": "True",
         "hovertemplate": "location=Obernstraße, Bremen<br>weekday=%{x}<br>countp=%{y}<extra></extra>",
         "legendgroup": "Obernstraße, Bremen",
         "marker": {
          "color": "#EF553B",
          "pattern": {
           "shape": ""
          }
         },
         "name": "Obernstraße, Bremen",
         "offsetgroup": "Obernstraße, Bremen",
         "orientation": "v",
         "showlegend": true,
         "textposition": "auto",
         "type": "bar",
         "x": [
          "Monday",
          "Tuesday",
          "Wednesday",
          "Thursday",
          "Friday",
          "Saturday",
          "Sunday"
         ],
         "xaxis": "x",
         "y": [
          628846,
          672585,
          684133,
          635316,
          698738,
          1041248,
          214668
         ],
         "yaxis": "y"
        },
        {
         "alignmentgroup": "True",
         "hovertemplate": "location=Prager Straße (Nord), Dresden<br>weekday=%{x}<br>countp=%{y}<extra></extra>",
         "legendgroup": "Prager Straße (Nord), Dresden",
         "marker": {
          "color": "#00cc96",
          "pattern": {
           "shape": ""
          }
         },
         "name": "Prager Straße (Nord), Dresden",
         "offsetgroup": "Prager Straße (Nord), Dresden",
         "orientation": "v",
         "showlegend": true,
         "textposition": "auto",
         "type": "bar",
         "x": [
          "Monday",
          "Tuesday",
          "Wednesday",
          "Thursday",
          "Friday",
          "Saturday",
          "Sunday"
         ],
         "xaxis": "x",
         "y": [
          1320913,
          1371133,
          1380877,
          1336358,
          1565967,
          2360378,
          759884
         ],
         "yaxis": "y"
        },
        {
         "alignmentgroup": "True",
         "hovertemplate": "location=Königsallee Ostseite (Süd), Düsseldorf<br>weekday=%{x}<br>countp=%{y}<extra></extra>",
         "legendgroup": "Königsallee Ostseite (Süd), Düsseldorf",
         "marker": {
          "color": "#ab63fa",
          "pattern": {
           "shape": ""
          }
         },
         "name": "Königsallee Ostseite (Süd), Düsseldorf",
         "offsetgroup": "Königsallee Ostseite (Süd), Düsseldorf",
         "orientation": "v",
         "showlegend": true,
         "textposition": "auto",
         "type": "bar",
         "x": [
          "Monday",
          "Tuesday",
          "Wednesday",
          "Thursday",
          "Friday",
          "Saturday",
          "Sunday"
         ],
         "xaxis": "x",
         "y": [
          495819,
          501581,
          518141,
          486798,
          606599,
          1015355,
          274929
         ],
         "yaxis": "y"
        },
        {
         "alignmentgroup": "True",
         "hovertemplate": "location=Marktstraße, Erfurt<br>weekday=%{x}<br>countp=%{y}<extra></extra>",
         "legendgroup": "Marktstraße, Erfurt",
         "marker": {
          "color": "#FFA15A",
          "pattern": {
           "shape": ""
          }
         },
         "name": "Marktstraße, Erfurt",
         "offsetgroup": "Marktstraße, Erfurt",
         "orientation": "v",
         "showlegend": true,
         "textposition": "auto",
         "type": "bar",
         "x": [
          "Monday",
          "Tuesday",
          "Wednesday",
          "Thursday",
          "Friday",
          "Saturday",
          "Sunday"
         ],
         "xaxis": "x",
         "y": [
          240458,
          199431,
          207678,
          221498,
          266061,
          390591,
          231054
         ],
         "yaxis": "y"
        },
        {
         "alignmentgroup": "True",
         "hovertemplate": "location=Zeil (Mitte), Frankfurt a.M.<br>weekday=%{x}<br>countp=%{y}<extra></extra>",
         "legendgroup": "Zeil (Mitte), Frankfurt a.M.",
         "marker": {
          "color": "#19d3f3",
          "pattern": {
           "shape": ""
          }
         },
         "name": "Zeil (Mitte), Frankfurt a.M.",
         "offsetgroup": "Zeil (Mitte), Frankfurt a.M.",
         "orientation": "v",
         "showlegend": true,
         "textposition": "auto",
         "type": "bar",
         "x": [
          "Monday",
          "Tuesday",
          "Wednesday",
          "Thursday",
          "Friday",
          "Saturday",
          "Sunday"
         ],
         "xaxis": "x",
         "y": [
          2637782,
          2485824,
          2602320,
          2694566,
          2997342,
          4908076,
          1349387
         ],
         "yaxis": "y"
        },
        {
         "alignmentgroup": "True",
         "hovertemplate": "location=Leipziger Straße (West), Halle (Saale)<br>weekday=%{x}<br>countp=%{y}<extra></extra>",
         "legendgroup": "Leipziger Straße (West), Halle (Saale)",
         "marker": {
          "color": "#FF6692",
          "pattern": {
           "shape": ""
          }
         },
         "name": "Leipziger Straße (West), Halle (Saale)",
         "offsetgroup": "Leipziger Straße (West), Halle (Saale)",
         "orientation": "v",
         "showlegend": true,
         "textposition": "auto",
         "type": "bar",
         "x": [
          "Monday",
          "Tuesday",
          "Wednesday",
          "Thursday",
          "Friday",
          "Saturday",
          "Sunday"
         ],
         "xaxis": "x",
         "y": [
          884109,
          914922,
          894249,
          847515,
          920676,
          1075060,
          273630
         ],
         "yaxis": "y"
        },
        {
         "alignmentgroup": "True",
         "hovertemplate": "location=Jungfernstieg, Hamburg<br>weekday=%{x}<br>countp=%{y}<extra></extra>",
         "legendgroup": "Jungfernstieg, Hamburg",
         "marker": {
          "color": "#B6E880",
          "pattern": {
           "shape": ""
          }
         },
         "name": "Jungfernstieg, Hamburg",
         "offsetgroup": "Jungfernstieg, Hamburg",
         "orientation": "v",
         "showlegend": true,
         "textposition": "auto",
         "type": "bar",
         "x": [
          "Monday",
          "Tuesday",
          "Wednesday",
          "Thursday",
          "Friday",
          "Saturday",
          "Sunday"
         ],
         "xaxis": "x",
         "y": [
          1164376,
          1223177,
          1230362,
          1204190,
          1335048,
          1845242,
          460254
         ],
         "yaxis": "y"
        },
        {
         "alignmentgroup": "True",
         "hovertemplate": "location=Georgstraße, Hannover<br>weekday=%{x}<br>countp=%{y}<extra></extra>",
         "legendgroup": "Georgstraße, Hannover",
         "marker": {
          "color": "#FF97FF",
          "pattern": {
           "shape": ""
          }
         },
         "name": "Georgstraße, Hannover",
         "offsetgroup": "Georgstraße, Hannover",
         "orientation": "v",
         "showlegend": true,
         "textposition": "auto",
         "type": "bar",
         "x": [
          "Monday",
          "Tuesday",
          "Wednesday",
          "Thursday",
          "Friday",
          "Saturday",
          "Sunday"
         ],
         "xaxis": "x",
         "y": [
          2401780,
          2471222,
          2415484,
          2366144,
          2729963,
          3746944,
          1105568
         ],
         "yaxis": "y"
        },
        {
         "alignmentgroup": "True",
         "hovertemplate": "location=Holstenstraße (Mitte), Kiel<br>weekday=%{x}<br>countp=%{y}<extra></extra>",
         "legendgroup": "Holstenstraße (Mitte), Kiel",
         "marker": {
          "color": "#FECB52",
          "pattern": {
           "shape": ""
          }
         },
         "name": "Holstenstraße (Mitte), Kiel",
         "offsetgroup": "Holstenstraße (Mitte), Kiel",
         "orientation": "v",
         "showlegend": true,
         "textposition": "auto",
         "type": "bar",
         "x": [
          "Monday",
          "Tuesday",
          "Wednesday",
          "Thursday",
          "Friday",
          "Saturday",
          "Sunday"
         ],
         "xaxis": "x",
         "y": [
          861497,
          887636,
          849910,
          859311,
          948636,
          1277462,
          588862
         ],
         "yaxis": "y"
        },
        {
         "alignmentgroup": "True",
         "hovertemplate": "location=Stadthausstraße, Mainz<br>weekday=%{x}<br>countp=%{y}<extra></extra>",
         "legendgroup": "Stadthausstraße, Mainz",
         "marker": {
          "color": "#636efa",
          "pattern": {
           "shape": ""
          }
         },
         "name": "Stadthausstraße, Mainz",
         "offsetgroup": "Stadthausstraße, Mainz",
         "orientation": "v",
         "showlegend": true,
         "textposition": "auto",
         "type": "bar",
         "x": [
          "Monday",
          "Tuesday",
          "Wednesday",
          "Thursday",
          "Friday",
          "Saturday",
          "Sunday"
         ],
         "xaxis": "x",
         "y": [
          484716,
          483744,
          480140,
          458359,
          534377,
          786905,
          149361
         ],
         "yaxis": "y"
        },
        {
         "alignmentgroup": "True",
         "hovertemplate": "location=Kaufingerstraße, München<br>weekday=%{x}<br>countp=%{y}<extra></extra>",
         "legendgroup": "Kaufingerstraße, München",
         "marker": {
          "color": "#EF553B",
          "pattern": {
           "shape": ""
          }
         },
         "name": "Kaufingerstraße, München",
         "offsetgroup": "Kaufingerstraße, München",
         "orientation": "v",
         "showlegend": true,
         "textposition": "auto",
         "type": "bar",
         "x": [
          "Monday",
          "Tuesday",
          "Wednesday",
          "Thursday",
          "Friday",
          "Saturday",
          "Sunday"
         ],
         "xaxis": "x",
         "y": [
          2493581,
          2426881,
          2506406,
          2422572,
          2939991,
          4330325,
          1326533
         ],
         "yaxis": "y"
        },
        {
         "alignmentgroup": "True",
         "hovertemplate": "location=Kröpeliner Straße (West), Rostock<br>weekday=%{x}<br>countp=%{y}<extra></extra>",
         "legendgroup": "Kröpeliner Straße (West), Rostock",
         "marker": {
          "color": "#00cc96",
          "pattern": {
           "shape": ""
          }
         },
         "name": "Kröpeliner Straße (West), Rostock",
         "offsetgroup": "Kröpeliner Straße (West), Rostock",
         "orientation": "v",
         "showlegend": true,
         "textposition": "auto",
         "type": "bar",
         "x": [
          "Monday",
          "Tuesday",
          "Wednesday",
          "Thursday",
          "Friday",
          "Saturday",
          "Sunday"
         ],
         "xaxis": "x",
         "y": [
          1034291,
          1093572,
          1047050,
          1019000,
          1115186,
          1510599,
          330231
         ],
         "yaxis": "y"
        },
        {
         "alignmentgroup": "True",
         "hovertemplate": "location=Bahnhofstraße (Mitte), Saarbrücken<br>weekday=%{x}<br>countp=%{y}<extra></extra>",
         "legendgroup": "Bahnhofstraße (Mitte), Saarbrücken",
         "marker": {
          "color": "#ab63fa",
          "pattern": {
           "shape": ""
          }
         },
         "name": "Bahnhofstraße (Mitte), Saarbrücken",
         "offsetgroup": "Bahnhofstraße (Mitte), Saarbrücken",
         "orientation": "v",
         "showlegend": true,
         "textposition": "auto",
         "type": "bar",
         "x": [
          "Monday",
          "Tuesday",
          "Wednesday",
          "Thursday",
          "Friday",
          "Saturday",
          "Sunday"
         ],
         "xaxis": "x",
         "y": [
          1448290,
          1423111,
          1485015,
          1405646,
          1605248,
          2477724,
          589614
         ],
         "yaxis": "y"
        },
        {
         "alignmentgroup": "True",
         "hovertemplate": "location=Königstraße (Mitte), Stuttgart<br>weekday=%{x}<br>countp=%{y}<extra></extra>",
         "legendgroup": "Königstraße (Mitte), Stuttgart",
         "marker": {
          "color": "#FFA15A",
          "pattern": {
           "shape": ""
          }
         },
         "name": "Königstraße (Mitte), Stuttgart",
         "offsetgroup": "Königstraße (Mitte), Stuttgart",
         "orientation": "v",
         "showlegend": true,
         "textposition": "auto",
         "type": "bar",
         "x": [
          "Monday",
          "Tuesday",
          "Wednesday",
          "Thursday",
          "Friday",
          "Saturday",
          "Sunday"
         ],
         "xaxis": "x",
         "y": [
          1582657,
          1505212,
          1534329,
          1502002,
          1829994,
          3313623,
          1093335
         ],
         "yaxis": "y"
        }
       ],
       "layout": {
        "barmode": "relative",
        "legend": {
         "title": {
          "text": "location"
         },
         "tracegroupgap": 0
        },
        "margin": {
         "t": 60
        },
        "template": {
         "data": {
          "bar": [
           {
            "error_x": {
             "color": "#2a3f5f"
            },
            "error_y": {
             "color": "#2a3f5f"
            },
            "marker": {
             "line": {
              "color": "#E5ECF6",
              "width": 0.5
             },
             "pattern": {
              "fillmode": "overlay",
              "size": 10,
              "solidity": 0.2
             }
            },
            "type": "bar"
           }
          ],
          "barpolar": [
           {
            "marker": {
             "line": {
              "color": "#E5ECF6",
              "width": 0.5
             },
             "pattern": {
              "fillmode": "overlay",
              "size": 10,
              "solidity": 0.2
             }
            },
            "type": "barpolar"
           }
          ],
          "carpet": [
           {
            "aaxis": {
             "endlinecolor": "#2a3f5f",
             "gridcolor": "white",
             "linecolor": "white",
             "minorgridcolor": "white",
             "startlinecolor": "#2a3f5f"
            },
            "baxis": {
             "endlinecolor": "#2a3f5f",
             "gridcolor": "white",
             "linecolor": "white",
             "minorgridcolor": "white",
             "startlinecolor": "#2a3f5f"
            },
            "type": "carpet"
           }
          ],
          "choropleth": [
           {
            "colorbar": {
             "outlinewidth": 0,
             "ticks": ""
            },
            "type": "choropleth"
           }
          ],
          "contour": [
           {
            "colorbar": {
             "outlinewidth": 0,
             "ticks": ""
            },
            "colorscale": [
             [
              0,
              "#0d0887"
             ],
             [
              0.1111111111111111,
              "#46039f"
             ],
             [
              0.2222222222222222,
              "#7201a8"
             ],
             [
              0.3333333333333333,
              "#9c179e"
             ],
             [
              0.4444444444444444,
              "#bd3786"
             ],
             [
              0.5555555555555556,
              "#d8576b"
             ],
             [
              0.6666666666666666,
              "#ed7953"
             ],
             [
              0.7777777777777778,
              "#fb9f3a"
             ],
             [
              0.8888888888888888,
              "#fdca26"
             ],
             [
              1,
              "#f0f921"
             ]
            ],
            "type": "contour"
           }
          ],
          "contourcarpet": [
           {
            "colorbar": {
             "outlinewidth": 0,
             "ticks": ""
            },
            "type": "contourcarpet"
           }
          ],
          "heatmap": [
           {
            "colorbar": {
             "outlinewidth": 0,
             "ticks": ""
            },
            "colorscale": [
             [
              0,
              "#0d0887"
             ],
             [
              0.1111111111111111,
              "#46039f"
             ],
             [
              0.2222222222222222,
              "#7201a8"
             ],
             [
              0.3333333333333333,
              "#9c179e"
             ],
             [
              0.4444444444444444,
              "#bd3786"
             ],
             [
              0.5555555555555556,
              "#d8576b"
             ],
             [
              0.6666666666666666,
              "#ed7953"
             ],
             [
              0.7777777777777778,
              "#fb9f3a"
             ],
             [
              0.8888888888888888,
              "#fdca26"
             ],
             [
              1,
              "#f0f921"
             ]
            ],
            "type": "heatmap"
           }
          ],
          "heatmapgl": [
           {
            "colorbar": {
             "outlinewidth": 0,
             "ticks": ""
            },
            "colorscale": [
             [
              0,
              "#0d0887"
             ],
             [
              0.1111111111111111,
              "#46039f"
             ],
             [
              0.2222222222222222,
              "#7201a8"
             ],
             [
              0.3333333333333333,
              "#9c179e"
             ],
             [
              0.4444444444444444,
              "#bd3786"
             ],
             [
              0.5555555555555556,
              "#d8576b"
             ],
             [
              0.6666666666666666,
              "#ed7953"
             ],
             [
              0.7777777777777778,
              "#fb9f3a"
             ],
             [
              0.8888888888888888,
              "#fdca26"
             ],
             [
              1,
              "#f0f921"
             ]
            ],
            "type": "heatmapgl"
           }
          ],
          "histogram": [
           {
            "marker": {
             "pattern": {
              "fillmode": "overlay",
              "size": 10,
              "solidity": 0.2
             }
            },
            "type": "histogram"
           }
          ],
          "histogram2d": [
           {
            "colorbar": {
             "outlinewidth": 0,
             "ticks": ""
            },
            "colorscale": [
             [
              0,
              "#0d0887"
             ],
             [
              0.1111111111111111,
              "#46039f"
             ],
             [
              0.2222222222222222,
              "#7201a8"
             ],
             [
              0.3333333333333333,
              "#9c179e"
             ],
             [
              0.4444444444444444,
              "#bd3786"
             ],
             [
              0.5555555555555556,
              "#d8576b"
             ],
             [
              0.6666666666666666,
              "#ed7953"
             ],
             [
              0.7777777777777778,
              "#fb9f3a"
             ],
             [
              0.8888888888888888,
              "#fdca26"
             ],
             [
              1,
              "#f0f921"
             ]
            ],
            "type": "histogram2d"
           }
          ],
          "histogram2dcontour": [
           {
            "colorbar": {
             "outlinewidth": 0,
             "ticks": ""
            },
            "colorscale": [
             [
              0,
              "#0d0887"
             ],
             [
              0.1111111111111111,
              "#46039f"
             ],
             [
              0.2222222222222222,
              "#7201a8"
             ],
             [
              0.3333333333333333,
              "#9c179e"
             ],
             [
              0.4444444444444444,
              "#bd3786"
             ],
             [
              0.5555555555555556,
              "#d8576b"
             ],
             [
              0.6666666666666666,
              "#ed7953"
             ],
             [
              0.7777777777777778,
              "#fb9f3a"
             ],
             [
              0.8888888888888888,
              "#fdca26"
             ],
             [
              1,
              "#f0f921"
             ]
            ],
            "type": "histogram2dcontour"
           }
          ],
          "mesh3d": [
           {
            "colorbar": {
             "outlinewidth": 0,
             "ticks": ""
            },
            "type": "mesh3d"
           }
          ],
          "parcoords": [
           {
            "line": {
             "colorbar": {
              "outlinewidth": 0,
              "ticks": ""
             }
            },
            "type": "parcoords"
           }
          ],
          "pie": [
           {
            "automargin": true,
            "type": "pie"
           }
          ],
          "scatter": [
           {
            "fillpattern": {
             "fillmode": "overlay",
             "size": 10,
             "solidity": 0.2
            },
            "type": "scatter"
           }
          ],
          "scatter3d": [
           {
            "line": {
             "colorbar": {
              "outlinewidth": 0,
              "ticks": ""
             }
            },
            "marker": {
             "colorbar": {
              "outlinewidth": 0,
              "ticks": ""
             }
            },
            "type": "scatter3d"
           }
          ],
          "scattercarpet": [
           {
            "marker": {
             "colorbar": {
              "outlinewidth": 0,
              "ticks": ""
             }
            },
            "type": "scattercarpet"
           }
          ],
          "scattergeo": [
           {
            "marker": {
             "colorbar": {
              "outlinewidth": 0,
              "ticks": ""
             }
            },
            "type": "scattergeo"
           }
          ],
          "scattergl": [
           {
            "marker": {
             "colorbar": {
              "outlinewidth": 0,
              "ticks": ""
             }
            },
            "type": "scattergl"
           }
          ],
          "scattermapbox": [
           {
            "marker": {
             "colorbar": {
              "outlinewidth": 0,
              "ticks": ""
             }
            },
            "type": "scattermapbox"
           }
          ],
          "scatterpolar": [
           {
            "marker": {
             "colorbar": {
              "outlinewidth": 0,
              "ticks": ""
             }
            },
            "type": "scatterpolar"
           }
          ],
          "scatterpolargl": [
           {
            "marker": {
             "colorbar": {
              "outlinewidth": 0,
              "ticks": ""
             }
            },
            "type": "scatterpolargl"
           }
          ],
          "scatterternary": [
           {
            "marker": {
             "colorbar": {
              "outlinewidth": 0,
              "ticks": ""
             }
            },
            "type": "scatterternary"
           }
          ],
          "surface": [
           {
            "colorbar": {
             "outlinewidth": 0,
             "ticks": ""
            },
            "colorscale": [
             [
              0,
              "#0d0887"
             ],
             [
              0.1111111111111111,
              "#46039f"
             ],
             [
              0.2222222222222222,
              "#7201a8"
             ],
             [
              0.3333333333333333,
              "#9c179e"
             ],
             [
              0.4444444444444444,
              "#bd3786"
             ],
             [
              0.5555555555555556,
              "#d8576b"
             ],
             [
              0.6666666666666666,
              "#ed7953"
             ],
             [
              0.7777777777777778,
              "#fb9f3a"
             ],
             [
              0.8888888888888888,
              "#fdca26"
             ],
             [
              1,
              "#f0f921"
             ]
            ],
            "type": "surface"
           }
          ],
          "table": [
           {
            "cells": {
             "fill": {
              "color": "#EBF0F8"
             },
             "line": {
              "color": "white"
             }
            },
            "header": {
             "fill": {
              "color": "#C8D4E3"
             },
             "line": {
              "color": "white"
             }
            },
            "type": "table"
           }
          ]
         },
         "layout": {
          "annotationdefaults": {
           "arrowcolor": "#2a3f5f",
           "arrowhead": 0,
           "arrowwidth": 1
          },
          "autotypenumbers": "strict",
          "coloraxis": {
           "colorbar": {
            "outlinewidth": 0,
            "ticks": ""
           }
          },
          "colorscale": {
           "diverging": [
            [
             0,
             "#8e0152"
            ],
            [
             0.1,
             "#c51b7d"
            ],
            [
             0.2,
             "#de77ae"
            ],
            [
             0.3,
             "#f1b6da"
            ],
            [
             0.4,
             "#fde0ef"
            ],
            [
             0.5,
             "#f7f7f7"
            ],
            [
             0.6,
             "#e6f5d0"
            ],
            [
             0.7,
             "#b8e186"
            ],
            [
             0.8,
             "#7fbc41"
            ],
            [
             0.9,
             "#4d9221"
            ],
            [
             1,
             "#276419"
            ]
           ],
           "sequential": [
            [
             0,
             "#0d0887"
            ],
            [
             0.1111111111111111,
             "#46039f"
            ],
            [
             0.2222222222222222,
             "#7201a8"
            ],
            [
             0.3333333333333333,
             "#9c179e"
            ],
            [
             0.4444444444444444,
             "#bd3786"
            ],
            [
             0.5555555555555556,
             "#d8576b"
            ],
            [
             0.6666666666666666,
             "#ed7953"
            ],
            [
             0.7777777777777778,
             "#fb9f3a"
            ],
            [
             0.8888888888888888,
             "#fdca26"
            ],
            [
             1,
             "#f0f921"
            ]
           ],
           "sequentialminus": [
            [
             0,
             "#0d0887"
            ],
            [
             0.1111111111111111,
             "#46039f"
            ],
            [
             0.2222222222222222,
             "#7201a8"
            ],
            [
             0.3333333333333333,
             "#9c179e"
            ],
            [
             0.4444444444444444,
             "#bd3786"
            ],
            [
             0.5555555555555556,
             "#d8576b"
            ],
            [
             0.6666666666666666,
             "#ed7953"
            ],
            [
             0.7777777777777778,
             "#fb9f3a"
            ],
            [
             0.8888888888888888,
             "#fdca26"
            ],
            [
             1,
             "#f0f921"
            ]
           ]
          },
          "colorway": [
           "#636efa",
           "#EF553B",
           "#00cc96",
           "#ab63fa",
           "#FFA15A",
           "#19d3f3",
           "#FF6692",
           "#B6E880",
           "#FF97FF",
           "#FECB52"
          ],
          "font": {
           "color": "#2a3f5f"
          },
          "geo": {
           "bgcolor": "white",
           "lakecolor": "white",
           "landcolor": "#E5ECF6",
           "showlakes": true,
           "showland": true,
           "subunitcolor": "white"
          },
          "hoverlabel": {
           "align": "left"
          },
          "hovermode": "closest",
          "mapbox": {
           "style": "light"
          },
          "paper_bgcolor": "white",
          "plot_bgcolor": "#E5ECF6",
          "polar": {
           "angularaxis": {
            "gridcolor": "white",
            "linecolor": "white",
            "ticks": ""
           },
           "bgcolor": "#E5ECF6",
           "radialaxis": {
            "gridcolor": "white",
            "linecolor": "white",
            "ticks": ""
           }
          },
          "scene": {
           "xaxis": {
            "backgroundcolor": "#E5ECF6",
            "gridcolor": "white",
            "gridwidth": 2,
            "linecolor": "white",
            "showbackground": true,
            "ticks": "",
            "zerolinecolor": "white"
           },
           "yaxis": {
            "backgroundcolor": "#E5ECF6",
            "gridcolor": "white",
            "gridwidth": 2,
            "linecolor": "white",
            "showbackground": true,
            "ticks": "",
            "zerolinecolor": "white"
           },
           "zaxis": {
            "backgroundcolor": "#E5ECF6",
            "gridcolor": "white",
            "gridwidth": 2,
            "linecolor": "white",
            "showbackground": true,
            "ticks": "",
            "zerolinecolor": "white"
           }
          },
          "shapedefaults": {
           "line": {
            "color": "#2a3f5f"
           }
          },
          "ternary": {
           "aaxis": {
            "gridcolor": "white",
            "linecolor": "white",
            "ticks": ""
           },
           "baxis": {
            "gridcolor": "white",
            "linecolor": "white",
            "ticks": ""
           },
           "bgcolor": "#E5ECF6",
           "caxis": {
            "gridcolor": "white",
            "linecolor": "white",
            "ticks": ""
           }
          },
          "title": {
           "x": 0.05
          },
          "xaxis": {
           "automargin": true,
           "gridcolor": "white",
           "linecolor": "white",
           "ticks": "",
           "title": {
            "standoff": 15
           },
           "zerolinecolor": "white",
           "zerolinewidth": 2
          },
          "yaxis": {
           "automargin": true,
           "gridcolor": "white",
           "linecolor": "white",
           "ticks": "",
           "title": {
            "standoff": 15
           },
           "zerolinecolor": "white",
           "zerolinewidth": 2
          }
         }
        },
        "xaxis": {
         "anchor": "y",
         "domain": [
          0,
          1
         ],
         "title": {
          "text": "weekday"
         }
        },
        "yaxis": {
         "anchor": "x",
         "domain": [
          0,
          1
         ],
         "title": {
          "text": "countp"
         }
        }
       }
      }
     },
     "metadata": {},
     "output_type": "display_data"
    }
   ],
   "source": [
    "weeklyPed2022 = sumOfYearPerWeekday(data, 2022)\n",
    "\n",
    "long_df = pd.DataFrame(weeklyPed2022, columns=['location', 'weekday', 'countp'])\n",
    "print(long_df)\n",
    "fig = px.bar(long_df, x='weekday', y='countp', color=\"location\")\n",
    "fig.show()"
   ]
  },
  {
   "cell_type": "markdown",
   "id": "0abd05ca",
   "metadata": {},
   "source": [
    "## Winter Sommer Jahreszeiten"
   ]
  },
  {
   "cell_type": "markdown",
   "id": "4a2d94fc",
   "metadata": {},
   "source": [
    "### Große Events vgl. zu normalen Tagen (einem durschnittstag) "
   ]
  },
  {
   "cell_type": "markdown",
   "id": "aa1c72ff",
   "metadata": {},
   "source": [
    "### Corona vergleich"
   ]
  },
  {
   "cell_type": "markdown",
   "id": "71818c84",
   "metadata": {},
   "source": [
    "## Wetter (Bevölk, Regen)"
   ]
  }
 ],
 "metadata": {
  "kernelspec": {
   "display_name": "Python 3.10.5 64-bit",
   "language": "python",
   "name": "python3"
  },
  "language_info": {
   "codemirror_mode": {
    "name": "ipython",
    "version": 3
   },
   "file_extension": ".py",
   "mimetype": "text/x-python",
   "name": "python",
   "nbconvert_exporter": "python",
   "pygments_lexer": "ipython3",
   "version": "3.10.5"
  },
  "vscode": {
   "interpreter": {
    "hash": "2dbb9d52ce5138624296c297f9462a1a15e3a9f1ada80f4e9b0bea646690aaaf"
   }
  }
 },
 "nbformat": 4,
 "nbformat_minor": 5
}
